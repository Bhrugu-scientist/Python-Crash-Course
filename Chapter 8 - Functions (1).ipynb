{
 "cells": [
  {
   "cell_type": "code",
   "execution_count": 63,
   "metadata": {},
   "outputs": [],
   "source": [
    "## Defining a function"
   ]
  },
  {
   "cell_type": "code",
   "execution_count": 64,
   "metadata": {},
   "outputs": [],
   "source": [
    "def greet_user():\n",
    "    \"\"\"Display a simple greeting \"\"\"\n",
    "    print(\"hello\")"
   ]
  },
  {
   "cell_type": "code",
   "execution_count": 65,
   "metadata": {},
   "outputs": [
    {
     "name": "stdout",
     "output_type": "stream",
     "text": [
      "hello\n"
     ]
    }
   ],
   "source": [
    "greet_user()"
   ]
  },
  {
   "cell_type": "code",
   "execution_count": 66,
   "metadata": {},
   "outputs": [],
   "source": [
    "## Passing information to a Fiunction"
   ]
  },
  {
   "cell_type": "code",
   "execution_count": 67,
   "metadata": {},
   "outputs": [
    {
     "name": "stdout",
     "output_type": "stream",
     "text": [
      "Hello, Bugu!\n"
     ]
    }
   ],
   "source": [
    "def greet_user(username):\n",
    "    print(f\"Hello, {username.title()}!\")\n",
    "    \n",
    "greet_user('bugu')\n"
   ]
  },
  {
   "cell_type": "code",
   "execution_count": 68,
   "metadata": {},
   "outputs": [],
   "source": [
    "## Arguments & Parameters"
   ]
  },
  {
   "cell_type": "code",
   "execution_count": 69,
   "metadata": {},
   "outputs": [],
   "source": [
    "def display_message():\n",
    "    print(\"Hello, I'm learning functions in Chapter 8 of Python Crash Course\")"
   ]
  },
  {
   "cell_type": "code",
   "execution_count": 70,
   "metadata": {},
   "outputs": [
    {
     "name": "stdout",
     "output_type": "stream",
     "text": [
      "Hello, I'm learning functions in Chapter 8 of Python Crash Course\n"
     ]
    }
   ],
   "source": [
    "display_message()"
   ]
  },
  {
   "cell_type": "code",
   "execution_count": 71,
   "metadata": {},
   "outputs": [],
   "source": [
    "def favorite_book(name):\n",
    "    print(f\"One of my favorite books is {name}!\")"
   ]
  },
  {
   "cell_type": "code",
   "execution_count": 72,
   "metadata": {},
   "outputs": [
    {
     "name": "stdout",
     "output_type": "stream",
     "text": [
      "One of my favorite books is Harry Potter!\n"
     ]
    }
   ],
   "source": [
    "favorite_book('Harry Potter')"
   ]
  },
  {
   "cell_type": "code",
   "execution_count": 73,
   "metadata": {},
   "outputs": [],
   "source": [
    "## Passing Arguments"
   ]
  },
  {
   "cell_type": "code",
   "execution_count": 74,
   "metadata": {},
   "outputs": [],
   "source": [
    "##         Positional Arguments"
   ]
  },
  {
   "cell_type": "code",
   "execution_count": 75,
   "metadata": {},
   "outputs": [],
   "source": [
    "def describe_pet(pet_type, name):\n",
    "    print(f\"My pets name is {name.title()}.\")\n",
    "    print(f\"My pets breed is {pet_type.title()}.\")\n",
    "    "
   ]
  },
  {
   "cell_type": "code",
   "execution_count": 76,
   "metadata": {},
   "outputs": [
    {
     "name": "stdout",
     "output_type": "stream",
     "text": [
      "My pets name is Don.\n",
      "My pets breed is Husky.\n"
     ]
    }
   ],
   "source": [
    "describe_pet(\"Husky\",\"Don\")"
   ]
  },
  {
   "cell_type": "code",
   "execution_count": 77,
   "metadata": {},
   "outputs": [],
   "source": [
    "## Multiple function calls"
   ]
  },
  {
   "cell_type": "code",
   "execution_count": 78,
   "metadata": {},
   "outputs": [],
   "source": [
    "def describe_pet(name, pet_type):\n",
    "    print(f\" \\nI have a {name.title()}.\")\n",
    "    print(f\"{name.title()}'s name is {pet_type.title()}.\")      "
   ]
  },
  {
   "cell_type": "code",
   "execution_count": 79,
   "metadata": {},
   "outputs": [
    {
     "name": "stdout",
     "output_type": "stream",
     "text": [
      " \n",
      "I have a Husky.\n",
      "Husky's name is Don.\n",
      " \n",
      "I have a French_Mastiff.\n",
      "French_Mastiff's name is Diesel.\n"
     ]
    }
   ],
   "source": [
    "describe_pet('husky','don')\n",
    "describe_pet('french_mastiff','diesel')"
   ]
  },
  {
   "cell_type": "code",
   "execution_count": 80,
   "metadata": {},
   "outputs": [
    {
     "name": "stdout",
     "output_type": "stream",
     "text": [
      " I have a Husky.\n",
      " Husky's name is Don.\n"
     ]
    }
   ],
   "source": [
    "def describe_pet(pet_type, name):\n",
    "    print(f\" I have a {pet_type.title()}.\")\n",
    "    print(f\" {pet_type.title()}'s name is {name.title()}.\")\n",
    "    \n",
    "describe_pet(pet_type = 'husky',name = 'don')"
   ]
  },
  {
   "cell_type": "code",
   "execution_count": 81,
   "metadata": {},
   "outputs": [],
   "source": [
    "## Default Values"
   ]
  },
  {
   "cell_type": "code",
   "execution_count": 82,
   "metadata": {},
   "outputs": [
    {
     "name": "stdout",
     "output_type": "stream",
     "text": [
      " I have a Dog.\n",
      " Dog's name is Don.\n"
     ]
    }
   ],
   "source": [
    "def describe_pet(pet_name, pet_type = 'dog' ):\n",
    "    print(f\" I have a {pet_type.title()}.\")\n",
    "    print(f\" {pet_type.title()}'s name is {pet_name.title()}.\")\n",
    "    \n",
    "describe_pet(pet_name = 'don')"
   ]
  },
  {
   "cell_type": "code",
   "execution_count": 83,
   "metadata": {},
   "outputs": [
    {
     "name": "stdout",
     "output_type": "stream",
     "text": [
      " I have a Dog.\n",
      " Dog's name is Willie.\n"
     ]
    }
   ],
   "source": [
    "describe_pet('willie')"
   ]
  },
  {
   "cell_type": "code",
   "execution_count": 84,
   "metadata": {},
   "outputs": [],
   "source": [
    "## Equivalent Function Calls"
   ]
  },
  {
   "cell_type": "code",
   "execution_count": 85,
   "metadata": {},
   "outputs": [],
   "source": [
    "## DIY Exercise"
   ]
  },
  {
   "cell_type": "code",
   "execution_count": 86,
   "metadata": {},
   "outputs": [],
   "source": [
    "## 1) T-shirt"
   ]
  },
  {
   "cell_type": "code",
   "execution_count": 87,
   "metadata": {},
   "outputs": [
    {
     "name": "stdout",
     "output_type": "stream",
     "text": [
      "I'm going to make a t-shirt of size 32.\n",
      "\n",
      "\t The t-shirt will say BACK OFF 6 FEET.\n"
     ]
    }
   ],
   "source": [
    "def make_tshirt(size, text):\n",
    "    print(f\"I'm going to make a t-shirt of size {size}.\")\n",
    "    print(f\"\\n\\t The t-shirt will say {text}.\")\n",
    "    \n",
    "make_tshirt(32, 'BACK OFF 6 FEET')\n",
    "\n"
   ]
  },
  {
   "cell_type": "code",
   "execution_count": 88,
   "metadata": {},
   "outputs": [
    {
     "name": "stdout",
     "output_type": "stream",
     "text": [
      " \n",
      "We have only Large t-shirts.\n",
      "\n",
      "\t Which says I love Python.\n",
      " \n",
      "We have only medium t-shirts.\n",
      "\n",
      "\t Which says Readability counts.\n"
     ]
    }
   ],
   "source": [
    "## 2 \n",
    "\n",
    "def make_tshirt(text, size = 'Large'):\n",
    "    print(f\" \\nWe have only {size} t-shirts.\")\n",
    "    print(f\"\\n\\t Which says {text}.\")\n",
    "    \n",
    "make_tshirt(text = 'I love Python')\n",
    "make_tshirt(size = 'medium', text = 'Readability counts')"
   ]
  },
  {
   "cell_type": "code",
   "execution_count": 89,
   "metadata": {},
   "outputs": [
    {
     "name": "stdout",
     "output_type": "stream",
     "text": [
      "\n",
      "The name of the city is Reykjavik\n",
      "\tReykjavik is in Iceland.\n",
      "\n",
      "The name of the city is Mumbai\n",
      "\tMumbai is in India.\n",
      "\n",
      "The name of the city is Kasol\n",
      "\tKasol is in India.\n"
     ]
    }
   ],
   "source": [
    "## 3) Cities\n",
    "\n",
    "def describe_city(name, country = 'India'):\n",
    "    print(f\"\\nThe name of the city is {name.title()}\")\n",
    "    print(f\"\\t{name.title()} is in {country.title()}.\")\n",
    "    \n",
    "describe_city('Reykjavik','Iceland')\n",
    "describe_city('Mumbai')\n",
    "describe_city('kasol')\n",
    "    \n",
    "    "
   ]
  },
  {
   "cell_type": "code",
   "execution_count": 90,
   "metadata": {},
   "outputs": [],
   "source": [
    "## Return Values"
   ]
  },
  {
   "cell_type": "code",
   "execution_count": 91,
   "metadata": {},
   "outputs": [],
   "source": [
    "## Returning a Simple Value"
   ]
  },
  {
   "cell_type": "code",
   "execution_count": 92,
   "metadata": {},
   "outputs": [],
   "source": [
    "def formatted_name(first_name, last_name):\n",
    "    \"\"\"Return a full name, neatly formatted\"\"\"\n",
    "    full_name = f\"{first_name} {last_name}\"\n",
    "    return full_name.title()\n",
    "\n",
    "musician = formatted_name('Jimi','Hendrix')"
   ]
  },
  {
   "cell_type": "code",
   "execution_count": 93,
   "metadata": {},
   "outputs": [
    {
     "name": "stdout",
     "output_type": "stream",
     "text": [
      "Jimi Hendrix\n"
     ]
    }
   ],
   "source": [
    "print(musician)"
   ]
  },
  {
   "cell_type": "code",
   "execution_count": 94,
   "metadata": {},
   "outputs": [
    {
     "data": {
      "text/plain": [
       "'Jim Morrisson'"
      ]
     },
     "execution_count": 94,
     "metadata": {},
     "output_type": "execute_result"
    }
   ],
   "source": [
    "formatted_name('Jim','Morrisson')"
   ]
  },
  {
   "cell_type": "code",
   "execution_count": 95,
   "metadata": {},
   "outputs": [],
   "source": [
    "musician = formatted_name('Jim','Morrisson')"
   ]
  },
  {
   "cell_type": "code",
   "execution_count": 96,
   "metadata": {},
   "outputs": [
    {
     "name": "stdout",
     "output_type": "stream",
     "text": [
      "Jim Morrisson\n"
     ]
    }
   ],
   "source": [
    "print(musician)"
   ]
  },
  {
   "cell_type": "code",
   "execution_count": 97,
   "metadata": {},
   "outputs": [],
   "source": [
    "## Making an argument optional"
   ]
  },
  {
   "cell_type": "code",
   "execution_count": 98,
   "metadata": {},
   "outputs": [],
   "source": [
    "def formatted_name(first_name, middle_name, last_name):\n",
    "    full_name = f\"{first_name} {middle_name} {last_name}\"\n",
    "    return full_name.title()\n",
    "\n",
    "musician = formatted_name(\"Bhrugu\",\"The\",\"Great\")"
   ]
  },
  {
   "cell_type": "code",
   "execution_count": 99,
   "metadata": {},
   "outputs": [
    {
     "data": {
      "text/plain": [
       "'Bhrugu The Great'"
      ]
     },
     "execution_count": 99,
     "metadata": {},
     "output_type": "execute_result"
    }
   ],
   "source": [
    "musician"
   ]
  },
  {
   "cell_type": "code",
   "execution_count": 100,
   "metadata": {},
   "outputs": [],
   "source": [
    "## Making a function where the middle name is optional"
   ]
  },
  {
   "cell_type": "code",
   "execution_count": 101,
   "metadata": {},
   "outputs": [],
   "source": [
    "def formatted_name(first_name, last_name, middle_name = ''):\n",
    "    if middle_name:\n",
    "        full_name = f\"{first_name} {middle_name} {last_name}\"\n",
    "    else:\n",
    "        full_name = f\"{first_name} {last_name}\"\n",
    "    return full_name.title()\n",
    "\n",
    "musician = formatted_name('bugu','great')"
   ]
  },
  {
   "cell_type": "code",
   "execution_count": 102,
   "metadata": {},
   "outputs": [
    {
     "name": "stdout",
     "output_type": "stream",
     "text": [
      "Bugu Great\n"
     ]
    }
   ],
   "source": [
    "print(musician)"
   ]
  },
  {
   "cell_type": "code",
   "execution_count": 103,
   "metadata": {},
   "outputs": [],
   "source": [
    "musician = formatted_name('bugu','great','the')"
   ]
  },
  {
   "cell_type": "code",
   "execution_count": 104,
   "metadata": {},
   "outputs": [
    {
     "name": "stdout",
     "output_type": "stream",
     "text": [
      "Bugu The Great\n"
     ]
    }
   ],
   "source": [
    "print(musician)"
   ]
  },
  {
   "cell_type": "code",
   "execution_count": 105,
   "metadata": {},
   "outputs": [],
   "source": [
    "## Returning a dictionary using a function"
   ]
  },
  {
   "cell_type": "code",
   "execution_count": 106,
   "metadata": {},
   "outputs": [],
   "source": [
    "def build_person(first_name, last_name):\n",
    "    full_name = {'first':first_name, 'last': last_name}\n",
    "    return full_name\n",
    "\n",
    "musician = build_person('jimi','henmdrix')"
   ]
  },
  {
   "cell_type": "code",
   "execution_count": 107,
   "metadata": {},
   "outputs": [
    {
     "name": "stdout",
     "output_type": "stream",
     "text": [
      "{'first': 'jimi', 'last': 'henmdrix'}\n"
     ]
    }
   ],
   "source": [
    "print(musician)"
   ]
  },
  {
   "cell_type": "code",
   "execution_count": 108,
   "metadata": {},
   "outputs": [],
   "source": [
    "def build_person(first_name, last_name, age = None):\n",
    "    person = {'first': first_name, 'last': last_name}\n",
    "    if age:\n",
    "        person['age'] = age\n",
    "    return person\n",
    "\n",
    "musician = build_person('jimi','henmdrix', age = 27)"
   ]
  },
  {
   "cell_type": "code",
   "execution_count": 109,
   "metadata": {},
   "outputs": [
    {
     "name": "stdout",
     "output_type": "stream",
     "text": [
      "{'first': 'jimi', 'last': 'henmdrix', 'age': 27}\n"
     ]
    }
   ],
   "source": [
    "print(musician)"
   ]
  },
  {
   "cell_type": "code",
   "execution_count": 110,
   "metadata": {},
   "outputs": [],
   "source": [
    "## Using a function with a while loop"
   ]
  },
  {
   "cell_type": "code",
   "execution_count": null,
   "metadata": {},
   "outputs": [],
   "source": [
    "## This is an infinite loop. Do not run this cell. Just for information or else print Ctrl + C\n",
    "\n",
    "def get_formatted_name(first_name, last_name, middle_name = ''):\n",
    "    if middle_name:\n",
    "        full_name = f\"{first_name} {last_name} {middle_name}\"\n",
    "    else:\n",
    "        full_name = f\"{first_name} {last_name}\"\n",
    "    return full_name.title()\n",
    "\n",
    "while True:\n",
    "    print(\"\\n What is your good name?\")\n",
    "    print(\"\\n Enter 'q' after you are done\")\n",
    "    f_name = input(\"First Name: \")\n",
    "    l_name = input(\"Last_name: \")\n",
    "    \n",
    "    formatted_name = get_formatted_name(f_name, l_name)\n",
    "    print(f\"Hello {formatted_name}!\")"
   ]
  },
  {
   "cell_type": "code",
   "execution_count": 1,
   "metadata": {},
   "outputs": [
    {
     "name": "stdout",
     "output_type": "stream",
     "text": [
      "\n",
      " What is your good name?\n",
      "\n",
      " Enter 'q' after you are done\n",
      "First Name: bhrugu\n",
      "Last_name: thakkar\n",
      "Hello Bhrugu Thakkar!\n",
      "\n",
      " What is your good name?\n",
      "\n",
      " Enter 'q' after you are done\n",
      "First Name: q\n"
     ]
    }
   ],
   "source": [
    "## Using break to break the infinite loop\n",
    "\n",
    "def get_formatted_name(first_name, last_name, middle_name = ''):\n",
    "    if middle_name:\n",
    "        full_name = f\"{first_name} {last_name} {middle_name}\"\n",
    "    else:\n",
    "        full_name = f\"{first_name} {last_name}\"\n",
    "    return full_name.title()\n",
    "\n",
    "while True:\n",
    "    print(\"\\n What is your good name?\")\n",
    "    print(\"\\n Enter 'q' after you are done\")\n",
    "    f_name = input(\"First Name: \")\n",
    "    if f_name == 'q':\n",
    "        break\n",
    "    l_name = input(\"Last_name: \")\n",
    "    if l_name == 'q':\n",
    "        break\n",
    "    \n",
    "    formatted_name = get_formatted_name(f_name, l_name)\n",
    "    print(f\"Hello {formatted_name}!\")"
   ]
  },
  {
   "cell_type": "code",
   "execution_count": 2,
   "metadata": {},
   "outputs": [],
   "source": [
    "## DIY Exercises\n",
    "\n",
    "# 1) City Names "
   ]
  },
  {
   "cell_type": "code",
   "execution_count": 3,
   "metadata": {},
   "outputs": [],
   "source": [
    "def city_country(city, country):\n",
    "    print(f\"{city} is in {country}.\")"
   ]
  },
  {
   "cell_type": "code",
   "execution_count": 4,
   "metadata": {},
   "outputs": [
    {
     "name": "stdout",
     "output_type": "stream",
     "text": [
      "Bharuch is in India.\n"
     ]
    }
   ],
   "source": [
    "city_country('Bharuch','India')"
   ]
  },
  {
   "cell_type": "code",
   "execution_count": 5,
   "metadata": {},
   "outputs": [],
   "source": [
    "## 2) Album"
   ]
  },
  {
   "cell_type": "code",
   "execution_count": 6,
   "metadata": {},
   "outputs": [],
   "source": [
    "def make_album(artist_name, album_title):\n",
    "    album = {'name': artist_name ,'album': album_title}\n",
    "    print(f\" The name of artist is {artist_name.title()} and his album is {album_title.title()}.\")"
   ]
  },
  {
   "cell_type": "code",
   "execution_count": 7,
   "metadata": {},
   "outputs": [
    {
     "name": "stdout",
     "output_type": "stream",
     "text": [
      " The name of artist is Jim Morrison and his album is The Doors.\n"
     ]
    }
   ],
   "source": [
    "make_album('jim morrison','the doors')"
   ]
  },
  {
   "cell_type": "code",
   "execution_count": 8,
   "metadata": {},
   "outputs": [],
   "source": [
    "def make_album(artist_name, album_title,tracks = 0):\n",
    "    album = {\n",
    "        'name': artist_name ,\n",
    "        'album': album_title}\n",
    "    if tracks:\n",
    "        album['tracks'] = tracks\n",
    "    return album"
   ]
  },
  {
   "cell_type": "code",
   "execution_count": 9,
   "metadata": {},
   "outputs": [
    {
     "name": "stdout",
     "output_type": "stream",
     "text": [
      "{'name': 'iron maiden', 'album': 'piece of mind', 'tracks': 8}\n"
     ]
    }
   ],
   "source": [
    "album = make_album('iron maiden', 'piece of mind', tracks=8)\n",
    "print(album)"
   ]
  },
  {
   "cell_type": "code",
   "execution_count": 10,
   "metadata": {},
   "outputs": [
    {
     "name": "stdout",
     "output_type": "stream",
     "text": [
      "\n",
      " What's your favorite album and artist\n",
      "\n",
      "\t Enter 'quit' when you are done\n",
      "\n",
      " What's your name ?bugu\n",
      "\n",
      " Artist name: janardhan\n",
      "\n",
      " Album title: jhakad\n",
      "\n",
      " Bugu's favorite artist is Janardhan and favorite album is Jhakad.\n",
      "\n",
      " What's your favorite album and artist\n",
      "\n",
      "\t Enter 'quit' when you are done\n",
      "\n",
      " What's your name ?quit\n"
     ]
    }
   ],
   "source": [
    "def make_album(name, title, tracks = 0):\n",
    "    album = {\n",
    "        'artist_name': name,\n",
    "        'album': alb_title\n",
    "    }\n",
    "    if tracks:\n",
    "        album['tracks'] = tracks\n",
    "    return album\n",
    "\n",
    "while True:\n",
    "    print(\"\\n What's your favorite album and artist\")\n",
    "    print(\"\\n\\t Enter 'quit' when you are done\")\n",
    "    nm = input(\"\\n What's your name ?\")\n",
    "    if nm == 'quit':\n",
    "        break\n",
    "    ar_name = input(\"\\n Artist name: \")\n",
    "    if ar_name == 'quit':\n",
    "        break\n",
    "    alb_title = input(\"\\n Album title: \")\n",
    "    if alb_title == 'quit':\n",
    "        break\n",
    "    \n",
    "    \n",
    "    users_choice = make_album(nm, ar_name, alb_title)\n",
    "    print(f\"\\n {nm.title()}'s favorite artist is {ar_name.title()} and favorite album is {alb_title.title()}.\")"
   ]
  },
  {
   "cell_type": "code",
   "execution_count": 11,
   "metadata": {},
   "outputs": [],
   "source": [
    "## Passing a list"
   ]
  },
  {
   "cell_type": "code",
   "execution_count": 12,
   "metadata": {},
   "outputs": [
    {
     "name": "stdout",
     "output_type": "stream",
     "text": [
      "\n",
      "Hello Hannah.\n",
      "\n",
      "Hello Tyga.\n",
      "\n",
      "Hello Kylie.\n",
      "\n",
      "Hello Drake.\n",
      "\n",
      "Hello Kendall.\n"
     ]
    }
   ],
   "source": [
    "def greet_users(names):\n",
    "    for name in names:\n",
    "        message = f\"\\nHello {name.title()}.\"\n",
    "        print(message)\n",
    "\n",
    "usernames = ['hannah','tyga','kylie','drake','kendall']\n",
    "greet_users(usernames)\n",
    "        \n",
    "              "
   ]
  },
  {
   "cell_type": "code",
   "execution_count": 13,
   "metadata": {},
   "outputs": [],
   "source": [
    "## Modifying a list in the function"
   ]
  },
  {
   "cell_type": "code",
   "execution_count": 14,
   "metadata": {},
   "outputs": [
    {
     "name": "stdout",
     "output_type": "stream",
     "text": [
      "Your design dodecahedron is in making.\n",
      "Your design robot pendant is in making.\n",
      "Your design phone case is in making.\n",
      "\n",
      "\n",
      " \t Congratulations your dodecahedron is ready.\n",
      " \t Congratulations your robot pendant is ready.\n",
      " \t Congratulations your phone case is ready.\n"
     ]
    }
   ],
   "source": [
    "unprinted_models = ['phone case','robot pendant','dodecahedron']\n",
    "printed_models = []\n",
    "\n",
    "while unprinted_models:\n",
    "    current_design = unprinted_models.pop()\n",
    "    print(f\"Your design {current_design} is in making.\")\n",
    "    printed_models.append(current_design)\n",
    "\n",
    "print(\"\\n\")    \n",
    "    \n",
    "for done in printed_models:\n",
    "    print(f\" \\t Congratulations your {done} is ready.\")"
   ]
  },
  {
   "cell_type": "code",
   "execution_count": 15,
   "metadata": {},
   "outputs": [
    {
     "name": "stdout",
     "output_type": "stream",
     "text": [
      "Your design dodecahedron is being printed.\n",
      "Your design robot pendant is being printed.\n",
      "Your design phone case is being printed.\n",
      "\n",
      " Following models have been printed.\n",
      "dodecahedron\n",
      "robot pendant\n",
      "phone case\n"
     ]
    }
   ],
   "source": [
    "def print_models(unprinted_designs, printed_designs):\n",
    "    \n",
    "    while unprinted_designs:\n",
    "        current_designs = unprinted_designs.pop()\n",
    "        print(f\"Your design {current_designs} is being printed.\")\n",
    "        printed_designs.append(current_designs)\n",
    "    \n",
    "def show_printed_desings(printed_designs):\n",
    "    print(\"\\n Following models have been printed.\")\n",
    "    for completed_models in printed_designs:\n",
    "        print(completed_models)\n",
    "        \n",
    "unprinted_designs = ['phone case','robot pendant','dodecahedron']\n",
    "printed_designs = []\n",
    "\n",
    "print_models(unprinted_designs, printed_designs)\n",
    "show_printed_desings(printed_designs)\n"
   ]
  },
  {
   "cell_type": "code",
   "execution_count": 16,
   "metadata": {},
   "outputs": [],
   "source": [
    "def print_models(unprinted_designs,printed_designs):\n",
    "    \n",
    "    while unprinted_designs:\n",
    "        current_designs = unprinted_designs.pop()\n",
    "        print(f\"\\nYour design '{current_designs.title()}' are being printed\")\n",
    "        printed_designs.append(current_designs)\n",
    "        \n",
    "def show_printed_designs(printed_designs):\n",
    "    print(\"\\n\\tFollowing models have been printed\")\n",
    "    for completed_models in printed_models:\n",
    "        print(completed_models)"
   ]
  },
  {
   "cell_type": "code",
   "execution_count": 17,
   "metadata": {},
   "outputs": [
    {
     "name": "stdout",
     "output_type": "stream",
     "text": [
      "\n",
      "Your design 'Dodecahedron' are being printed\n",
      "\n",
      "Your design 'Robot Case' are being printed\n",
      "\n",
      "Your design 'Phone Case' are being printed\n",
      "\n",
      "\tFollowing models have been printed\n",
      "dodecahedron\n",
      "robot pendant\n",
      "phone case\n"
     ]
    }
   ],
   "source": [
    "unprinted_designs = ['phone case','robot case','dodecahedron']\n",
    "printed_designs = []\n",
    "\n",
    "print_models(unprinted_designs,printed_designs)\n",
    "show_printed_designs(printed_designs)"
   ]
  },
  {
   "cell_type": "code",
   "execution_count": 18,
   "metadata": {},
   "outputs": [],
   "source": [
    "## Preventing a Function from Modifying a List"
   ]
  },
  {
   "cell_type": "code",
   "execution_count": 19,
   "metadata": {},
   "outputs": [],
   "source": [
    "## TIY EXERCISES"
   ]
  },
  {
   "cell_type": "code",
   "execution_count": 20,
   "metadata": {},
   "outputs": [],
   "source": [
    "## 1) Messages --  Simps when they see a girl online"
   ]
  },
  {
   "cell_type": "code",
   "execution_count": 21,
   "metadata": {},
   "outputs": [],
   "source": [
    "\n",
    "\n",
    "messages = [\"Hi\",\n",
    "           \"Hello\",\n",
    "           \"Why still awake cutie\",\n",
    "           \"You look pretty\",\n",
    "           \"Do you have a driving license cutie? Becuase you are driving me crazy 🥵😱🥵\"]\n",
    "\n",
    "def show_message(messages):\n",
    "    for message in messages:\n",
    "        print(message)"
   ]
  },
  {
   "cell_type": "code",
   "execution_count": 22,
   "metadata": {},
   "outputs": [
    {
     "name": "stdout",
     "output_type": "stream",
     "text": [
      "Hi\n",
      "Hello\n",
      "Why still awake cutie\n",
      "You look pretty\n",
      "Do you have a driving license cutie? Becuase you are driving me crazy 🥵😱🥵\n"
     ]
    }
   ],
   "source": [
    "show_message(messages)"
   ]
  },
  {
   "cell_type": "code",
   "execution_count": 23,
   "metadata": {},
   "outputs": [],
   "source": [
    "## 2) Sending Messages"
   ]
  },
  {
   "cell_type": "code",
   "execution_count": 24,
   "metadata": {},
   "outputs": [
    {
     "name": "stdout",
     "output_type": "stream",
     "text": [
      "Showing all messages:\n",
      "hello there\n",
      "how are u?\n",
      ":)\n",
      "\n",
      "Sending all messages:\n",
      ":)\n",
      "how are u?\n",
      "hello there\n",
      "\n",
      "Final lists:\n",
      "[]\n",
      "[':)', 'how are u?', 'hello there']\n"
     ]
    }
   ],
   "source": [
    "def show_messages(messages):\n",
    "    \"\"\"Print all messages in the list.\"\"\"\n",
    "    print(\"Showing all messages:\")\n",
    "    for message in messages:\n",
    "        print(message)\n",
    "\n",
    "def send_messages(messages, sent_messages):\n",
    "    \"\"\"Print each message, and then move it to sent_messages.\"\"\"\n",
    "    print(\"\\nSending all messages:\")\n",
    "    while messages:\n",
    "        current_message = messages.pop()\n",
    "        print(current_message)\n",
    "        sent_messages.append(current_message)\n",
    "\n",
    "messages = [\"hello there\", \"how are u?\", \":)\"]\n",
    "show_messages(messages)\n",
    "\n",
    "sent_messages = []\n",
    "send_messages(messages, sent_messages)\n",
    "\n",
    "print(\"\\nFinal lists:\")\n",
    "print(messages)\n",
    "print(sent_messages)"
   ]
  },
  {
   "cell_type": "code",
   "execution_count": 25,
   "metadata": {},
   "outputs": [],
   "source": [
    "#3 Archived Messages"
   ]
  },
  {
   "cell_type": "code",
   "execution_count": 26,
   "metadata": {},
   "outputs": [
    {
     "name": "stdout",
     "output_type": "stream",
     "text": [
      "Showing all messages:\n",
      "hello there\n",
      "how are u?\n",
      ":)\n",
      "\n",
      "Sending all messages:\n",
      ":)\n",
      "how are u?\n",
      "hello there\n",
      "\n",
      "Final lists:\n",
      "['hello there', 'how are u?', ':)']\n",
      "[':)', 'how are u?', 'hello there']\n"
     ]
    }
   ],
   "source": [
    "def show_messages(messages):\n",
    "    \"\"\"Print all messages in the list.\"\"\"\n",
    "    print(\"Showing all messages:\")\n",
    "    for message in messages:\n",
    "        print(message)\n",
    "\n",
    "def send_messages(messages, sent_messages):\n",
    "    \"\"\"Print each message, and then move it to sent_messages.\"\"\"\n",
    "    print(\"\\nSending all messages:\")\n",
    "    while messages:\n",
    "        current_message = messages.pop()\n",
    "        print(current_message)\n",
    "        sent_messages.append(current_message)\n",
    "\n",
    "messages = [\"hello there\", \"how are u?\", \":)\"]\n",
    "show_messages(messages)\n",
    "\n",
    "sent_messages = []\n",
    "send_messages(messages[:], sent_messages)\n",
    "\n",
    "print(\"\\nFinal lists:\")\n",
    "print(messages)\n",
    "print(sent_messages)"
   ]
  },
  {
   "cell_type": "code",
   "execution_count": 27,
   "metadata": {},
   "outputs": [],
   "source": [
    "## Passing an arbitary number of arguments"
   ]
  },
  {
   "cell_type": "code",
   "execution_count": 28,
   "metadata": {},
   "outputs": [
    {
     "name": "stdout",
     "output_type": "stream",
     "text": [
      "('pepproni',)\n",
      "('mushrooms', 'green peppers', 'extra cheese')\n"
     ]
    }
   ],
   "source": [
    "def make_pizza(*toppings):\n",
    "    print(toppings)\n",
    "\n",
    "make_pizza(\"pepproni\")\n",
    "make_pizza(\"mushrooms\",\"green peppers\",\"extra cheese\")"
   ]
  },
  {
   "cell_type": "code",
   "execution_count": 29,
   "metadata": {},
   "outputs": [],
   "source": [
    "def make_pizza(*toppings):\n",
    "    print(\"Making your pizza with th efollowing toppings\")\n",
    "    for topping in toppings:\n",
    "        print(f\" -- {topping}.\")"
   ]
  },
  {
   "cell_type": "code",
   "execution_count": 30,
   "metadata": {},
   "outputs": [
    {
     "name": "stdout",
     "output_type": "stream",
     "text": [
      "Making your pizza with th efollowing toppings\n",
      " -- pepproni.\n"
     ]
    }
   ],
   "source": [
    "make_pizza(\"pepproni\")"
   ]
  },
  {
   "cell_type": "code",
   "execution_count": 31,
   "metadata": {},
   "outputs": [
    {
     "name": "stdout",
     "output_type": "stream",
     "text": [
      "Making your pizza with th efollowing toppings\n",
      " -- pineapple.\n",
      " -- extra cheese.\n",
      " -- grilled onions.\n",
      " -- a veggie burger in a pizza.\n"
     ]
    }
   ],
   "source": [
    "make_pizza(\"pineapple\",\"extra cheese\",\"grilled onions\",\"a veggie burger in a pizza\")"
   ]
  },
  {
   "cell_type": "code",
   "execution_count": 32,
   "metadata": {},
   "outputs": [],
   "source": [
    "## Mixing positional and arbitary arguments"
   ]
  },
  {
   "cell_type": "code",
   "execution_count": 33,
   "metadata": {},
   "outputs": [],
   "source": [
    "def make_pizza(size, *toppings):\n",
    "    print(f\"Making your {size} inch pizza with the following toppings\")\n",
    "    for topping in toppings:\n",
    "        print(f\"-- {topping.title()}.\")\n",
    "          "
   ]
  },
  {
   "cell_type": "code",
   "execution_count": 34,
   "metadata": {},
   "outputs": [
    {
     "name": "stdout",
     "output_type": "stream",
     "text": [
      "Making your 16 inch pizza with the following toppings\n",
      "-- Four Cheese.\n",
      "-- Onions.\n",
      "-- Artichoke.\n",
      "-- Spinach.\n",
      "-- Tomtato.\n",
      "-- Mushrooms.\n"
     ]
    }
   ],
   "source": [
    "make_pizza(16, \"four cheese\",\"onions\",\"artichoke\",\"spinach\",\"tomtato\",\"mushrooms\")"
   ]
  },
  {
   "cell_type": "code",
   "execution_count": 35,
   "metadata": {},
   "outputs": [],
   "source": [
    "## Using arbitary keyword arguments"
   ]
  },
  {
   "cell_type": "code",
   "execution_count": 36,
   "metadata": {},
   "outputs": [
    {
     "name": "stdout",
     "output_type": "stream",
     "text": [
      "{'location': 'princeton', 'filed': 'physics', 'first_name': 'albert', 'last_name': 'einstein'}\n"
     ]
    }
   ],
   "source": [
    "def build_profile(first, last, **user_info):\n",
    "    user_info['first_name'] = first\n",
    "    user_info['last_name'] = last\n",
    "    return user_info\n",
    "\n",
    "user_profile = build_profile('albert','einstein',\n",
    "                            location = 'princeton',\n",
    "                            filed = 'physics')\n",
    "\n",
    "print(user_profile)"
   ]
  },
  {
   "cell_type": "code",
   "execution_count": 37,
   "metadata": {},
   "outputs": [],
   "source": [
    "## TIY"
   ]
  },
  {
   "cell_type": "code",
   "execution_count": 38,
   "metadata": {},
   "outputs": [],
   "source": [
    "# 1) Sandwhiches"
   ]
  },
  {
   "cell_type": "code",
   "execution_count": 39,
   "metadata": {},
   "outputs": [],
   "source": [
    "def sandwhich(*toppings):\n",
    "    print(f\"Making your sandwhich with the following toppings\")\n",
    "    for topping in toppings:\n",
    "        print(f\"-- {topping.title()}.\")"
   ]
  },
  {
   "cell_type": "code",
   "execution_count": 40,
   "metadata": {},
   "outputs": [
    {
     "name": "stdout",
     "output_type": "stream",
     "text": [
      "Making your sandwhich with the following toppings\n",
      "-- Tomato.\n",
      "-- Onion.\n"
     ]
    }
   ],
   "source": [
    "sandwhich('tomato','onion')"
   ]
  },
  {
   "cell_type": "code",
   "execution_count": 41,
   "metadata": {},
   "outputs": [],
   "source": [
    "## 2) User Profile"
   ]
  },
  {
   "cell_type": "code",
   "execution_count": 42,
   "metadata": {},
   "outputs": [],
   "source": [
    "def build_profile(first, last, **user_info):\n",
    "    user_info['first_name'] = first\n",
    "    user_info['last_name'] = last\n",
    "    return user_info\n",
    "\n",
    "user_profile = build_profile('Bhrugu','Thakkar',location = 'Bharuch',profession = 'Data Scientist')"
   ]
  },
  {
   "cell_type": "code",
   "execution_count": 43,
   "metadata": {},
   "outputs": [
    {
     "name": "stdout",
     "output_type": "stream",
     "text": [
      "{'location': 'Bharuch', 'profession': 'Data Scientist', 'first_name': 'Bhrugu', 'last_name': 'Thakkar'}\n"
     ]
    }
   ],
   "source": [
    "print(user_profile)"
   ]
  },
  {
   "cell_type": "code",
   "execution_count": 44,
   "metadata": {},
   "outputs": [],
   "source": [
    "## 3) Cars"
   ]
  },
  {
   "cell_type": "code",
   "execution_count": 45,
   "metadata": {},
   "outputs": [],
   "source": [
    "def cars(manufacturer, model,**car_info):\n",
    "    car_info['company'] = manufacturer\n",
    "    car_info['type'] = model\n",
    "    return car_info\n",
    "\n",
    "car_profile = cars('BMW', '540i Xdrive (AWD)', color = 'Signature Blue', package = 'M Powered')"
   ]
  },
  {
   "cell_type": "code",
   "execution_count": 46,
   "metadata": {},
   "outputs": [
    {
     "name": "stdout",
     "output_type": "stream",
     "text": [
      "{'color': 'Signature Blue', 'package': 'M Powered', 'company': 'BMW', 'type': '540i Xdrive (AWD)'}\n"
     ]
    }
   ],
   "source": [
    "print(car_profile)"
   ]
  },
  {
   "cell_type": "code",
   "execution_count": 47,
   "metadata": {},
   "outputs": [],
   "source": [
    "## Storing functions in Modules"
   ]
  },
  {
   "cell_type": "code",
   "execution_count": 48,
   "metadata": {},
   "outputs": [],
   "source": [
    "## Importing an Entire Module"
   ]
  },
  {
   "cell_type": "code",
   "execution_count": 49,
   "metadata": {},
   "outputs": [],
   "source": [
    "def make_pizza(size, *toppings):\n",
    "    print(f\"Buiding your {size} inch pizza with the following toppings:\")\n",
    "    for pizza in toppings:\n",
    "        print(f\" -- {pizza}.\")\n",
    "          "
   ]
  },
  {
   "cell_type": "code",
   "execution_count": 50,
   "metadata": {},
   "outputs": [],
   "source": [
    "import pizza"
   ]
  },
  {
   "cell_type": "code",
   "execution_count": 51,
   "metadata": {},
   "outputs": [
    {
     "name": "stdout",
     "output_type": "stream",
     "text": [
      "Buiding your 32 inch pizza with the following toppings:\n",
      " -- four cheese.\n",
      " -- dry garlic.\n",
      " -- grilled onions.\n",
      " -- tomatoes.\n",
      " -- mushrooms.\n"
     ]
    }
   ],
   "source": [
    "pizza.make_pizza(32, 'four cheese','dry garlic','grilled onions','tomatoes','mushrooms')"
   ]
  },
  {
   "cell_type": "code",
   "execution_count": 52,
   "metadata": {},
   "outputs": [],
   "source": [
    "## Importing Specific Functions"
   ]
  },
  {
   "cell_type": "code",
   "execution_count": 53,
   "metadata": {},
   "outputs": [],
   "source": [
    "from pizza import make_pizza"
   ]
  },
  {
   "cell_type": "code",
   "execution_count": 54,
   "metadata": {},
   "outputs": [
    {
     "name": "stdout",
     "output_type": "stream",
     "text": [
      "Buiding your 16 inch pizza with the following toppings:\n",
      " -- pepproni.\n",
      "Buiding your 32 inch pizza with the following toppings:\n",
      " -- four cheese.\n",
      " -- dry garlic.\n",
      " -- grilled onions.\n",
      " -- tomatoes.\n",
      " -- mushrooms.\n"
     ]
    }
   ],
   "source": [
    "make_pizza(16,'pepproni')\n",
    "make_pizza(32,'four cheese','dry garlic','grilled onions','tomatoes','mushrooms')"
   ]
  },
  {
   "cell_type": "code",
   "execution_count": 55,
   "metadata": {},
   "outputs": [],
   "source": [
    "from pizza import make_pizza as mp\n"
   ]
  },
  {
   "cell_type": "code",
   "execution_count": 56,
   "metadata": {},
   "outputs": [],
   "source": [
    "## Importing all the functions in a module"
   ]
  },
  {
   "cell_type": "code",
   "execution_count": 57,
   "metadata": {},
   "outputs": [],
   "source": [
    "from pizza import *"
   ]
  },
  {
   "cell_type": "code",
   "execution_count": 58,
   "metadata": {},
   "outputs": [],
   "source": [
    "## TIY Exercises"
   ]
  },
  {
   "cell_type": "code",
   "execution_count": 59,
   "metadata": {},
   "outputs": [],
   "source": [
    "##1) Printing Models"
   ]
  },
  {
   "cell_type": "code",
   "execution_count": 60,
   "metadata": {},
   "outputs": [],
   "source": [
    "def print_models(unprinted_models, printed_models):\n",
    "    while unprinted_models:\n",
    "        current = unprinted_models.pop()\n",
    "        print(f\"Printing models: {current}\")\n",
    "        printed_models.append(current)\n",
    "        \n",
    "def show_completed_models(printed_models):\n",
    "    print(\"\\n Following models are printed: \")\n",
    "    for models in printed_models:\n",
    "        print(models)\n",
    "              "
   ]
  },
  {
   "cell_type": "code",
   "execution_count": 61,
   "metadata": {},
   "outputs": [],
   "source": [
    "import printing_functions as pf"
   ]
  },
  {
   "cell_type": "code",
   "execution_count": 62,
   "metadata": {},
   "outputs": [
    {
     "name": "stdout",
     "output_type": "stream",
     "text": [
      "Printing models: dodecahedron\n",
      "Printing models: robot pendant\n",
      "Printing models: iphone case\n",
      "['dodecahedron', 'robot pendant', 'iphone case']\n",
      "['dodecahedron', 'robot pendant', 'iphone case']\n",
      "['dodecahedron', 'robot pendant', 'iphone case']\n"
     ]
    }
   ],
   "source": [
    "unprinted_models = ['iphone case', 'robot pendant', 'dodecahedron']\n",
    "printed_models = []\n",
    "\n",
    "\n",
    "pf.print_models(unprinted_models, printed_models)\n",
    "pf.show_completed_models(printed_models)"
   ]
  }
 ],
 "metadata": {
  "kernelspec": {
   "display_name": "Python 3",
   "language": "python",
   "name": "python3"
  },
  "language_info": {
   "codemirror_mode": {
    "name": "ipython",
    "version": 3
   },
   "file_extension": ".py",
   "mimetype": "text/x-python",
   "name": "python",
   "nbconvert_exporter": "python",
   "pygments_lexer": "ipython3",
   "version": "3.7.6"
  }
 },
 "nbformat": 4,
 "nbformat_minor": 4
}
