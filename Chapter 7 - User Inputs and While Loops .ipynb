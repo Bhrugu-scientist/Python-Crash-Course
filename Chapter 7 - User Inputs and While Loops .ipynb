{
 "cells": [
  {
   "cell_type": "code",
   "execution_count": 8,
   "metadata": {},
   "outputs": [],
   "source": [
    "## How the input function works"
   ]
  },
  {
   "cell_type": "code",
   "execution_count": 9,
   "metadata": {},
   "outputs": [
    {
     "name": "stdout",
     "output_type": "stream",
     "text": [
      "Tell me something I will repeat it to you:\n",
      "Na hoy\n"
     ]
    }
   ],
   "source": [
    "message = input(\"Tell me something I will repeat it to you:\")\n",
    "print(\"Na hoy\")"
   ]
  },
  {
   "cell_type": "markdown",
   "metadata": {},
   "source": []
  },
  {
   "cell_type": "code",
   "execution_count": 10,
   "metadata": {},
   "outputs": [
    {
     "name": "stdout",
     "output_type": "stream",
     "text": [
      "Please enter your name:\n",
      "Hello \n"
     ]
    }
   ],
   "source": [
    "name = input(\"Please enter your name:\")\n",
    "print(f\"Hello {name}\")"
   ]
  },
  {
   "cell_type": "code",
   "execution_count": 11,
   "metadata": {},
   "outputs": [
    {
     "name": "stdout",
     "output_type": "stream",
     "text": [
      "If you don't tell me who you are I will shoot you in the headAgain, what's your first name?\n",
      "Hello \n"
     ]
    }
   ],
   "source": [
    "prompt = \"If you don't tell me who you are I will shoot you in the head\"\n",
    "prompt += \"Again, what's your first name?\"\n",
    "\n",
    "name = input(prompt)\n",
    "print(f\"Hello {name}\")"
   ]
  },
  {
   "cell_type": "code",
   "execution_count": 12,
   "metadata": {},
   "outputs": [],
   "source": [
    "## Using int() to accept numerical input"
   ]
  },
  {
   "cell_type": "code",
   "execution_count": 13,
   "metadata": {},
   "outputs": [
    {
     "name": "stdout",
     "output_type": "stream",
     "text": [
      "What is your age\n",
      "\n"
     ]
    }
   ],
   "source": [
    "age = input(\"What is your age\")\n",
    "print(age)"
   ]
  },
  {
   "cell_type": "code",
   "execution_count": 14,
   "metadata": {},
   "outputs": [
    {
     "ename": "ValueError",
     "evalue": "invalid literal for int() with base 10: ''",
     "output_type": "error",
     "traceback": [
      "\u001b[1;31m---------------------------------------------------------------------------\u001b[0m",
      "\u001b[1;31mValueError\u001b[0m                                Traceback (most recent call last)",
      "\u001b[1;32m<ipython-input-14-cbdffdd70124>\u001b[0m in \u001b[0;36m<module>\u001b[1;34m\u001b[0m\n\u001b[1;32m----> 1\u001b[1;33m \u001b[0mage\u001b[0m \u001b[1;33m=\u001b[0m \u001b[0mint\u001b[0m\u001b[1;33m(\u001b[0m\u001b[0mage\u001b[0m\u001b[1;33m)\u001b[0m\u001b[1;33m\u001b[0m\u001b[1;33m\u001b[0m\u001b[0m\n\u001b[0m\u001b[0;32m      2\u001b[0m \u001b[0mprint\u001b[0m\u001b[1;33m(\u001b[0m\u001b[0mage\u001b[0m\u001b[1;33m)\u001b[0m\u001b[1;33m\u001b[0m\u001b[1;33m\u001b[0m\u001b[0m\n",
      "\u001b[1;31mValueError\u001b[0m: invalid literal for int() with base 10: ''"
     ]
    }
   ],
   "source": [
    "age = int(age)\n",
    "print(age)"
   ]
  },
  {
   "cell_type": "code",
   "execution_count": 15,
   "metadata": {},
   "outputs": [
    {
     "ename": "TypeError",
     "evalue": "'>' not supported between instances of 'str' and 'int'",
     "output_type": "error",
     "traceback": [
      "\u001b[1;31m---------------------------------------------------------------------------\u001b[0m",
      "\u001b[1;31mTypeError\u001b[0m                                 Traceback (most recent call last)",
      "\u001b[1;32m<ipython-input-15-c48396da9a74>\u001b[0m in \u001b[0;36m<module>\u001b[1;34m\u001b[0m\n\u001b[1;32m----> 1\u001b[1;33m \u001b[0mage\u001b[0m \u001b[1;33m>\u001b[0m \u001b[1;36m15\u001b[0m\u001b[1;33m\u001b[0m\u001b[1;33m\u001b[0m\u001b[0m\n\u001b[0m",
      "\u001b[1;31mTypeError\u001b[0m: '>' not supported between instances of 'str' and 'int'"
     ]
    }
   ],
   "source": [
    "age > 15"
   ]
  },
  {
   "cell_type": "code",
   "execution_count": null,
   "metadata": {},
   "outputs": [],
   "source": [
    "height = input(\"How tall are you in inches\")\n",
    "height = int(height)\n",
    "\n",
    "if height >= 48:\n",
    "    print(\"\\nyou are tall enough to ride a bike\")\n",
    "else:\n",
    "    print(\"\\nYou need to grow first\")"
   ]
  },
  {
   "cell_type": "code",
   "execution_count": 17,
   "metadata": {},
   "outputs": [],
   "source": [
    "## The Modulo operator\n"
   ]
  },
  {
   "cell_type": "code",
   "execution_count": 18,
   "metadata": {},
   "outputs": [
    {
     "data": {
      "text/plain": [
       "1"
      ]
     },
     "execution_count": 18,
     "metadata": {},
     "output_type": "execute_result"
    }
   ],
   "source": [
    "4%3"
   ]
  },
  {
   "cell_type": "code",
   "execution_count": 19,
   "metadata": {},
   "outputs": [
    {
     "data": {
      "text/plain": [
       "0"
      ]
     },
     "execution_count": 19,
     "metadata": {},
     "output_type": "execute_result"
    }
   ],
   "source": [
    "6%3"
   ]
  },
  {
   "cell_type": "code",
   "execution_count": 20,
   "metadata": {},
   "outputs": [
    {
     "data": {
      "text/plain": [
       "0"
      ]
     },
     "execution_count": 20,
     "metadata": {},
     "output_type": "execute_result"
    }
   ],
   "source": [
    "6%2"
   ]
  },
  {
   "cell_type": "code",
   "execution_count": 21,
   "metadata": {},
   "outputs": [
    {
     "data": {
      "text/plain": [
       "6"
      ]
     },
     "execution_count": 21,
     "metadata": {},
     "output_type": "execute_result"
    }
   ],
   "source": [
    "6%9"
   ]
  },
  {
   "cell_type": "code",
   "execution_count": 22,
   "metadata": {},
   "outputs": [
    {
     "data": {
      "text/plain": [
       "3"
      ]
     },
     "execution_count": 22,
     "metadata": {},
     "output_type": "execute_result"
    }
   ],
   "source": [
    "9%6"
   ]
  },
  {
   "cell_type": "code",
   "execution_count": 26,
   "metadata": {},
   "outputs": [
    {
     "name": "stdout",
     "output_type": "stream",
     "text": [
      "Tell me a number and I will tell whethter it is odd or even:10\n",
      "10 is an even number.\n"
     ]
    }
   ],
   "source": [
    "number = input(\"Tell me a number and I will tell whethter it is odd or even:\")\n",
    "number = int(number)\n",
    "\n",
    "if number % 2 == 0:\n",
    "    print(f\"{number} is an even number.\")\n",
    "else:\n",
    "    print(f\"{number} is an odd number.\")"
   ]
  },
  {
   "cell_type": "code",
   "execution_count": 27,
   "metadata": {},
   "outputs": [],
   "source": [
    "## DIY Exercises"
   ]
  },
  {
   "cell_type": "code",
   "execution_count": 28,
   "metadata": {},
   "outputs": [],
   "source": [
    "## 1) Rental Car"
   ]
  },
  {
   "cell_type": "code",
   "execution_count": 29,
   "metadata": {},
   "outputs": [
    {
     "name": "stdout",
     "output_type": "stream",
     "text": [
      "What kind of car would you like to rent:bmw\n",
      "Let me see if I can find a Bmw\n"
     ]
    }
   ],
   "source": [
    "message = input(\"What kind of car would you like to rent:\")\n",
    "print(f\"Let me see if I can find a {message.title()}\")"
   ]
  },
  {
   "cell_type": "code",
   "execution_count": 30,
   "metadata": {},
   "outputs": [],
   "source": [
    "## 2) Restaurant Seating"
   ]
  },
  {
   "cell_type": "code",
   "execution_count": 31,
   "metadata": {},
   "outputs": [
    {
     "name": "stdout",
     "output_type": "stream",
     "text": [
      "How many people are you?100\n",
      "\n",
      "You will have to wait for the table.\n"
     ]
    }
   ],
   "source": [
    "message = input(\"How many people are you?\")\n",
    "message = int(message)\n",
    "\n",
    "if message > 8:\n",
    "    print(\"\\nYou will have to wait for the table.\")\n",
    "else:\n",
    "    print(\"\\nYour table is ready.\")"
   ]
  },
  {
   "cell_type": "code",
   "execution_count": 32,
   "metadata": {},
   "outputs": [],
   "source": [
    "## 3) Multiples of 10"
   ]
  },
  {
   "cell_type": "code",
   "execution_count": 33,
   "metadata": {},
   "outputs": [
    {
     "name": "stdout",
     "output_type": "stream",
     "text": [
      "Tell me a number and I will tell you if it is a multiple of 10 or not:90\n",
      "\n",
      " 90 is a multiple of 10.\n"
     ]
    }
   ],
   "source": [
    "number = input(\"Tell me a number and I will tell you if it is a multiple of 10 or not:\")\n",
    "number = int(number)\n",
    "\n",
    "if number % 10 == 0:\n",
    "    print(f\"\\n {number} is a multiple of 10.\")\n",
    "else:\n",
    "    print(f\"\\n\\t {number} is not a multiple of 10.\")"
   ]
  },
  {
   "cell_type": "markdown",
   "metadata": {},
   "source": [
    "# <font color = 'red'> WHILE LOOPS </font>"
   ]
  },
  {
   "cell_type": "code",
   "execution_count": 34,
   "metadata": {},
   "outputs": [
    {
     "name": "stdout",
     "output_type": "stream",
     "text": [
      "1\n",
      "2\n",
      "3\n",
      "4\n",
      "5\n"
     ]
    }
   ],
   "source": [
    "current_number = 1\n",
    "\n",
    "while current_number <= 5:\n",
    "    print(current_number)\n",
    "    current_number = current_number + 1"
   ]
  },
  {
   "cell_type": "code",
   "execution_count": 35,
   "metadata": {},
   "outputs": [],
   "source": [
    "## Letting users choose when to quit"
   ]
  },
  {
   "cell_type": "code",
   "execution_count": 36,
   "metadata": {},
   "outputs": [
    {
     "name": "stdout",
     "output_type": "stream",
     "text": [
      "\n",
      " Tell me something and I will repeat it to you.\n",
      " Enter 'quit' to end the program.yes\n",
      "yes\n",
      "\n",
      " Tell me something and I will repeat it to you.\n",
      " Enter 'quit' to end the program.no\n",
      "no\n",
      "\n",
      " Tell me something and I will repeat it to you.\n",
      " Enter 'quit' to end the program.quit\n",
      "quit\n"
     ]
    }
   ],
   "source": [
    "prompt = \"\\n Tell me something and I will repeat it to you.\"\n",
    "prompt += \"\\n Enter 'quit' to end the program.\"\n",
    "\n",
    "message = \"\"\n",
    "\n",
    "while message != 'quit':\n",
    "    message = input(prompt)\n",
    "    print(message)"
   ]
  },
  {
   "cell_type": "code",
   "execution_count": 37,
   "metadata": {},
   "outputs": [
    {
     "name": "stdout",
     "output_type": "stream",
     "text": [
      "Tell me something and I will repeat it to you:Enter 'quit' to end the programyes\n",
      "yes\n",
      "Tell me something and I will repeat it to you:Enter 'quit' to end the programno\n",
      "no\n",
      "Tell me something and I will repeat it to you:Enter 'quit' to end the programquit\n"
     ]
    }
   ],
   "source": [
    "prompt = \"Tell me something and I will repeat it to you:\"\n",
    "prompt += \"Enter 'quit' to end the program\"\n",
    "\n",
    "active = True\n",
    "\n",
    "while active:\n",
    "    message = input(prompt)\n",
    "    \n",
    "    if message == 'quit':\n",
    "        active = False\n",
    "    else:\n",
    "        print(message)"
   ]
  },
  {
   "cell_type": "code",
   "execution_count": 38,
   "metadata": {},
   "outputs": [],
   "source": [
    "## Using break to exit the loop"
   ]
  },
  {
   "cell_type": "code",
   "execution_count": 39,
   "metadata": {},
   "outputs": [
    {
     "name": "stdout",
     "output_type": "stream",
     "text": [
      " Please enter a city you'd want to visit:Enter 'quit' when doneseattle\n",
      "\n",
      "I'd love to go to Seattle.\n",
      " Please enter a city you'd want to visit:Enter 'quit' when donequit\n"
     ]
    }
   ],
   "source": [
    "prompt = \" Please enter a city you'd want to visit:\"\n",
    "prompt += \"Enter 'quit' when done\"\n",
    "\n",
    "while True:\n",
    "    city = input(prompt)\n",
    "    \n",
    "    if city == 'quit':\n",
    "        break\n",
    "    else:\n",
    "        print(f\"\\nI'd love to go to {city.title()}.\")"
   ]
  },
  {
   "cell_type": "code",
   "execution_count": 40,
   "metadata": {},
   "outputs": [],
   "source": [
    "## Using continue in a loop"
   ]
  },
  {
   "cell_type": "code",
   "execution_count": 41,
   "metadata": {},
   "outputs": [
    {
     "name": "stdout",
     "output_type": "stream",
     "text": [
      "3\n",
      "5\n",
      "7\n",
      "9\n",
      "11\n"
     ]
    }
   ],
   "source": [
    "current_number = 1\n",
    "\n",
    "while current_number <= 10:\n",
    "    current_number += 1\n",
    "    if current_number % 2 == 0:\n",
    "        continue\n",
    "        \n",
    "    print(current_number)"
   ]
  },
  {
   "cell_type": "code",
   "execution_count": 42,
   "metadata": {},
   "outputs": [
    {
     "name": "stdout",
     "output_type": "stream",
     "text": [
      "0\n",
      "2\n",
      "4\n",
      "6\n",
      "8\n",
      "10\n"
     ]
    }
   ],
   "source": [
    "for num in range(0,11,2):\n",
    "    print(num)"
   ]
  },
  {
   "cell_type": "code",
   "execution_count": 43,
   "metadata": {},
   "outputs": [
    {
     "name": "stdout",
     "output_type": "stream",
     "text": [
      "1\n",
      "2\n",
      "3\n",
      "4\n",
      "5\n",
      "6\n",
      "7\n",
      "8\n",
      "9\n",
      "10\n"
     ]
    }
   ],
   "source": [
    "x = 1\n",
    "\n",
    "while x <= 10:\n",
    "    print(x)\n",
    "    x += 1\n",
    "    "
   ]
  },
  {
   "cell_type": "code",
   "execution_count": 44,
   "metadata": {},
   "outputs": [
    {
     "name": "stdout",
     "output_type": "stream",
     "text": [
      "Please enter the toppings you want on your pizza.Enter 'quit' to terminate the program'cheese'\n",
      "\n",
      " Adding 'cheese' to your pizza.\n",
      "Please enter the toppings you want on your pizza.Enter 'quit' to terminate the programquit\n"
     ]
    }
   ],
   "source": [
    "prompt = \"Please enter the toppings you want on your pizza.\"\n",
    "prompt += \"Enter 'quit' to terminate the program\"\n",
    "\n",
    "while True:\n",
    "    topping = input(prompt)\n",
    "    \n",
    "    if topping != 'quit':\n",
    "        print(f\"\\n Adding {topping} to your pizza.\")\n",
    "    else:\n",
    "        break\n"
   ]
  },
  {
   "cell_type": "code",
   "execution_count": 45,
   "metadata": {},
   "outputs": [
    {
     "name": "stdout",
     "output_type": "stream",
     "text": [
      "Please write your toppongs here that you want to add to your pizza:Enter 'quit' to terminate the program'cheese'\n",
      "\n",
      "Adding 'cheese' to your pizza\n",
      "Please write your toppongs here that you want to add to your pizza:Enter 'quit' to terminate the programquit\n"
     ]
    }
   ],
   "source": [
    "prompt = \"Please write your toppongs here that you want to add to your pizza:\"\n",
    "prompt += \"Enter 'quit' to terminate the program\"\n",
    "\n",
    "while True:\n",
    "    topping = input(prompt)\n",
    "    \n",
    "    if topping != 'quit':\n",
    "        print(f\"\\nAdding {topping} to your pizza\")\n",
    "    else:\n",
    "        break"
   ]
  },
  {
   "cell_type": "code",
   "execution_count": 6,
   "metadata": {},
   "outputs": [
    {
     "name": "stdout",
     "output_type": "stream",
     "text": [
      "How old are you?\n",
      "Enter 'quit' when you are finished. 12\n",
      "  Your ticket is $10.\n",
      "How old are you?\n",
      "Enter 'quit' when you are finished. 25\n",
      "  Your ticket is $15.\n",
      "How old are you?\n",
      "Enter 'quit' when you are finished. quit\n"
     ]
    }
   ],
   "source": [
    "prompt = \"How old are you?\"\n",
    "prompt += \"\\nEnter 'quit' when you are finished. \"\n",
    "\n",
    "while True:\n",
    "    age = input(prompt)\n",
    "    if age == 'quit':\n",
    "        break\n",
    "    age = int(age)\n",
    "\n",
    "    if age < 3:\n",
    "        print(\"  You get in free!\")\n",
    "    elif age < 13:\n",
    "        print(\"  Your ticket is $10.\")\n",
    "    else:\n",
    "        print(\"  Your ticket is $15.\")"
   ]
  },
  {
   "cell_type": "code",
   "execution_count": 47,
   "metadata": {},
   "outputs": [
    {
     "name": "stdout",
     "output_type": "stream",
     "text": [
      "What's your age?/n Enter 'quit' when done178\n",
      "You get in free\n",
      "What's your age?/n Enter 'quit' when donequit\n"
     ]
    }
   ],
   "source": [
    "prompt = \"What's your age?\"\n",
    "prompt += \"/n Enter 'quit' when done\"\n",
    "\n",
    "while True:\n",
    "    age = input(prompt)\n",
    "    if age == 'quit':\n",
    "        break\n",
    "    age = int(age)\n",
    "    \n",
    "    if age > 3:\n",
    "        print('You get in free')\n",
    "    elif age > 3 and age < 12:\n",
    "        print('Your ticket cost is $10')\n",
    "    else:\n",
    "        print('Your ticket cost is $15')"
   ]
  },
  {
   "cell_type": "code",
   "execution_count": 48,
   "metadata": {},
   "outputs": [],
   "source": [
    "## 3"
   ]
  },
  {
   "cell_type": "code",
   "execution_count": null,
   "metadata": {},
   "outputs": [],
   "source": [
    "prompt = 'Please enter the toppings you want here'\n",
    "prompt += \"\\n Enter 'quit' once done\"\n",
    "\n",
    "while True:\n",
    "    topping = input(prompt)\n",
    "    if topping != 'quit':\n",
    "        print(f\"Adding your {topping}\")\n",
    "    else:\n",
    "        break"
   ]
  },
  {
   "cell_type": "code",
   "execution_count": 34,
   "metadata": {},
   "outputs": [
    {
     "name": "stdout",
     "output_type": "stream",
     "text": [
      "Please enter the toppings you want here\n",
      " Enter 'quit' once done'cheese'\n",
      "Adding 'cheese'  to your pizza.\n",
      "Please enter the toppings you want here\n",
      " Enter 'quit' once done'pineapple'\n",
      "Adding 'pineapple'  to your pizza.\n",
      "Please enter the toppings you want here\n",
      " Enter 'quit' once done'grilled onions'\n",
      "Adding 'grilled onions'  to your pizza.\n",
      "Please enter the toppings you want here\n",
      " Enter 'quit' once donequit\n"
     ]
    }
   ],
   "source": [
    "prompt = 'Please enter the toppings you want here'\n",
    "prompt += \"\\n Enter 'quit' once done\"\n",
    "\n",
    "active = True\n",
    "\n",
    "while active:\n",
    "    topping = input(prompt)\n",
    "    if topping == 'quit':\n",
    "        active = False\n",
    "    else:\n",
    "        print(f\"Adding {topping}  to your pizza.\")"
   ]
  },
  {
   "cell_type": "code",
   "execution_count": 2,
   "metadata": {},
   "outputs": [],
   "source": [
    "## Using a while loop with lists and dictionaries\n"
   ]
  },
  {
   "cell_type": "code",
   "execution_count": 15,
   "metadata": {},
   "outputs": [
    {
     "name": "stdout",
     "output_type": "stream",
     "text": [
      "\n",
      "Verifying user: Candice\n",
      "\n",
      "Here's the list of all the verified users.\n",
      "\n",
      " Candice\n",
      "\n",
      "Verifying user: Brian\n",
      "\n",
      "Here's the list of all the verified users.\n",
      "\n",
      " Candice\n",
      "\n",
      " Brian\n",
      "\n",
      "Verifying user: Alice\n",
      "\n",
      "Here's the list of all the verified users.\n",
      "\n",
      " Candice\n",
      "\n",
      " Brian\n",
      "\n",
      " Alice\n"
     ]
    }
   ],
   "source": [
    "unconfirmed_users = ['alice','brian','candice']\n",
    "\n",
    "confirmed_users = []\n",
    "\n",
    "while unconfirmed_users:\n",
    "    current_user = unconfirmed_users.pop()\n",
    "    \n",
    "    print(f\"\\nVerifying user: {current_user.title()}\")\n",
    "    confirmed_users.append(current_user.title())\n",
    "    \n",
    "    print(f\"\\nHere's the list of all the verified users.\")\n",
    "    for confirmed_user in confirmed_users:\n",
    "        print(f\"\\n {confirmed_user.title()}\")"
   ]
  },
  {
   "cell_type": "code",
   "execution_count": 29,
   "metadata": {},
   "outputs": [
    {
     "name": "stdout",
     "output_type": "stream",
     "text": [
      " Verifying user: Candice\n",
      " Verifying user: Brian\n",
      " Verifying user: Alice\n",
      "\n",
      " Here is the list of confirmed users: \n",
      "\t Candice\n",
      "\t Brian\n",
      "\t Alice\n"
     ]
    }
   ],
   "source": [
    "unconfirmed_users = ['alice','brian','candice']\n",
    "confirmed_users = []\n",
    "\n",
    "while unconfirmed_users:\n",
    "    current_users = unconfirmed_users.pop()\n",
    "    \n",
    "    print(f\" Verifying user: {current_users.title()}\")\n",
    "    confirmed_users.append(current_users)\n",
    "    \n",
    "print(\"\\n Here is the list of confirmed users: \")\n",
    "for confirmed_user in confirmed_users:\n",
    "    print(f\"\\t {confirmed_user.title()}\")\n",
    "        "
   ]
  },
  {
   "cell_type": "code",
   "execution_count": 30,
   "metadata": {},
   "outputs": [],
   "source": [
    "## Removing all the instances of a specific value from the list"
   ]
  },
  {
   "cell_type": "code",
   "execution_count": 37,
   "metadata": {},
   "outputs": [
    {
     "name": "stdout",
     "output_type": "stream",
     "text": [
      "['dog', 'cat', 'dog', 'cat', 'goldfish', 'dog', 'snake', 'kitten', 'lizard', 'pigeon', 'dog', 'cat']\n"
     ]
    }
   ],
   "source": [
    "pets = ['dog','cat','dog','cat','goldfish','dog','snake','kitten','lizard','pigeon','dog','cat']\n",
    "print(pets)"
   ]
  },
  {
   "cell_type": "code",
   "execution_count": 38,
   "metadata": {},
   "outputs": [
    {
     "name": "stdout",
     "output_type": "stream",
     "text": [
      "['dog', 'dog', 'goldfish', 'dog', 'snake', 'kitten', 'lizard', 'pigeon', 'dog']\n"
     ]
    }
   ],
   "source": [
    "while 'cat' in pets:\n",
    "    pets.remove('cat')\n",
    "    \n",
    "print(pets)"
   ]
  },
  {
   "cell_type": "code",
   "execution_count": 39,
   "metadata": {},
   "outputs": [],
   "source": [
    "## Filling a dictinary with user input"
   ]
  },
  {
   "cell_type": "code",
   "execution_count": null,
   "metadata": {},
   "outputs": [],
   "source": [
    "responses = {}\n",
    "\n",
    "polling_active = True\n",
    "\n",
    "while polling_active:\n",
    "    name = input(\"What is your name?\")\n",
    "    response = input(\"Which mountain would you like to climb one day?\")\n",
    "    \n",
    "    responses[name] = response\n",
    "    \n",
    "    repeat = input(\"Would you like another person to take the poll (Yes / No)\")\n",
    "    if repeat == 'No':\n",
    "        polling_active = False\n",
    "        \n",
    "print(\"\\n-------Poll Results-------\")\n",
    "for names,info in responses.items():\n",
    "    print(f\"\\n {names} would like to climb {info} someday\")"
   ]
  },
  {
   "cell_type": "code",
   "execution_count": 1,
   "metadata": {},
   "outputs": [
    {
     "name": "stdout",
     "output_type": "stream",
     "text": [
      "What is your name gentleman?Hehe\n",
      "Which mountain would you like to climb one dayEverest\n",
      "Would you like another person to take the poll (YES \\ NO)NO\n",
      "---___POLL RESULTS___---\n",
      "Hehe would like to climb the Everest someday.\n"
     ]
    }
   ],
   "source": [
    "responses = {}\n",
    "\n",
    "polling_active = True\n",
    "\n",
    "while polling_active:\n",
    "    name = input(\"What is your name gentleman?\")\n",
    "    response = input(\"Which mountain would you like to climb one day\")\n",
    "    \n",
    "    responses[name] = response\n",
    "    \n",
    "    repeat = input(\"Would you like another person to take the poll (YES \\ NO)\")\n",
    "    if repeat == 'NO':\n",
    "        polling_active = False\n",
    "        \n",
    "print(\"---___POLL RESULTS___---\")\n",
    "for name, mountains in responses.items():\n",
    "    print(f\"{name} would like to climb the {mountains} someday.\")"
   ]
  },
  {
   "cell_type": "code",
   "execution_count": 2,
   "metadata": {},
   "outputs": [],
   "source": [
    "## DIY Exercise"
   ]
  },
  {
   "cell_type": "code",
   "execution_count": 3,
   "metadata": {},
   "outputs": [],
   "source": [
    "# (1) DELI"
   ]
  },
  {
   "cell_type": "code",
   "execution_count": 7,
   "metadata": {},
   "outputs": [
    {
     "name": "stdout",
     "output_type": "stream",
     "text": [
      " Preparing your Pineapple Grilled Onions\n",
      " Preparing your Chocolate Sandwhich\n",
      " Preparing your Double Decker\n",
      " Preparing your Cheese Chutney\n",
      " Preparing your Veg Sandwhich\n",
      "\n",
      "\n",
      "\tYou pineapple grilled onions is ready.\n",
      "\tYou chocolate sandwhich is ready.\n",
      "\tYou double decker is ready.\n",
      "\tYou cheese chutney is ready.\n",
      "\tYou veg sandwhich is ready.\n"
     ]
    }
   ],
   "source": [
    "sandwhich_orders = ['veg sandwhich','cheese chutney','double decker','chocolate sandwhich','pineapple grilled onions']\n",
    "\n",
    "finished_orders = []\n",
    "\n",
    "while sandwhich_orders:\n",
    "    current_orders = sandwhich_orders.pop()\n",
    "    \n",
    "    print(f\" Preparing your {current_orders.title()}\")\n",
    "    finished_orders.append(current_orders)\n",
    "    \n",
    "print(\"\\n\")\n",
    "for sandwhich in finished_orders:\n",
    "    print(f\"\\tYou {sandwhich} is ready.\")\n",
    "    \n",
    "    "
   ]
  },
  {
   "cell_type": "code",
   "execution_count": 33,
   "metadata": {},
   "outputs": [
    {
     "name": "stdout",
     "output_type": "stream",
     "text": [
      "Preparig your Pineapple Grilled Onions.\n",
      "Preparig your Chocolate Sandwhich.\n",
      "Preparig your Double Decker.\n",
      "Preparig your Cheese Chutney.\n",
      "Preparig your Veg Sandwhich.\n",
      "\n",
      "\n",
      "\tYour pineapple grilled onions is ready.\n",
      "\tYour chocolate sandwhich is ready.\n",
      "\tYour double decker is ready.\n",
      "\tYour cheese chutney is ready.\n",
      "\tYour veg sandwhich is ready.\n"
     ]
    }
   ],
   "source": [
    "sandwhich_orders = ['veg sandwhich','cheese chutney','double decker','chocolate sandwhich','pineapple grilled onions']\n",
    "finished_orders = []\n",
    "\n",
    "while sandwhich_orders:\n",
    "    current_orders = sandwhich_orders.pop()\n",
    "    \n",
    "    print(f\"Preparig your {current_orders.title()}.\")\n",
    "    finished_orders.append(current_orders)\n",
    "\n",
    "print(\"\\n\")    \n",
    "for sandwhich in finished_orders:\n",
    "    print(f\"\\tYour {sandwhich} is ready.\")"
   ]
  },
  {
   "cell_type": "code",
   "execution_count": 32,
   "metadata": {},
   "outputs": [
    {
     "name": "stdout",
     "output_type": "stream",
     "text": [
      "Sorry we have run out of pastrami today.\n",
      "\n",
      "Preparig your Pineapple Grilled Onions.\n",
      "\n",
      "Preparig your Chocolate Sandwhich.\n",
      "\n",
      "Preparig your Double Decker.\n",
      "\n",
      "Preparig your Cheese Chutney.\n",
      "\n",
      "Preparig your Veg Sandwhich.\n",
      "\n",
      "\n",
      "\tYour Pineapple Grilled Onions is ready.\n",
      "\tYour Chocolate Sandwhich is ready.\n",
      "\tYour Double Decker is ready.\n",
      "\tYour Cheese Chutney is ready.\n",
      "\tYour Veg Sandwhich is ready.\n"
     ]
    }
   ],
   "source": [
    "sandwhich_orders = ['pastrami','veg sandwhich','cheese chutney','double decker','pastrami','chocolate sandwhich',\n",
    "                    'pineapple grilled onions','pastrami']\n",
    "finished_orders = []\n",
    "\n",
    "while sandwhich_orders:\n",
    "    current_orders = sandwhich_orders.pop()\n",
    "    \n",
    "    if 'pastrami' in sandwhich_orders:\n",
    "        print(\"Sorry we have run out of pastrami today.\")\n",
    "    else:\n",
    "        print(f\"\\nPreparig your {current_orders.title()}.\")\n",
    "        finished_orders.append(current_orders)    \n",
    "        \n",
    "    while 'pastrami' in sandwhich_orders:\n",
    "        sandwhich_orders.remove('pastrami')\n",
    "\n",
    "print(\"\\n\")    \n",
    "for sandwhich in finished_orders:\n",
    "    print(f\"\\tYour {sandwhich.title()} is ready.\")"
   ]
  },
  {
   "cell_type": "code",
   "execution_count": 24,
   "metadata": {},
   "outputs": [],
   "source": [
    "## Honeymoon poll results"
   ]
  },
  {
   "cell_type": "code",
   "execution_count": 31,
   "metadata": {},
   "outputs": [
    {
     "name": "stdout",
     "output_type": "stream",
     "text": [
      "What is your name?mimansa\n",
      "Where would you like to go for honeymoon?switzerland\n",
      "Would you like your partner to take the result (YES \\ NO)NO\n",
      "\n",
      "\t\n",
      "----____POLL RESULTS___----\n",
      "mimansa would like to go for honeymoon to switzerland.\n"
     ]
    }
   ],
   "source": [
    "responses = {}\n",
    "\n",
    "polling_active = True\n",
    "\n",
    "while polling_active:\n",
    "    name = input(\"What is your name?\")\n",
    "    response = input(\"Where would you like to go for honeymoon?\")\n",
    "    \n",
    "    responses[name] = response\n",
    "    \n",
    "    repeat = input(\"Would you like your partner to take the result (YES \\ NO)\")\n",
    "    if repeat == 'NO':\n",
    "        polling_active = False\n",
    "        \n",
    "print(\"\\n\\t\")\n",
    "print(\"----____POLL RESULTS___----\")\n",
    "\n",
    "for name, info in responses.items():\n",
    "    print(f\"{name} would like to go for honeymoon to {info}.\")"
   ]
  },
  {
   "cell_type": "code",
   "execution_count": null,
   "metadata": {},
   "outputs": [],
   "source": []
  }
 ],
 "metadata": {
  "kernelspec": {
   "display_name": "Python 3",
   "language": "python",
   "name": "python3"
  },
  "language_info": {
   "codemirror_mode": {
    "name": "ipython",
    "version": 3
   },
   "file_extension": ".py",
   "mimetype": "text/x-python",
   "name": "python",
   "nbconvert_exporter": "python",
   "pygments_lexer": "ipython3",
   "version": "3.7.6"
  }
 },
 "nbformat": 4,
 "nbformat_minor": 4
}
