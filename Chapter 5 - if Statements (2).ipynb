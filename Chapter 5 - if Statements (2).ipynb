{
 "cells": [
  {
   "cell_type": "code",
   "execution_count": 192,
   "metadata": {},
   "outputs": [],
   "source": [
    "#### if statements\n",
    "\n",
    "## Conditional tests will be written here to check the condition of interest"
   ]
  },
  {
   "cell_type": "code",
   "execution_count": 7,
   "metadata": {},
   "outputs": [],
   "source": [
    "## A basic example\n",
    "\n",
    "cars = ['audi', 'bmw', 'porsche', 'toyota']"
   ]
  },
  {
   "cell_type": "code",
   "execution_count": 8,
   "metadata": {},
   "outputs": [
    {
     "name": "stdout",
     "output_type": "stream",
     "text": [
      "Audi\n",
      "BMW\n",
      "Porsche\n",
      "Toyota\n"
     ]
    }
   ],
   "source": [
    "for car in cars:\n",
    "    if car == 'bmw':\n",
    "        print(car.upper())\n",
    "    else:\n",
    "        print(car.title())"
   ]
  },
  {
   "cell_type": "code",
   "execution_count": 10,
   "metadata": {},
   "outputs": [],
   "source": [
    "## Conditional tests"
   ]
  },
  {
   "cell_type": "code",
   "execution_count": 12,
   "metadata": {},
   "outputs": [],
   "source": [
    "## There is always an expression in an (if statement) which can be evaluated as True of False and this entire process is called\n",
    "## CONDITONAL TEST."
   ]
  },
  {
   "cell_type": "code",
   "execution_count": 13,
   "metadata": {},
   "outputs": [],
   "source": [
    "## Checking for equality"
   ]
  },
  {
   "cell_type": "code",
   "execution_count": 14,
   "metadata": {},
   "outputs": [
    {
     "data": {
      "text/plain": [
       "True"
      ]
     },
     "execution_count": 14,
     "metadata": {},
     "output_type": "execute_result"
    }
   ],
   "source": [
    "car = 'bmw'\n",
    "\n",
    "car =='bmw'"
   ]
  },
  {
   "cell_type": "code",
   "execution_count": 17,
   "metadata": {},
   "outputs": [
    {
     "data": {
      "text/plain": [
       "False"
      ]
     },
     "execution_count": 17,
     "metadata": {},
     "output_type": "execute_result"
    }
   ],
   "source": [
    "car ='audi'\n",
    "car == 'bmw'\n",
    "\n",
    "## Also,Python is case sensitive."
   ]
  },
  {
   "cell_type": "code",
   "execution_count": 18,
   "metadata": {},
   "outputs": [
    {
     "data": {
      "text/plain": [
       "False"
      ]
     },
     "execution_count": 18,
     "metadata": {},
     "output_type": "execute_result"
    }
   ],
   "source": [
    "car = 'audi'\n",
    "car == 'Audi'"
   ]
  },
  {
   "cell_type": "code",
   "execution_count": 19,
   "metadata": {},
   "outputs": [
    {
     "data": {
      "text/plain": [
       "True"
      ]
     },
     "execution_count": 19,
     "metadata": {},
     "output_type": "execute_result"
    }
   ],
   "source": [
    "car = 'Audi'\n",
    "car.lower() == 'audi'"
   ]
  },
  {
   "cell_type": "code",
   "execution_count": 20,
   "metadata": {},
   "outputs": [
    {
     "name": "stdout",
     "output_type": "stream",
     "text": [
      "Hold the Anchovies\n"
     ]
    }
   ],
   "source": [
    "requested_toppings = 'mushroom'\n",
    "\n",
    "if requested_toppings != 'Anchovies':\n",
    "    print(\"Hold the Anchovies\")"
   ]
  },
  {
   "cell_type": "code",
   "execution_count": 21,
   "metadata": {},
   "outputs": [],
   "source": [
    "## Numerical COmparisons"
   ]
  },
  {
   "cell_type": "code",
   "execution_count": 22,
   "metadata": {},
   "outputs": [
    {
     "data": {
      "text/plain": [
       "True"
      ]
     },
     "execution_count": 22,
     "metadata": {},
     "output_type": "execute_result"
    }
   ],
   "source": [
    "age = 18\n",
    "\n",
    "age == 18"
   ]
  },
  {
   "cell_type": "code",
   "execution_count": 25,
   "metadata": {},
   "outputs": [
    {
     "name": "stdout",
     "output_type": "stream",
     "text": [
      "That is not the correct answer. Try again bitch\n"
     ]
    }
   ],
   "source": [
    "answer = 17\n",
    "\n",
    "if answer != 57:\n",
    "    print(\"That is not the correct answer. Try again\")"
   ]
  },
  {
   "cell_type": "code",
   "execution_count": 26,
   "metadata": {},
   "outputs": [
    {
     "data": {
      "text/plain": [
       "True"
      ]
     },
     "execution_count": 26,
     "metadata": {},
     "output_type": "execute_result"
    }
   ],
   "source": [
    "age = 19\n",
    "\n",
    "age == 19"
   ]
  },
  {
   "cell_type": "code",
   "execution_count": 27,
   "metadata": {},
   "outputs": [
    {
     "data": {
      "text/plain": [
       "True"
      ]
     },
     "execution_count": 27,
     "metadata": {},
     "output_type": "execute_result"
    }
   ],
   "source": [
    "age < 21"
   ]
  },
  {
   "cell_type": "code",
   "execution_count": 28,
   "metadata": {},
   "outputs": [
    {
     "data": {
      "text/plain": [
       "True"
      ]
     },
     "execution_count": 28,
     "metadata": {},
     "output_type": "execute_result"
    }
   ],
   "source": [
    "age <= 21"
   ]
  },
  {
   "cell_type": "code",
   "execution_count": 29,
   "metadata": {},
   "outputs": [
    {
     "data": {
      "text/plain": [
       "False"
      ]
     },
     "execution_count": 29,
     "metadata": {},
     "output_type": "execute_result"
    }
   ],
   "source": [
    "age > 21"
   ]
  },
  {
   "cell_type": "code",
   "execution_count": 30,
   "metadata": {},
   "outputs": [
    {
     "data": {
      "text/plain": [
       "False"
      ]
     },
     "execution_count": 30,
     "metadata": {},
     "output_type": "execute_result"
    }
   ],
   "source": [
    "age >= 21"
   ]
  },
  {
   "cell_type": "code",
   "execution_count": 31,
   "metadata": {},
   "outputs": [],
   "source": [
    "## Checking multiple conditions"
   ]
  },
  {
   "cell_type": "code",
   "execution_count": 32,
   "metadata": {},
   "outputs": [],
   "source": [
    "a = 24\n",
    "b = 12"
   ]
  },
  {
   "cell_type": "code",
   "execution_count": 35,
   "metadata": {},
   "outputs": [
    {
     "data": {
      "text/plain": [
       "False"
      ]
     },
     "execution_count": 35,
     "metadata": {},
     "output_type": "execute_result"
    }
   ],
   "source": [
    "a >= 21 and b >= 21"
   ]
  },
  {
   "cell_type": "code",
   "execution_count": 36,
   "metadata": {},
   "outputs": [
    {
     "data": {
      "text/plain": [
       "False"
      ]
     },
     "execution_count": 36,
     "metadata": {},
     "output_type": "execute_result"
    }
   ],
   "source": [
    "a and b >= 21"
   ]
  },
  {
   "cell_type": "code",
   "execution_count": 37,
   "metadata": {},
   "outputs": [
    {
     "data": {
      "text/plain": [
       "True"
      ]
     },
     "execution_count": 37,
     "metadata": {},
     "output_type": "execute_result"
    }
   ],
   "source": [
    "a > 21"
   ]
  },
  {
   "cell_type": "code",
   "execution_count": 38,
   "metadata": {},
   "outputs": [],
   "source": [
    "a = 24\n",
    "b = 21"
   ]
  },
  {
   "cell_type": "code",
   "execution_count": 39,
   "metadata": {},
   "outputs": [
    {
     "data": {
      "text/plain": [
       "True"
      ]
     },
     "execution_count": 39,
     "metadata": {},
     "output_type": "execute_result"
    }
   ],
   "source": [
    "a and b >= 21"
   ]
  },
  {
   "cell_type": "code",
   "execution_count": 40,
   "metadata": {},
   "outputs": [],
   "source": [
    "## Using OR to check multiple conditions"
   ]
  },
  {
   "cell_type": "code",
   "execution_count": 42,
   "metadata": {},
   "outputs": [
    {
     "data": {
      "text/plain": [
       "True"
      ]
     },
     "execution_count": 42,
     "metadata": {},
     "output_type": "execute_result"
    }
   ],
   "source": [
    "a>=21 or b >= 21"
   ]
  },
  {
   "cell_type": "code",
   "execution_count": 43,
   "metadata": {},
   "outputs": [],
   "source": [
    "## Checking wether a value is in the list"
   ]
  },
  {
   "cell_type": "code",
   "execution_count": 47,
   "metadata": {},
   "outputs": [],
   "source": [
    "requested_toppings = ['tomato','grilled onions','dry garlic']"
   ]
  },
  {
   "cell_type": "code",
   "execution_count": 48,
   "metadata": {},
   "outputs": [
    {
     "data": {
      "text/plain": [
       "False"
      ]
     },
     "execution_count": 48,
     "metadata": {},
     "output_type": "execute_result"
    }
   ],
   "source": [
    "'mushrooms' in requested_toppings"
   ]
  },
  {
   "cell_type": "code",
   "execution_count": 49,
   "metadata": {},
   "outputs": [
    {
     "data": {
      "text/plain": [
       "True"
      ]
     },
     "execution_count": 49,
     "metadata": {},
     "output_type": "execute_result"
    }
   ],
   "source": [
    "'grilled onions' in requested_toppings"
   ]
  },
  {
   "cell_type": "code",
   "execution_count": 50,
   "metadata": {},
   "outputs": [],
   "source": [
    "## Checking wether a value is not in the list"
   ]
  },
  {
   "cell_type": "code",
   "execution_count": 51,
   "metadata": {},
   "outputs": [],
   "source": [
    "banned_users = ['andrew','carolina','david']"
   ]
  },
  {
   "cell_type": "code",
   "execution_count": 52,
   "metadata": {},
   "outputs": [],
   "source": [
    "user = 'marie'"
   ]
  },
  {
   "cell_type": "code",
   "execution_count": 53,
   "metadata": {},
   "outputs": [
    {
     "data": {
      "text/plain": [
       "False"
      ]
     },
     "execution_count": 53,
     "metadata": {},
     "output_type": "execute_result"
    }
   ],
   "source": [
    "'marie' in banned_users"
   ]
  },
  {
   "cell_type": "code",
   "execution_count": 56,
   "metadata": {},
   "outputs": [
    {
     "name": "stdout",
     "output_type": "stream",
     "text": [
      " Marie, you can post a response if you wish.\n"
     ]
    }
   ],
   "source": [
    "if user not in banned_users:\n",
    "    print(f\" {user.title()}, you can post a response if you wish.\")"
   ]
  },
  {
   "cell_type": "code",
   "execution_count": 57,
   "metadata": {},
   "outputs": [],
   "source": [
    "## Boolean Expressions"
   ]
  },
  {
   "cell_type": "code",
   "execution_count": 58,
   "metadata": {},
   "outputs": [],
   "source": [
    "game_active = True\n",
    "can_edit = False"
   ]
  },
  {
   "cell_type": "code",
   "execution_count": 59,
   "metadata": {},
   "outputs": [],
   "source": [
    "## DIY Exercise"
   ]
  },
  {
   "cell_type": "code",
   "execution_count": 69,
   "metadata": {},
   "outputs": [
    {
     "name": "stdout",
     "output_type": "stream",
     "text": [
      " Subaru. Yessssssss!! I guessed it right bitch\n"
     ]
    }
   ],
   "source": [
    "cars = ['subaru','bmw']\n",
    "\n",
    "for car in cars:\n",
    "    if car == 'subaru':\n",
    "        print(f\" {car.title()}. Yessssssss!! I guessed it right bitch\")\n",
    "    elif car == 'audi':\n",
    "        print(\" Damn how can I be wrong\")\n",
    "        "
   ]
  },
  {
   "cell_type": "code",
   "execution_count": 70,
   "metadata": {},
   "outputs": [],
   "source": [
    "for car in cars:\n",
    "    if car == 'toyota fortuner':\n",
    "        print(f\" {car.title()}. Yessssssss!! I guessed it right bitch\")\n",
    "    elif car == 'audi':\n",
    "        print(\" Damn how can I be wrong\")"
   ]
  },
  {
   "cell_type": "code",
   "execution_count": 71,
   "metadata": {},
   "outputs": [],
   "source": [
    "## if Statements"
   ]
  },
  {
   "cell_type": "code",
   "execution_count": 73,
   "metadata": {},
   "outputs": [
    {
     "name": "stdout",
     "output_type": "stream",
     "text": [
      "You are old\n"
     ]
    }
   ],
   "source": [
    "age = 19\n",
    "\n",
    "if age >= 19:\n",
    "    print(\"You are old\")"
   ]
  },
  {
   "cell_type": "code",
   "execution_count": 76,
   "metadata": {},
   "outputs": [
    {
     "name": "stdout",
     "output_type": "stream",
     "text": [
      "You are old enough to vote\n",
      "Have you registered for your voter id, Mr Bugu?\n"
     ]
    }
   ],
   "source": [
    "name = 'Bugu'\n",
    "age = 18\n",
    "\n",
    "if age >=18:\n",
    "    print(\"You are old enough to vote\")\n",
    "    print(f\"Have you registered for your voter id, Mr {name.title()}?\")"
   ]
  },
  {
   "cell_type": "code",
   "execution_count": 80,
   "metadata": {},
   "outputs": [
    {
     "name": "stdout",
     "output_type": "stream",
     "text": [
      "Sorry you are too young to vote. Go home kid Bugu. huihui hehe\n"
     ]
    }
   ],
   "source": [
    "name = 'Bugu'\n",
    "age = 17\n",
    "\n",
    "if age >=18:\n",
    "    print(\"You are old enough to vote\")\n",
    "    print(f\"Have you registered for your voter id, Mr {name.title()}?\")\n",
    "else:\n",
    "    print(f\"Sorry you are too young to vote. Go home kid {name.title()}. huihui hehe\")"
   ]
  },
  {
   "cell_type": "code",
   "execution_count": 98,
   "metadata": {},
   "outputs": [
    {
     "name": "stdout",
     "output_type": "stream",
     "text": [
      "ticket fees for your age is $25\n"
     ]
    }
   ],
   "source": [
    "age = 12\n",
    "if age < 4:\n",
    "    print(\"you have got a free pass\")\n",
    "elif age >=4 and age <=18:\n",
    "    print(\"ticket fees for your age is $25\")\n",
    "else:\n",
    "    print(\"You are old enough to not get any discount. Pay $40\")"
   ]
  },
  {
   "cell_type": "code",
   "execution_count": 101,
   "metadata": {},
   "outputs": [
    {
     "name": "stdout",
     "output_type": "stream",
     "text": [
      "Your admission cost is $25.\n"
     ]
    }
   ],
   "source": [
    "age = 12\n",
    "\n",
    "if age < 4:\n",
    "    price = 0\n",
    "elif age < 18 and age > 4:\n",
    "    price = 25\n",
    "else:\n",
    "    price = 40\n",
    "\n",
    "print(f\"Your admission cost is ${price}.\")"
   ]
  },
  {
   "cell_type": "code",
   "execution_count": 102,
   "metadata": {},
   "outputs": [],
   "source": [
    "## Using multiple elif blocks"
   ]
  },
  {
   "cell_type": "code",
   "execution_count": 110,
   "metadata": {},
   "outputs": [
    {
     "name": "stdout",
     "output_type": "stream",
     "text": [
      " Your ticekt price is $25.\n"
     ]
    }
   ],
   "source": [
    "age = 12\n",
    "\n",
    "if age < 4:\n",
    "    price = 0\n",
    "elif age < 18 and age > 4:\n",
    "    price = 25\n",
    "elif age < 65:\n",
    "    price = 40\n",
    "else:\n",
    "    price = 30\n",
    "\n",
    "print(f\" Your ticekt price is ${price}.\")"
   ]
  },
  {
   "cell_type": "code",
   "execution_count": 111,
   "metadata": {},
   "outputs": [],
   "source": [
    "## Ommiting the else block"
   ]
  },
  {
   "cell_type": "code",
   "execution_count": 114,
   "metadata": {},
   "outputs": [
    {
     "name": "stdout",
     "output_type": "stream",
     "text": [
      "Your ticket price is $25.\n"
     ]
    }
   ],
   "source": [
    "age = 12\n",
    "\n",
    "if age < 4:\n",
    "    price = 0\n",
    "elif age < 18:\n",
    "    price = 25\n",
    "elif age < 65:\n",
    "    price = 40\n",
    "elif age >= 65:\n",
    "    price = 20\n",
    "    \n",
    "print(f\"Your ticket price is ${price}.\")"
   ]
  },
  {
   "cell_type": "code",
   "execution_count": 115,
   "metadata": {},
   "outputs": [],
   "source": [
    "## When one or more conditions is required to be true use only (if Statements)"
   ]
  },
  {
   "cell_type": "code",
   "execution_count": 119,
   "metadata": {},
   "outputs": [
    {
     "name": "stdout",
     "output_type": "stream",
     "text": [
      "Adding mushrooms\n",
      "Adding grilled onions\n",
      "Added that too. Get fat. I don't care\n",
      "\n",
      " Finished making your pizza.\n"
     ]
    }
   ],
   "source": [
    "requested_toppings = ['mushroom','grilled onions','extra cheese','pepproni']\n",
    "\n",
    "if 'mushroom' in requested_toppings:\n",
    "    print(\"Adding mushrooms\")\n",
    "if 'grilled onions' in requested_toppings:\n",
    "    print(\"Adding grilled onions\")\n",
    "if 'extra cheese' in requested_toppings:\n",
    "    print(\"Added that too. Get fat. I don't care\")\n",
    "\n",
    "print(\"\\n Finished making your pizza.\")"
   ]
  },
  {
   "cell_type": "code",
   "execution_count": 120,
   "metadata": {},
   "outputs": [],
   "source": [
    "## DIY EXERCISES"
   ]
  },
  {
   "cell_type": "code",
   "execution_count": 121,
   "metadata": {},
   "outputs": [],
   "source": [
    "## 1) ALien Colors"
   ]
  },
  {
   "cell_type": "code",
   "execution_count": 125,
   "metadata": {},
   "outputs": [
    {
     "name": "stdout",
     "output_type": "stream",
     "text": [
      "You just earned 5 points\n"
     ]
    }
   ],
   "source": [
    "alien_color = ['blue']\n",
    "\n",
    "if 'blue' in alien_color:\n",
    "    print('You just earned 5 points')"
   ]
  },
  {
   "cell_type": "code",
   "execution_count": 127,
   "metadata": {},
   "outputs": [],
   "source": [
    "if 'green' in alien_color:\n",
    "    print('You failed.')"
   ]
  },
  {
   "cell_type": "code",
   "execution_count": 128,
   "metadata": {},
   "outputs": [],
   "source": [
    "## 2"
   ]
  },
  {
   "cell_type": "code",
   "execution_count": 130,
   "metadata": {},
   "outputs": [
    {
     "name": "stdout",
     "output_type": "stream",
     "text": [
      "YOu just earned 5 points\n"
     ]
    }
   ],
   "source": [
    "alien_color = ['green']\n",
    "\n",
    "if 'green' in alien_color:\n",
    "    print('You just earned 5 points')"
   ]
  },
  {
   "cell_type": "code",
   "execution_count": 132,
   "metadata": {},
   "outputs": [
    {
     "name": "stdout",
     "output_type": "stream",
     "text": [
      "You just earned 10 points\n"
     ]
    }
   ],
   "source": [
    "alien_color = 'blue'\n",
    "if 'green' not in alien_color:\n",
    "    print('You just earned 10 points')"
   ]
  },
  {
   "cell_type": "code",
   "execution_count": 136,
   "metadata": {},
   "outputs": [
    {
     "name": "stdout",
     "output_type": "stream",
     "text": [
      "You just earned 10 points.\n"
     ]
    }
   ],
   "source": [
    "if 'green' in alien_color:\n",
    "    print(\"You just earned 5 points.\")\n",
    "else:\n",
    "    print(\"You just earned 10 points.\")"
   ]
  },
  {
   "cell_type": "code",
   "execution_count": 137,
   "metadata": {},
   "outputs": [
    {
     "name": "stdout",
     "output_type": "stream",
     "text": [
      "You just earned 5 points.\n"
     ]
    }
   ],
   "source": [
    "alien_color = 'green'\n",
    "\n",
    "if 'green' in alien_color:\n",
    "    print(\"You just earned 5 points.\")\n",
    "else:\n",
    "    print(\"You just earned 10 points.\")\n"
   ]
  },
  {
   "cell_type": "code",
   "execution_count": 139,
   "metadata": {},
   "outputs": [
    {
     "name": "stdout",
     "output_type": "stream",
     "text": [
      "You just earned 5 points\n"
     ]
    }
   ],
   "source": [
    "## 3 if-else chain\n",
    "\n",
    "alien_color = 'red'\n",
    "\n",
    "if 'red' in alien_color:\n",
    "    print('You just earned 5 points')\n",
    "elif 'yellow' in alien_color:\n",
    "    print('You just earned 10 points')\n",
    "else:\n",
    "    print('You just earned 15 points')"
   ]
  },
  {
   "cell_type": "code",
   "execution_count": 140,
   "metadata": {},
   "outputs": [
    {
     "name": "stdout",
     "output_type": "stream",
     "text": [
      "You just earned 10 points\n"
     ]
    }
   ],
   "source": [
    "alien_color = 'yellow'\n",
    "\n",
    "if 'red' in alien_color:\n",
    "    print('You just earned 5 points')\n",
    "elif 'yellow' in alien_color:\n",
    "    print('You just earned 10 points')\n",
    "else:\n",
    "    print('You just earned 15 points')"
   ]
  },
  {
   "cell_type": "code",
   "execution_count": 141,
   "metadata": {},
   "outputs": [
    {
     "name": "stdout",
     "output_type": "stream",
     "text": [
      "You just earned 15 points\n"
     ]
    }
   ],
   "source": [
    "alien_color = 'green'\n",
    "\n",
    "if 'red' in alien_color:\n",
    "    print('You just earned 5 points')\n",
    "elif 'yellow' in alien_color:\n",
    "    print('You just earned 10 points')\n",
    "else:\n",
    "    print('You just earned 15 points')"
   ]
  },
  {
   "cell_type": "code",
   "execution_count": 142,
   "metadata": {},
   "outputs": [],
   "source": [
    "## 4 - Stages of Life"
   ]
  },
  {
   "cell_type": "code",
   "execution_count": 145,
   "metadata": {},
   "outputs": [
    {
     "name": "stdout",
     "output_type": "stream",
     "text": [
      "Chuck Bartowsky is an adult.\n"
     ]
    }
   ],
   "source": [
    "person = 'Chuck Bartowsky'\n",
    "age = 24\n",
    "\n",
    "if age < 2:\n",
    "    print(f\"{person} is a baby.\")\n",
    "elif age >= 2 and age < 4:\n",
    "    print(f\"{person} is a toddler.\")\n",
    "elif age >= 4 and age < 13:\n",
    "    print(f\"{person} is a kid.\")\n",
    "elif age >= 13 and age < 20:\n",
    "    print(f\"{person} is a teenager.\")\n",
    "elif age >= 20 and age < 65:\n",
    "    print(f\"{person} is an adult.\")\n",
    "else:\n",
    "    print(f\"{person} is an elder.\")"
   ]
  },
  {
   "cell_type": "code",
   "execution_count": 146,
   "metadata": {},
   "outputs": [],
   "source": [
    "fruits = ['bananas','appple','orange']"
   ]
  },
  {
   "cell_type": "code",
   "execution_count": 149,
   "metadata": {},
   "outputs": [
    {
     "name": "stdout",
     "output_type": "stream",
     "text": [
      "You really like bananas, you monkey.\n",
      "You really like apples.\n",
      "You really like orange.\n"
     ]
    }
   ],
   "source": [
    "if 'bananas' in fruits:\n",
    "    print(\"You really like bananas, you monkey.\")\n",
    "if 'appple' in fruits:\n",
    "    print(\"You really like apples.\")\n",
    "if 'orange' in fruits:\n",
    "    print(\"You really like orange.\")"
   ]
  },
  {
   "cell_type": "code",
   "execution_count": 150,
   "metadata": {},
   "outputs": [],
   "source": [
    "## USing if statements with Lists"
   ]
  },
  {
   "cell_type": "code",
   "execution_count": 157,
   "metadata": {},
   "outputs": [
    {
     "name": "stdout",
     "output_type": "stream",
     "text": [
      "Adding mushroom.\n",
      "Adding dried garlic.\n",
      "Adding grilled onions.\n",
      "\n",
      "\tThank you for your order. Your delicious pizza is in making\n"
     ]
    }
   ],
   "source": [
    "requested_toppings = ['mushroom.','dried garlic.','grilled onions.']\n",
    "\n",
    "for topping in requested_toppings:\n",
    "    print(f\"Adding {topping}\")\n",
    "\n",
    "print(\"\\n\\tThank you for your order. Your delicious pizza is in making\")"
   ]
  },
  {
   "cell_type": "code",
   "execution_count": 163,
   "metadata": {},
   "outputs": [
    {
     "name": "stdout",
     "output_type": "stream",
     "text": [
      "Adding mushroom.\n",
      "Adding dried garlic.\n",
      "Adding grilled onions.\n",
      "Adding green peppers\n"
     ]
    }
   ],
   "source": [
    "requested_toppings = ['mushroom.','dried garlic.','grilled onions.','green peppers']\n",
    "\n",
    "for topping in requested_toppings:\n",
    "    if requested_toppings == 'green peppers':\n",
    "        print(\"Sorry! We are out of green bell peppers right now\")\n",
    "    else:\n",
    "        print(f\"Adding {topping}\")"
   ]
  },
  {
   "cell_type": "code",
   "execution_count": 171,
   "metadata": {},
   "outputs": [
    {
     "name": "stdout",
     "output_type": "stream",
     "text": [
      "Adding green peppers.\n"
     ]
    }
   ],
   "source": [
    "requested_toppings = ['mushroom.','dried garlic.','grilled onions.','green peppers.']\n",
    "\n",
    "if requested_toppings == 'green peppers':\n",
    "    print(\"Sorry! We are out of green bell peppers right now\")\n",
    "else:\n",
    "    print(f\"Adding {topping}\")"
   ]
  },
  {
   "cell_type": "code",
   "execution_count": 186,
   "metadata": {},
   "outputs": [
    {
     "name": "stdout",
     "output_type": "stream",
     "text": [
      "Adding the mushroom.\n",
      "Adding the dried garlic.\n",
      "Adding the grilled onions.\n",
      "Sorry! We are out of parmesan cheese\n",
      "\n",
      " Finished making pizza\n"
     ]
    }
   ],
   "source": [
    "requested_toppings = ['mushroom.','dried garlic.','grilled onions.','parmesan cheese']\n",
    "\n",
    "for requested_topping in requested_toppings:\n",
    "    if requested_topping == 'parmesan cheese':\n",
    "        print(\"Sorry! We are out of parmesan cheese\")\n",
    "    else:\n",
    "        print(f\"Adding the {requested_topping}\")\n",
    "print(\"\\n Finished making pizza\")"
   ]
  },
  {
   "cell_type": "code",
   "execution_count": 191,
   "metadata": {},
   "outputs": [
    {
     "name": "stdout",
     "output_type": "stream",
     "text": [
      "Are you sure you just want a plain pizza?\n"
     ]
    }
   ],
   "source": [
    "requested_toppings = []\n",
    "\n",
    "if requested_toppings:\n",
    "    for topping in requested_toppings:\n",
    "        print(f\"Adding your {topping}\")\n",
    "    print(\"Finished making your pizza\")\n",
    "else:\n",
    "    print(\"Are you sure you just want a plain pizza?\")"
   ]
  },
  {
   "cell_type": "code",
   "execution_count": 193,
   "metadata": {},
   "outputs": [],
   "source": [
    "available_toppings = ['mushrooms','olives','green peppers','pepproni','pineapple','extra cheese']\n",
    "\n",
    "requested_toppings = ['mushrooms','french fries','extra cheese']"
   ]
  },
  {
   "cell_type": "code",
   "execution_count": 196,
   "metadata": {},
   "outputs": [
    {
     "name": "stdout",
     "output_type": "stream",
     "text": [
      "Adding mushrooms.\n",
      "Sorry, we are out of the french fries you requested for.\n",
      "Adding extra cheese.\n",
      "\n",
      " Your order pizza is complete and pizza is already in making. Thank you.\n"
     ]
    }
   ],
   "source": [
    "for topping in requested_toppings:\n",
    "    if topping in available_toppings:\n",
    "        print(f\"Adding {topping}.\")\n",
    "    else:\n",
    "        print(f\"Sorry, we are out of the {topping} you requested for.\")\n",
    "\n",
    "print(\"\\n Your order pizza is complete and pizza is already in making. Thank you.\")"
   ]
  },
  {
   "cell_type": "code",
   "execution_count": 197,
   "metadata": {},
   "outputs": [],
   "source": [
    "## DIY || (1) Hello Admin"
   ]
  },
  {
   "cell_type": "code",
   "execution_count": 200,
   "metadata": {},
   "outputs": [],
   "source": [
    "users = ['Salman','Shahrukh','Ranbir','Bugu','Admin']"
   ]
  },
  {
   "cell_type": "code",
   "execution_count": 204,
   "metadata": {},
   "outputs": [],
   "source": [
    "## (2) No - Users\n",
    "\n",
    "for user in users:\n",
    "    print(f\"Hello {user}! How can I help you today?\")"
   ]
  },
  {
   "cell_type": "code",
   "execution_count": 205,
   "metadata": {},
   "outputs": [
    {
     "name": "stdout",
     "output_type": "stream",
     "text": [
      "We need to find some users.\n"
     ]
    }
   ],
   "source": [
    "users = []\n",
    "\n",
    "for user in users:\n",
    "    print(f\"Hello {user}. How can I help you today\")\n",
    "if user not in users:\n",
    "          print(\"We need to find some users.\")"
   ]
  },
  {
   "cell_type": "code",
   "execution_count": 222,
   "metadata": {},
   "outputs": [
    {
     "name": "stdout",
     "output_type": "stream",
     "text": [
      "Great Francisco.This username is available\n",
      "Great GHANA.This username is available\n",
      "Great himachal.This username is available\n",
      "Sorry york. You will need to enter a new username\n",
      "Great india.This username is available\n"
     ]
    }
   ],
   "source": [
    "## Checking usernames\n",
    "\n",
    "current_users = ['John','Wick','New','York','San']\n",
    "\n",
    "new_users = ['Francisco','GHANA','himachal','york','india']\n",
    "\n",
    "current_users_lower = [user.lower() for user in current_users]\n",
    "\n",
    "for user in new_users:\n",
    "    if user.lower() in current_users_lower:\n",
    "        print(f\"Sorry {user}. You will need to enter a new username\")\n",
    "    else:\n",
    "        print(f\"Great {user}.This username is available\")"
   ]
  },
  {
   "cell_type": "code",
   "execution_count": 224,
   "metadata": {},
   "outputs": [
    {
     "name": "stdout",
     "output_type": "stream",
     "text": [
      "Great Francisco. This is still available\n",
      "Great GHANA. This is still available\n",
      "Great himachal. This is still available\n",
      "Sorry york. Try harder\n",
      "Great india. This is still available\n"
     ]
    }
   ],
   "source": [
    "current_users = ['John','Wick','New','York','San']\n",
    "\n",
    "new_users = ['Francisco','GHANA','himachal','york','india']\n",
    "\n",
    "current_user_lower = [user.lower() for user in current_users]\n",
    "\n",
    "for user in new_users:\n",
    "    if user.lower() in current_user_lower:\n",
    "        print(f\"Sorry {user}. Try harder\")\n",
    "    else:\n",
    "        print(f\"Great {user}. This is still available\")"
   ]
  },
  {
   "cell_type": "code",
   "execution_count": 227,
   "metadata": {},
   "outputs": [
    {
     "name": "stdout",
     "output_type": "stream",
     "text": [
      "1st\n",
      "2nd\n",
      "3rd\n",
      "4th\n",
      "5th\n",
      "6th\n",
      "7th\n",
      "8th\n",
      "9th\n"
     ]
    }
   ],
   "source": [
    "## Ordinal Numbers\n",
    "\n",
    "numbers = [1,2,3,4,5,6,7,8,9]\n",
    "\n",
    "for num in numbers:\n",
    "    if num == 1:\n",
    "        print(\"1st\")\n",
    "    elif num == 2:\n",
    "        print(\"2nd\")\n",
    "    elif num == 3:\n",
    "        print(\"3rd\")\n",
    "    elif num >= 4:\n",
    "        print(f\"{num}th\")\n"
   ]
  },
  {
   "cell_type": "code",
   "execution_count": 232,
   "metadata": {},
   "outputs": [
    {
     "name": "stdout",
     "output_type": "stream",
     "text": [
      "Great Walker. This username is still available. Your username is unique.\n",
      "Sorry Chuck. Try Harder\n",
      "Great Morgan. This username is still available. Your username is unique.\n",
      "Great Grimes. This username is still available. Your username is unique.\n",
      "Great John Casey. This username is still available. Your username is unique.\n"
     ]
    }
   ],
   "source": [
    "current_users = ['John','Wick','CHUCK','Bartowsky','Sarah']\n",
    "\n",
    "new_users = ['Walker','Chuck','Morgan','Grimes','John Casey']\n",
    "\n",
    "current_user_lower = []\n",
    "\n",
    "for user in current_users:\n",
    "    current_user_lower.append(user.lower())\n",
    "    \n",
    "for user in new_users:\n",
    "    if user.lower() in current_user_lower:\n",
    "        print(f\"Sorry {user}. Try Harder\")\n",
    "    else:\n",
    "        print(f\"Great {user}. This username is still available. Your username is unique.\")"
   ]
  }
 ],
 "metadata": {
  "kernelspec": {
   "display_name": "Python 3",
   "language": "python",
   "name": "python3"
  },
  "language_info": {
   "codemirror_mode": {
    "name": "ipython",
    "version": 3
   },
   "file_extension": ".py",
   "mimetype": "text/x-python",
   "name": "python",
   "nbconvert_exporter": "python",
   "pygments_lexer": "ipython3",
   "version": "3.7.6"
  }
 },
 "nbformat": 4,
 "nbformat_minor": 4
}
