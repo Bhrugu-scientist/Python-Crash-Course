{
 "cells": [
  {
   "cell_type": "code",
   "execution_count": 1,
   "metadata": {},
   "outputs": [],
   "source": [
    "## A simple dictionary"
   ]
  },
  {
   "cell_type": "code",
   "execution_count": 3,
   "metadata": {},
   "outputs": [],
   "source": [
    "alien_0 = {'color': 'green', 'points':5}"
   ]
  },
  {
   "cell_type": "code",
   "execution_count": 5,
   "metadata": {},
   "outputs": [
    {
     "name": "stdout",
     "output_type": "stream",
     "text": [
      "{'color': 'green', 'points': 5}\n"
     ]
    }
   ],
   "source": [
    "print(alien_0)"
   ]
  },
  {
   "cell_type": "code",
   "execution_count": 6,
   "metadata": {},
   "outputs": [
    {
     "name": "stdout",
     "output_type": "stream",
     "text": [
      "green\n",
      "5\n"
     ]
    }
   ],
   "source": [
    "print(alien_0['color'])\n",
    "print(alien_0['points'])"
   ]
  },
  {
   "cell_type": "code",
   "execution_count": 8,
   "metadata": {},
   "outputs": [
    {
     "name": "stdout",
     "output_type": "stream",
     "text": [
      "Congrats! you have got 5 points.!\n"
     ]
    }
   ],
   "source": [
    "new_points = alien_0['points']\n",
    "\n",
    "print(f\"Congrats! you have got {new_points} points.!\")"
   ]
  },
  {
   "cell_type": "code",
   "execution_count": 9,
   "metadata": {},
   "outputs": [
    {
     "name": "stdout",
     "output_type": "stream",
     "text": [
      "{'color': 'green', 'points': 5}\n"
     ]
    }
   ],
   "source": [
    "alien_0 = {'color':'green', 'points':5}\n",
    "print(alien_0)"
   ]
  },
  {
   "cell_type": "code",
   "execution_count": 10,
   "metadata": {},
   "outputs": [],
   "source": [
    "alien_0['x_position'] = 0\n",
    "alien_0['y_position'] = 25"
   ]
  },
  {
   "cell_type": "code",
   "execution_count": 11,
   "metadata": {},
   "outputs": [
    {
     "name": "stdout",
     "output_type": "stream",
     "text": [
      "{'color': 'green', 'points': 5, 'x_position': 0, 'y_position': 25}\n"
     ]
    }
   ],
   "source": [
    "print(alien_0)"
   ]
  },
  {
   "cell_type": "code",
   "execution_count": 12,
   "metadata": {},
   "outputs": [],
   "source": [
    "## Starting with an empty dictionary"
   ]
  },
  {
   "cell_type": "code",
   "execution_count": 13,
   "metadata": {},
   "outputs": [],
   "source": [
    "alien_0 = {}\n",
    "\n",
    "alien_0['color'] = 'green'\n",
    "alien_0['points'] = 5"
   ]
  },
  {
   "cell_type": "code",
   "execution_count": 14,
   "metadata": {},
   "outputs": [
    {
     "name": "stdout",
     "output_type": "stream",
     "text": [
      "{'color': 'green', 'points': 5}\n"
     ]
    }
   ],
   "source": [
    "print(alien_0)"
   ]
  },
  {
   "cell_type": "code",
   "execution_count": 15,
   "metadata": {},
   "outputs": [],
   "source": [
    "## Modifying values in a dictionary"
   ]
  },
  {
   "cell_type": "code",
   "execution_count": 18,
   "metadata": {},
   "outputs": [
    {
     "name": "stdout",
     "output_type": "stream",
     "text": [
      "The alien is green.\n",
      "The alien is now yellow.\n"
     ]
    }
   ],
   "source": [
    "alien_0 = {'color':'green'}\n",
    "print(f\"The alien is {alien_0['color']}.\")\n",
    "\n",
    "alien_0['color'] = 'yellow'\n",
    "print(f\"The alien is now {alien_0['color']}.\")"
   ]
  },
  {
   "cell_type": "code",
   "execution_count": 26,
   "metadata": {},
   "outputs": [
    {
     "name": "stdout",
     "output_type": "stream",
     "text": [
      " Original Position: 0.\n",
      " New position: 2.\n"
     ]
    }
   ],
   "source": [
    "alien_0 = {'x_position':0, 'y_position':25, 'speed' : 'medium'}\n",
    "print(f\" Original Position: {alien_0['x_position']}.\")\n",
    "\n",
    "if alien_0['speed'] == 'slow':\n",
    "    x_increment = 1\n",
    "elif alien_0['speed'] == 'medium':\n",
    "    x_increment = 2\n",
    "else:\n",
    "    x_icnrement = 3\n",
    "\n",
    "alien_0['x_position'] = alien_0['x_position'] + x_increment\n",
    "\n",
    "print(f\" New position: {alien_0['x_position']}.\")\n"
   ]
  },
  {
   "cell_type": "code",
   "execution_count": 27,
   "metadata": {},
   "outputs": [],
   "source": [
    "## Removing the key value pairs"
   ]
  },
  {
   "cell_type": "code",
   "execution_count": 28,
   "metadata": {},
   "outputs": [],
   "source": [
    "alien_0 = {'color':'green','points':25}"
   ]
  },
  {
   "cell_type": "code",
   "execution_count": 29,
   "metadata": {},
   "outputs": [],
   "source": [
    "del alien_0['points']"
   ]
  },
  {
   "cell_type": "code",
   "execution_count": 30,
   "metadata": {},
   "outputs": [
    {
     "name": "stdout",
     "output_type": "stream",
     "text": [
      "{'color': 'green'}\n"
     ]
    }
   ],
   "source": [
    "print(alien_0)"
   ]
  },
  {
   "cell_type": "code",
   "execution_count": 31,
   "metadata": {},
   "outputs": [],
   "source": [
    "## A dictionary of similar objects"
   ]
  },
  {
   "cell_type": "code",
   "execution_count": 32,
   "metadata": {},
   "outputs": [],
   "source": [
    "favorite_languages = {\n",
    "    'jen':'python',\n",
    "    'sarah':'c',\n",
    "    'edward':'ruby',\n",
    "    'phil':'python',\n",
    "}"
   ]
  },
  {
   "cell_type": "code",
   "execution_count": 35,
   "metadata": {},
   "outputs": [
    {
     "name": "stdout",
     "output_type": "stream",
     "text": [
      "Favorite Language of Sarah is C.\n"
     ]
    }
   ],
   "source": [
    "language = favorite_languages['sarah'].title()\n",
    "print(f\"Favorite Language of Sarah is {language}.\")"
   ]
  },
  {
   "cell_type": "code",
   "execution_count": 36,
   "metadata": {},
   "outputs": [
    {
     "data": {
      "text/plain": [
       "'c'"
      ]
     },
     "execution_count": 36,
     "metadata": {},
     "output_type": "execute_result"
    }
   ],
   "source": [
    "favorite_languages['sarah']"
   ]
  },
  {
   "cell_type": "code",
   "execution_count": 37,
   "metadata": {},
   "outputs": [],
   "source": [
    "## Using get() function to access values in a dictionary"
   ]
  },
  {
   "cell_type": "code",
   "execution_count": 38,
   "metadata": {},
   "outputs": [],
   "source": [
    "alien_0 = {'color':'green','speed':'slow'}\n",
    "\n",
    "point_value = alien_0.get('points','No point value assigned')"
   ]
  },
  {
   "cell_type": "code",
   "execution_count": 39,
   "metadata": {},
   "outputs": [
    {
     "name": "stdout",
     "output_type": "stream",
     "text": [
      "No point value assigned\n"
     ]
    }
   ],
   "source": [
    "print(point_value)"
   ]
  },
  {
   "cell_type": "code",
   "execution_count": 42,
   "metadata": {},
   "outputs": [
    {
     "data": {
      "text/plain": [
       "'green'"
      ]
     },
     "execution_count": 42,
     "metadata": {},
     "output_type": "execute_result"
    }
   ],
   "source": [
    "alien_0.get('color')"
   ]
  },
  {
   "cell_type": "code",
   "execution_count": 43,
   "metadata": {},
   "outputs": [],
   "source": [
    "## DIY Exercise\n",
    "\n",
    "## 1) Person\n",
    "\n",
    "person = {'first_name':'bugu', 'last_name':'jhakad','age':24, 'city':'san francisco'}"
   ]
  },
  {
   "cell_type": "code",
   "execution_count": 45,
   "metadata": {},
   "outputs": [
    {
     "data": {
      "text/plain": [
       "'bugu'"
      ]
     },
     "execution_count": 45,
     "metadata": {},
     "output_type": "execute_result"
    }
   ],
   "source": [
    "person['first_name']"
   ]
  },
  {
   "cell_type": "code",
   "execution_count": 46,
   "metadata": {},
   "outputs": [
    {
     "data": {
      "text/plain": [
       "'jhakad'"
      ]
     },
     "execution_count": 46,
     "metadata": {},
     "output_type": "execute_result"
    }
   ],
   "source": [
    "person['last_name']"
   ]
  },
  {
   "cell_type": "code",
   "execution_count": 47,
   "metadata": {},
   "outputs": [
    {
     "data": {
      "text/plain": [
       "24"
      ]
     },
     "execution_count": 47,
     "metadata": {},
     "output_type": "execute_result"
    }
   ],
   "source": [
    "person['age']"
   ]
  },
  {
   "cell_type": "code",
   "execution_count": 48,
   "metadata": {},
   "outputs": [
    {
     "data": {
      "text/plain": [
       "'san francisco'"
      ]
     },
     "execution_count": 48,
     "metadata": {},
     "output_type": "execute_result"
    }
   ],
   "source": [
    "person['city']"
   ]
  },
  {
   "cell_type": "code",
   "execution_count": 49,
   "metadata": {},
   "outputs": [],
   "source": [
    "## 2) Favorite Numbers"
   ]
  },
  {
   "cell_type": "code",
   "execution_count": 91,
   "metadata": {},
   "outputs": [],
   "source": [
    "favorite_numbers = {\n",
    "    'john':2,\n",
    "    'casey':4,\n",
    "    'chuck':6,\n",
    "    'bartowsky':8,\n",
    "    'sarah':11,\n",
    "    'walker':15,\n",
    "}"
   ]
  },
  {
   "cell_type": "code",
   "execution_count": 100,
   "metadata": {},
   "outputs": [
    {
     "name": "stdout",
     "output_type": "stream",
     "text": [
      "The most favorite number of John is 2.\n",
      "The most favorite number of Casey is 4.\n",
      "The most favorite number of Chuck is 6.\n",
      "The most favorite number of Bartowsky is 8.\n",
      "The most favorite number of Sarah is 11.\n",
      "The most favorite number of Walker is 15.\n"
     ]
    }
   ],
   "source": [
    "for name, number in favorite_numbers.items():\n",
    "    print(f\"The most favorite number of {name.title()} is {number}.\")\n",
    "    \n",
    "   \n",
    "    "
   ]
  },
  {
   "cell_type": "code",
   "execution_count": 53,
   "metadata": {},
   "outputs": [
    {
     "name": "stdout",
     "output_type": "stream",
     "text": [
      "Johns favorite number is 2.\n"
     ]
    }
   ],
   "source": [
    "number = print(f\"Johns favorite number is {favorite_numbers['john']}.\")"
   ]
  },
  {
   "cell_type": "code",
   "execution_count": 55,
   "metadata": {},
   "outputs": [],
   "source": [
    "## 3) Glossary"
   ]
  },
  {
   "cell_type": "code",
   "execution_count": 69,
   "metadata": {},
   "outputs": [],
   "source": [
    "glossary = {'variables': 'a value where the data is stored',\n",
    "          'strings': 'A series of characters',\n",
    "          'list': 'a data structure used to store the data',\n",
    "          'tuples': 'same as a list but immutable'}"
   ]
  },
  {
   "cell_type": "code",
   "execution_count": 72,
   "metadata": {},
   "outputs": [
    {
     "name": "stdout",
     "output_type": "stream",
     "text": [
      "\n",
      "Variables: a value where the data is stored.\n"
     ]
    }
   ],
   "source": [
    "word = 'variables'\n",
    "\n",
    "print(f\"\\n{word.title()}: {glossary[word]}.\")"
   ]
  },
  {
   "cell_type": "code",
   "execution_count": 73,
   "metadata": {},
   "outputs": [
    {
     "name": "stdout",
     "output_type": "stream",
     "text": [
      "\n",
      " Strings:a series of characters.\n"
     ]
    }
   ],
   "source": [
    "word = 'strings'\n",
    "\n",
    "print(f\"\\n {word.title()}: {glossary[word]}.\")"
   ]
  },
  {
   "cell_type": "code",
   "execution_count": 74,
   "metadata": {},
   "outputs": [
    {
     "name": "stdout",
     "output_type": "stream",
     "text": [
      "\n",
      " List: a data structure used to store the data.\n"
     ]
    }
   ],
   "source": [
    "word = 'list'\n",
    "\n",
    "print(f\"\\n {word.title()}: {glossary[word]}.\")"
   ]
  },
  {
   "cell_type": "code",
   "execution_count": 76,
   "metadata": {},
   "outputs": [
    {
     "name": "stdout",
     "output_type": "stream",
     "text": [
      "\n",
      " Tuples: same as a list but immutable.\n"
     ]
    }
   ],
   "source": [
    "word = 'tuples'\n",
    "\n",
    "print(f\"\\n {word.title()}: {glossary[word]}.\")\n",
    "\n",
    "\n",
    "## _______-----------End of Exercise---------------Another topic below"
   ]
  },
  {
   "cell_type": "code",
   "execution_count": 77,
   "metadata": {},
   "outputs": [],
   "source": [
    "## Looping through a dictionary"
   ]
  },
  {
   "cell_type": "code",
   "execution_count": 78,
   "metadata": {},
   "outputs": [],
   "source": [
    "## Looping through all key value pairs"
   ]
  },
  {
   "cell_type": "code",
   "execution_count": 84,
   "metadata": {},
   "outputs": [],
   "source": [
    "user_0 = {\n",
    "    'user':'efermi',\n",
    "    'first':'enrico',\n",
    "    'last':'fermi'\n",
    "}"
   ]
  },
  {
   "cell_type": "code",
   "execution_count": 90,
   "metadata": {},
   "outputs": [
    {
     "name": "stdout",
     "output_type": "stream",
     "text": [
      "\n",
      "key: user\n",
      "\n",
      "Value: Efermi\n",
      "\n",
      "key: first\n",
      "\n",
      "Value: Enrico\n",
      "\n",
      "key: last\n",
      "\n",
      "Value: Fermi\n"
     ]
    }
   ],
   "source": [
    "for key, value in user_0.items():\n",
    "    print(f\"\\nkey: {key}\")\n",
    "    print(f\"\\nvalue: {value}\".title())"
   ]
  },
  {
   "cell_type": "code",
   "execution_count": 95,
   "metadata": {},
   "outputs": [],
   "source": [
    "favorite_languages = {\n",
    "    'jen':'python',\n",
    "    'sarah':'c',\n",
    "    'edward':'ruby',\n",
    "    'phil':'python',\n",
    "}"
   ]
  },
  {
   "cell_type": "code",
   "execution_count": 97,
   "metadata": {},
   "outputs": [
    {
     "name": "stdout",
     "output_type": "stream",
     "text": [
      "Python is the most favorite language of Jen.\n",
      "C is the most favorite language of Sarah.\n",
      "Ruby is the most favorite language of Edward.\n",
      "Python is the most favorite language of Phil.\n"
     ]
    }
   ],
   "source": [
    "for name, languages in favorite_languages.items():\n",
    "    print(f\"{languages.title()} is the most favorite language of {name.title()}.\")"
   ]
  },
  {
   "cell_type": "code",
   "execution_count": 101,
   "metadata": {},
   "outputs": [],
   "source": [
    "## Looping through all the keys in a dictionary"
   ]
  },
  {
   "cell_type": "code",
   "execution_count": 102,
   "metadata": {},
   "outputs": [],
   "source": [
    "favorite_languages = {\n",
    "    'jen':'python',\n",
    "    'sarah':'c',\n",
    "    'edward':'ruby',\n",
    "    'phil':'python',\n",
    "}"
   ]
  },
  {
   "cell_type": "code",
   "execution_count": 103,
   "metadata": {},
   "outputs": [
    {
     "name": "stdout",
     "output_type": "stream",
     "text": [
      "Jen\n",
      "Sarah\n",
      "Edward\n",
      "Phil\n"
     ]
    }
   ],
   "source": [
    "for name in favorite_languages.keys():\n",
    "    print(name.title())"
   ]
  },
  {
   "cell_type": "code",
   "execution_count": 113,
   "metadata": {},
   "outputs": [
    {
     "name": "stdout",
     "output_type": "stream",
     "text": [
      "Python\n",
      "C\n",
      "Ruby\n",
      "Python\n"
     ]
    }
   ],
   "source": [
    "for languages in favorite_languages.values():\n",
    "    print(languages.title())"
   ]
  },
  {
   "cell_type": "code",
   "execution_count": 115,
   "metadata": {},
   "outputs": [
    {
     "name": "stdout",
     "output_type": "stream",
     "text": [
      "Jen\n",
      "Sarah\n",
      "Edward\n",
      "Phil\n"
     ]
    }
   ],
   "source": [
    "for name in favorite_languages:\n",
    "    print(name.title())"
   ]
  },
  {
   "cell_type": "code",
   "execution_count": 124,
   "metadata": {},
   "outputs": [
    {
     "name": "stdout",
     "output_type": "stream",
     "text": [
      "Hi Jen.\n",
      "Hi Sarah.\n",
      "\t Sarah, I see you love C.\n",
      "Hi Edward.\n",
      "Hi Phil.\n",
      "\t Phil, I see you love Python.\n"
     ]
    }
   ],
   "source": [
    "favorite_languages = {\n",
    "    'jen':'python',\n",
    "    'sarah':'c',\n",
    "    'edward':'ruby',\n",
    "    'phil':'python',\n",
    "}\n",
    "\n",
    "friends = ['phil','sarah']\n",
    "\n",
    "for name in favorite_languages.keys():\n",
    "    print(f\"Hi {name.title()}.\")\n",
    "    \n",
    "    if name in friends:\n",
    "        language = favorite_languages[name].title()\n",
    "        print(f\"\\t {name.title()}, I see you love {language.title()}.\")"
   ]
  },
  {
   "cell_type": "code",
   "execution_count": 130,
   "metadata": {},
   "outputs": [
    {
     "name": "stdout",
     "output_type": "stream",
     "text": [
      "Hi Jen\n",
      "Hi Sarah\n",
      "\t Sarah, I see your favorite language is C.\n",
      "Hi Edward\n",
      "Hi Phil\n",
      "\t Phil, I see your favorite language is Python.\n"
     ]
    }
   ],
   "source": [
    "favorite_languages: {\n",
    "    'jen': 'python',\n",
    "    'sarah': 'c',\n",
    "    'edward': 'ruby',\n",
    "    'phil': 'python',\n",
    "}\n",
    "\n",
    "friends = ['phil','sarah']\n",
    "\n",
    "for name in favorite_languages.keys():\n",
    "    print(f\"Hi {name.title()}\")\n",
    "          \n",
    "    if name in friends:\n",
    "          language = favorite_languages[name].title()\n",
    "          print(f\"\\t {name.title()}, I see your favorite language is {language.title()}.\")"
   ]
  },
  {
   "cell_type": "code",
   "execution_count": 135,
   "metadata": {},
   "outputs": [
    {
     "name": "stdout",
     "output_type": "stream",
     "text": [
      "Erin, please take our poll.\n"
     ]
    }
   ],
   "source": [
    "if 'erin' not in favorite_languages.keys():\n",
    "    print(\"Erin, please take our poll.\")"
   ]
  },
  {
   "cell_type": "code",
   "execution_count": 136,
   "metadata": {},
   "outputs": [],
   "source": [
    "## Looping through a dictionary's key in a particular order"
   ]
  },
  {
   "cell_type": "code",
   "execution_count": 139,
   "metadata": {},
   "outputs": [
    {
     "name": "stdout",
     "output_type": "stream",
     "text": [
      "Edward, Thank you for taking our poll.\n",
      "Jen, Thank you for taking our poll.\n",
      "Phil, Thank you for taking our poll.\n",
      "Sarah, Thank you for taking our poll.\n"
     ]
    }
   ],
   "source": [
    "for name in sorted(favorite_languages.keys()):\n",
    "    print(f\"{name.title()}, Thank you for taking our poll.\")"
   ]
  },
  {
   "cell_type": "code",
   "execution_count": 141,
   "metadata": {},
   "outputs": [
    {
     "name": "stdout",
     "output_type": "stream",
     "text": [
      "The following languages have been mentioned:\n",
      "Python\n",
      "C\n",
      "Ruby\n",
      "Python\n"
     ]
    }
   ],
   "source": [
    "## Looping through all the values in a dictionary\n",
    "\n",
    "print(\"The following languages have been mentioned:\")\n",
    "for language in favorite_languages.values():\n",
    "    print(language.title())"
   ]
  },
  {
   "cell_type": "code",
   "execution_count": 142,
   "metadata": {},
   "outputs": [
    {
     "name": "stdout",
     "output_type": "stream",
     "text": [
      "Ruby\n",
      "C\n",
      "Python\n"
     ]
    }
   ],
   "source": [
    "for language in set(favorite_languages.values()):\n",
    "    print(language.title())"
   ]
  },
  {
   "cell_type": "code",
   "execution_count": 143,
   "metadata": {},
   "outputs": [],
   "source": [
    "languages = {'python','c','java','ruby','python'}"
   ]
  },
  {
   "cell_type": "code",
   "execution_count": 144,
   "metadata": {},
   "outputs": [
    {
     "data": {
      "text/plain": [
       "{'c', 'java', 'python', 'ruby'}"
      ]
     },
     "execution_count": 144,
     "metadata": {},
     "output_type": "execute_result"
    }
   ],
   "source": [
    "languages"
   ]
  },
  {
   "cell_type": "code",
   "execution_count": 145,
   "metadata": {},
   "outputs": [],
   "source": [
    "## DIY Exercise"
   ]
  },
  {
   "cell_type": "code",
   "execution_count": 146,
   "metadata": {},
   "outputs": [],
   "source": [
    "glossary = {'variables': 'a value where the data is stored',\n",
    "          'strings': 'A series of characters',\n",
    "          'list': 'a data structure used to store the data',\n",
    "          'tuples': 'same as a list but immutable'}"
   ]
  },
  {
   "cell_type": "code",
   "execution_count": 151,
   "metadata": {},
   "outputs": [
    {
     "name": "stdout",
     "output_type": "stream",
     "text": [
      "Variables: A Value Where The Data Is Stored.\n",
      "Strings: A Series Of Characters.\n",
      "List: A Data Structure Used To Store The Data.\n",
      "Tuples: Same As A List But Immutable.\n"
     ]
    }
   ],
   "source": [
    "for word, definitions in glossary.items():\n",
    "    print(f\"{word.title()}: {definitions.title()}.\")"
   ]
  },
  {
   "cell_type": "code",
   "execution_count": 153,
   "metadata": {},
   "outputs": [],
   "source": [
    "glossary = {'variables': 'a value where the data is stored',\n",
    "          'strings': 'A series of characters',\n",
    "          'list': 'a data structure used to store the data',\n",
    "          'tuples': 'same as a list but immutable',\n",
    "          'value': 'An item associated with a key in a dictionary.',\n",
    "          'conditional test': 'A comparison between two values.',\n",
    "          'float': 'A numerical value with a decimal component.',\n",
    "          'boolean expression': 'An expression that evaluates to True or False.',}"
   ]
  },
  {
   "cell_type": "code",
   "execution_count": 156,
   "metadata": {},
   "outputs": [
    {
     "name": "stdout",
     "output_type": "stream",
     "text": [
      "Variables: \n",
      "\t A Value Where The Data Is Stored.\n",
      "Strings: \n",
      "\t A Series Of Characters.\n",
      "List: \n",
      "\t A Data Structure Used To Store The Data.\n",
      "Tuples: \n",
      "\t Same As A List But Immutable.\n",
      "Value: \n",
      "\t An Item Associated With A Key In A Dictionary..\n",
      "Conditional Test: \n",
      "\t A Comparison Between Two Values..\n",
      "Float: \n",
      "\t A Numerical Value With A Decimal Component..\n",
      "Boolean Expression: \n",
      "\t An Expression That Evaluates To True Or False..\n"
     ]
    }
   ],
   "source": [
    "for words, definitions in glossary.items():\n",
    "    print(f\"{words.title()}: \\n\\t {definitions.title()}.\")"
   ]
  },
  {
   "cell_type": "code",
   "execution_count": 157,
   "metadata": {},
   "outputs": [],
   "source": [
    "## Rivers"
   ]
  },
  {
   "cell_type": "code",
   "execution_count": 159,
   "metadata": {},
   "outputs": [],
   "source": [
    "rivers = {\n",
    "    'narmada': 'Narmada is in India',\n",
    "    'amazon':'Amazon is in Africa',\n",
    "    'nile':'Runs through Egypt',\n",
    "}"
   ]
  },
  {
   "cell_type": "code",
   "execution_count": 160,
   "metadata": {},
   "outputs": [
    {
     "name": "stdout",
     "output_type": "stream",
     "text": [
      "Narmada is in India\n",
      "Amazon is in Africa\n",
      "Runs through Egypt\n"
     ]
    }
   ],
   "source": [
    "for value in rivers.values():\n",
    "    print(value)"
   ]
  },
  {
   "cell_type": "code",
   "execution_count": 164,
   "metadata": {},
   "outputs": [
    {
     "name": "stdout",
     "output_type": "stream",
     "text": [
      "Following rivers are included in this dataset.\n",
      "\n",
      "\t\t\n",
      "Narmada\n",
      "Amazon\n",
      "Nile\n"
     ]
    }
   ],
   "source": [
    "print(\"Following rivers are included in this dataset.\")\n",
    "print(\"\\n\\t\\t\")\n",
    "for keys in rivers.keys():\n",
    "    print(keys.title())"
   ]
  },
  {
   "cell_type": "code",
   "execution_count": 179,
   "metadata": {},
   "outputs": [
    {
     "name": "stdout",
     "output_type": "stream",
     "text": [
      "\t\n",
      " Ghungroo you should take poll right now. That's an order.\n",
      "\t\n",
      " Hidimba you should take poll right now. That's an order.\n",
      "\t\n",
      " Iliena you should take poll right now. That's an order.\n",
      "\n",
      "\t Thank you Anna for taking the poll.\n",
      "\n",
      "\t Thank you Enerma for taking the poll.\n",
      "\t\n",
      " Kilogram you should take poll right now. That's an order.\n",
      "\n",
      "\t Thank you Anna for taking the poll.\n"
     ]
    }
   ],
   "source": [
    "people = ['Anna','bugu','chirag','dishant','enerma','fiona']\n",
    "\n",
    "take_poll = ['ghungroo','hidimba','iliena','anna','enerma','kilogram','ANNA']\n",
    "\n",
    "lower_value = [value.lower() for value in people]\n",
    "\n",
    "for value in take_poll:\n",
    "    if value.lower() in lower_value:\n",
    "        print(f\"\\n\\t Thank you {value.title()} for taking the poll.\")\n",
    "    else:\n",
    "        print(f\"\\t\\n {value.title()} you should take poll right now. That's an order.\")"
   ]
  },
  {
   "cell_type": "code",
   "execution_count": 180,
   "metadata": {},
   "outputs": [],
   "source": [
    "## Nesting"
   ]
  },
  {
   "cell_type": "code",
   "execution_count": 181,
   "metadata": {},
   "outputs": [],
   "source": [
    "## A list of dictionaries"
   ]
  },
  {
   "cell_type": "code",
   "execution_count": 183,
   "metadata": {},
   "outputs": [
    {
     "name": "stdout",
     "output_type": "stream",
     "text": [
      "{'color': 'green', 'points': 5}\n",
      "{'color': 'red', 'points': 10}\n",
      "{'color': 'yellow', 'points': 15}\n"
     ]
    }
   ],
   "source": [
    "alien_0 = {'color':'green','points':5}\n",
    "alien_1 = {'color':'red', 'points':10}\n",
    "alien_2 = {'color':'yellow','points':15}\n",
    "\n",
    "aliens = [alien_0, alien_1, alien_2]\n",
    "\n",
    "for alien in aliens:\n",
    "    print(alien)"
   ]
  },
  {
   "cell_type": "code",
   "execution_count": 185,
   "metadata": {},
   "outputs": [
    {
     "name": "stdout",
     "output_type": "stream",
     "text": [
      "{'color': 'green', 'points': 25, 'speed': 'slow'}\n",
      "...\n",
      "{'color': 'green', 'points': 25, 'speed': 'slow'}\n",
      "...\n",
      "{'color': 'green', 'points': 25, 'speed': 'slow'}\n",
      "...\n",
      "{'color': 'green', 'points': 25, 'speed': 'slow'}\n",
      "...\n",
      "{'color': 'green', 'points': 25, 'speed': 'slow'}\n",
      "...\n",
      "{'color': 'green', 'points': 25, 'speed': 'slow'}\n",
      "...\n",
      "{'color': 'green', 'points': 25, 'speed': 'slow'}\n",
      "...\n",
      "{'color': 'green', 'points': 25, 'speed': 'slow'}\n",
      "...\n",
      "{'color': 'green', 'points': 25, 'speed': 'slow'}\n",
      "...\n",
      "{'color': 'green', 'points': 25, 'speed': 'slow'}\n",
      "...\n",
      "{'color': 'green', 'points': 25, 'speed': 'slow'}\n",
      "...\n",
      "{'color': 'green', 'points': 25, 'speed': 'slow'}\n",
      "...\n",
      "{'color': 'green', 'points': 25, 'speed': 'slow'}\n",
      "...\n",
      "{'color': 'green', 'points': 25, 'speed': 'slow'}\n",
      "...\n",
      "{'color': 'green', 'points': 25, 'speed': 'slow'}\n",
      "...\n",
      "{'color': 'green', 'points': 25, 'speed': 'slow'}\n",
      "...\n",
      "{'color': 'green', 'points': 25, 'speed': 'slow'}\n",
      "...\n",
      "{'color': 'green', 'points': 25, 'speed': 'slow'}\n",
      "...\n",
      "{'color': 'green', 'points': 25, 'speed': 'slow'}\n",
      "...\n",
      "{'color': 'green', 'points': 25, 'speed': 'slow'}\n",
      "...\n",
      "{'color': 'green', 'points': 25, 'speed': 'slow'}\n",
      "...\n",
      "{'color': 'green', 'points': 25, 'speed': 'slow'}\n",
      "...\n",
      "{'color': 'green', 'points': 25, 'speed': 'slow'}\n",
      "...\n",
      "{'color': 'green', 'points': 25, 'speed': 'slow'}\n",
      "...\n",
      "{'color': 'green', 'points': 25, 'speed': 'slow'}\n",
      "...\n",
      "{'color': 'green', 'points': 25, 'speed': 'slow'}\n",
      "...\n",
      "{'color': 'green', 'points': 25, 'speed': 'slow'}\n",
      "...\n",
      "{'color': 'green', 'points': 25, 'speed': 'slow'}\n",
      "...\n",
      "{'color': 'green', 'points': 25, 'speed': 'slow'}\n",
      "...\n",
      "{'color': 'green', 'points': 25, 'speed': 'slow'}\n",
      "...\n",
      "The total number of aliens are 30.\n"
     ]
    }
   ],
   "source": [
    "## Creating more than 3 aliens with code that automatically generates each alien.\n",
    "\n",
    "aliens = []\n",
    "\n",
    "for alien in range(30):\n",
    "    new_alien = {'color':'green','points':25,'speed':'slow'}\n",
    "    aliens.append(new_alien)\n",
    "    \n",
    "for alien in aliens:\n",
    "    print(alien)\n",
    "    print(\"...\")\n",
    "    \n",
    "print(f\"The total number of aliens are {(len(aliens))}.\")"
   ]
  },
  {
   "cell_type": "code",
   "execution_count": 191,
   "metadata": {},
   "outputs": [
    {
     "name": "stdout",
     "output_type": "stream",
     "text": [
      "{'color': ('yellow',), 'points': 10, 'speed': ('medium',)}\n",
      "{'color': ('yellow',), 'points': 10, 'speed': ('medium',)}\n",
      "{'color': ('yellow',), 'points': 10, 'speed': ('medium',)}\n",
      "{'color': 'green', 'points': 25, 'speed': 'slow'}\n",
      "{'color': 'green', 'points': 25, 'speed': 'slow'}\n",
      "{'color': 'green', 'points': 25, 'speed': 'slow'}\n",
      "{'color': 'green', 'points': 25, 'speed': 'slow'}\n",
      "{'color': 'green', 'points': 25, 'speed': 'slow'}\n",
      "{'color': 'green', 'points': 25, 'speed': 'slow'}\n",
      "{'color': 'green', 'points': 25, 'speed': 'slow'}\n",
      "{'color': 'green', 'points': 25, 'speed': 'slow'}\n",
      "{'color': 'green', 'points': 25, 'speed': 'slow'}\n",
      "{'color': 'green', 'points': 25, 'speed': 'slow'}\n",
      "{'color': 'green', 'points': 25, 'speed': 'slow'}\n",
      "{'color': 'green', 'points': 25, 'speed': 'slow'}\n",
      "{'color': 'green', 'points': 25, 'speed': 'slow'}\n",
      "{'color': 'green', 'points': 25, 'speed': 'slow'}\n",
      "{'color': 'green', 'points': 25, 'speed': 'slow'}\n",
      "{'color': 'green', 'points': 25, 'speed': 'slow'}\n",
      "{'color': 'green', 'points': 25, 'speed': 'slow'}\n",
      "{'color': 'green', 'points': 25, 'speed': 'slow'}\n",
      "{'color': 'green', 'points': 25, 'speed': 'slow'}\n",
      "{'color': 'green', 'points': 25, 'speed': 'slow'}\n",
      "{'color': 'green', 'points': 25, 'speed': 'slow'}\n",
      "{'color': 'green', 'points': 25, 'speed': 'slow'}\n",
      "{'color': 'green', 'points': 25, 'speed': 'slow'}\n",
      "{'color': 'green', 'points': 25, 'speed': 'slow'}\n",
      "{'color': 'green', 'points': 25, 'speed': 'slow'}\n",
      "{'color': 'green', 'points': 25, 'speed': 'slow'}\n",
      "{'color': 'green', 'points': 25, 'speed': 'slow'}\n",
      "...\n",
      "The total number of aliens are 30.\n"
     ]
    }
   ],
   "source": [
    "aliens = []\n",
    "\n",
    "for alien in range(30):\n",
    "    new_alien = {'color':'green','points':25,'speed':'slow'}\n",
    "    aliens.append(new_alien)\n",
    "    \n",
    "for alien in aliens[:3]:\n",
    "    if alien['color'] == 'green':\n",
    "        alien['color'] = 'yellow',\n",
    "        alien['speed'] = 'medium',\n",
    "        alien['points'] = 10\n",
    "        \n",
    "for alien in aliens:\n",
    "    print(alien)\n",
    "print(\"...\")\n",
    "\n",
    "\n",
    "print(f\"The total number of aliens are {len(aliens)}.\")"
   ]
  },
  {
   "cell_type": "code",
   "execution_count": 204,
   "metadata": {},
   "outputs": [
    {
     "name": "stdout",
     "output_type": "stream",
     "text": [
      "{'color': ('yellow',), 'points': 10, 'speed': ('medium',)}\n",
      "{'color': ('yellow',), 'points': 10, 'speed': ('medium',)}\n",
      "{'color': ('yellow',), 'points': 10, 'speed': ('medium',)}\n",
      "{'color': 'green', 'points': 25, 'speed': 'slow'}\n",
      "{'color': 'green', 'points': 25, 'speed': 'slow'}\n",
      "{'color': 'green', 'points': 25, 'speed': 'slow'}\n",
      "{'color': 'green', 'points': 25, 'speed': 'slow'}\n",
      "{'color': 'green', 'points': 25, 'speed': 'slow'}\n",
      "{'color': 'green', 'points': 25, 'speed': 'slow'}\n",
      "{'color': 'green', 'points': 25, 'speed': 'slow'}\n",
      "{'color': 'green', 'points': 25, 'speed': 'slow'}\n",
      "{'color': 'green', 'points': 25, 'speed': 'slow'}\n",
      "{'color': 'green', 'points': 25, 'speed': 'slow'}\n",
      "{'color': 'green', 'points': 25, 'speed': 'slow'}\n",
      "{'color': 'green', 'points': 25, 'speed': 'slow'}\n",
      "{'color': 'green', 'points': 25, 'speed': 'slow'}\n",
      "{'color': 'green', 'points': 25, 'speed': 'slow'}\n",
      "{'color': 'green', 'points': 25, 'speed': 'slow'}\n",
      "{'color': 'green', 'points': 25, 'speed': 'slow'}\n",
      "{'color': 'green', 'points': 25, 'speed': 'slow'}\n",
      "{'color': 'green', 'points': 25, 'speed': 'slow'}\n",
      "{'color': 'green', 'points': 25, 'speed': 'slow'}\n",
      "{'color': 'green', 'points': 25, 'speed': 'slow'}\n",
      "{'color': 'green', 'points': 25, 'speed': 'slow'}\n",
      "{'color': 'green', 'points': 25, 'speed': 'slow'}\n",
      "{'color': 'green', 'points': 25, 'speed': 'slow'}\n",
      "{'color': 'green', 'points': 25, 'speed': 'slow'}\n",
      "{'color': 'green', 'points': 25, 'speed': 'slow'}\n",
      "{'color': 'green', 'points': 25, 'speed': 'slow'}\n",
      "{'color': 'green', 'points': 25, 'speed': 'slow'}\n",
      "...\n",
      "The total number of aliens are 30.\n"
     ]
    }
   ],
   "source": [
    "aliens = []\n",
    "\n",
    "for alien in range(30):\n",
    "    new_alien = {'color':'green','points':25,'speed':'slow'}\n",
    "    aliens.append(new_alien)\n",
    "    \n",
    "for alien in aliens[:3]:\n",
    "    if alien['color'] == 'green':\n",
    "        alien['color'] = 'yellow',\n",
    "        alien['speed'] = 'medium',\n",
    "        alien['points'] = 10\n",
    "    elif alien['color'] == 'yellow':\n",
    "        alien['color'] = 'red'\n",
    "        alien['speed'] = 'fast'\n",
    "        alien['points'] = 15\n",
    "        \n",
    "for alien in aliens:\n",
    "    print(alien)\n",
    "print(\"...\")\n",
    "\n",
    "\n",
    "print(f\"The total number of aliens are {len(aliens)}.\")"
   ]
  },
  {
   "cell_type": "code",
   "execution_count": 209,
   "metadata": {},
   "outputs": [
    {
     "name": "stdout",
     "output_type": "stream",
     "text": [
      " You ordered a thick - crust pizza with the following toppings:\n",
      "\tmushrooms.\n",
      "\textra cheese.\n"
     ]
    }
   ],
   "source": [
    "pizza = {\n",
    "    'crust':'thick',\n",
    "    'toppings':['mushrooms','extra cheese']\n",
    "}\n",
    "\n",
    "print(f\" You ordered a {pizza['crust']} - crust pizza with the following toppings:\")\n",
    "\n",
    "for topping in pizza['toppings']:\n",
    "    print(f\"\\t{topping}.\")"
   ]
  },
  {
   "cell_type": "code",
   "execution_count": 212,
   "metadata": {},
   "outputs": [
    {
     "name": "stdout",
     "output_type": "stream",
     "text": [
      "\n",
      "Jen your favorite languages are: \n",
      "\t Python\n",
      "\t R\n",
      "\n",
      "Sarah your favorite languages are: \n",
      "\t C\n",
      "\n",
      "Edward your favorite languages are: \n",
      "\t Ruby\n",
      "\t Go\n",
      "\n",
      "Phil your favorite languages are: \n",
      "\t Python\n",
      "\t Haskell\n"
     ]
    }
   ],
   "source": [
    "favorite_languages = {\n",
    "    'jen': ['python','r'],\n",
    "    'sarah':['c'],\n",
    "    'edward':['ruby','go'],\n",
    "    'phil':['python','haskell']\n",
    "}\n",
    "\n",
    "for name, languages in favorite_languages.items():\n",
    "    print(f\"\\n{name.title()} your favorite languages are: \")\n",
    "    for language in languages:\n",
    "        print(f\"\\t {language.title()}\")"
   ]
  },
  {
   "cell_type": "code",
   "execution_count": 226,
   "metadata": {},
   "outputs": [
    {
     "name": "stdout",
     "output_type": "stream",
     "text": [
      "Username: aeinstein\n",
      "\t full name: Albert Einstein\n",
      "\t location:  Princeton\n",
      "Username: mcurie\n",
      "\t full name: Mary Curie\n",
      "\t location:  Seattle\n"
     ]
    }
   ],
   "source": [
    "users = {\n",
    "    'aeinstein': {\n",
    "        'first': 'albert',\n",
    "        'last': 'einstein',\n",
    "        'location': 'princeton'\n",
    "    },\n",
    "    \n",
    "    'mcurie': {\n",
    "        'first': 'mary',\n",
    "        'last':'curie',\n",
    "        'location':'paris'\n",
    "    }\n",
    "}\n",
    "\n",
    "for username, user_info in users.items():\n",
    "    print(f\"Username: {username}\")\n",
    "    full_name = f\"{user_info['first'].title()} {user_info['last'].title()}\"\n",
    "    location = f\" {user_info['location']}\"\n",
    "    \n",
    "    print(f\"\\t full name: {full_name.title()}\")\n",
    "    print(f\"\\t location: {location.title()}\")\n",
    "\n",
    "                \n",
    "          "
   ]
  },
  {
   "cell_type": "code",
   "execution_count": 242,
   "metadata": {},
   "outputs": [
    {
     "name": "stdout",
     "output_type": "stream",
     "text": [
      " Username: bugu\n",
      "\t full name: Beeeee thakkar\n",
      "\t location:  San Francisco\n",
      " Username: banku\n",
      "\t full name: Dixil Waghela\n",
      "\t location:  bharuch\n",
      " Username: mindi_1\n",
      "\t full name: arjun limbachia\n",
      "\t location:  EEC\n",
      " Username: mindi_2\n",
      "\t full name: manan_snapded complivacation\n",
      "\t location:  JenFC\n"
     ]
    }
   ],
   "source": [
    "users = {\n",
    "    \n",
    "    'banku': {\n",
    "        'first': 'Dixil',\n",
    "        'last': 'Waghela',\n",
    "        'location': 'bharuch',\n",
    "    },\n",
    "    \n",
    "    'mindi_1': {\n",
    "        'first': 'arjun',\n",
    "        'last': 'limbachia',\n",
    "        'location': 'EEC',\n",
    "    },\n",
    "    \n",
    "    'mindi_2': {\n",
    "        'first': 'manan_snapded',\n",
    "        'last': 'complivacation',\n",
    "        'location': 'JenFC',\n",
    "    }\n",
    "}\n",
    "\n",
    "for username, users_info in users.items():\n",
    "    print(f\" Username: {username}\")\n",
    "    full_name = f\"{users_info['first']} {users_info['last']}\"\n",
    "    location = f\" {users_info['location']}\"\n",
    "    \n",
    "    print(f\"\\t full name: {full_name}\")\n",
    "    print(f\"\\t location: {location}\")"
   ]
  },
  {
   "cell_type": "code",
   "execution_count": 243,
   "metadata": {},
   "outputs": [],
   "source": [
    "## Final DIY Exercises\n",
    "\n",
    "#1) People"
   ]
  },
  {
   "cell_type": "code",
   "execution_count": 274,
   "metadata": {},
   "outputs": [],
   "source": [
    "friends = []\n",
    "\n",
    "# Define some people, and add them to the list.\n",
    "person = {\n",
    "    'first_name': 'eric',\n",
    "    'last_name': 'matthes',\n",
    "    'age': 46,\n",
    "    'city': 'sitka',\n",
    "    }\n",
    "people.append(friends)\n",
    "\n",
    "person = {\n",
    "    'first_name': 'lemmy',\n",
    "    'last_name': 'matthes',\n",
    "    'age': 2,\n",
    "    'city': 'sitka',\n",
    "    }\n",
    "people.append(friends)\n",
    "\n",
    "person = {\n",
    "    'first_name': 'willie',\n",
    "    'last_name': 'matthes',\n",
    "    'age': 11,\n",
    "    'city': 'sitka',\n",
    "    }\n",
    "people.append(friends)\n",
    "\n",
    "# Display all of the information in the dictionary.\n",
    "for person in friends:\n",
    "    name = f\"{person['first_name'].title()} {person['last_name'].title()}\"\n",
    "    age = person['age']\n",
    "    \n",
    "    print(f\"Hello {name}. Your age is {age}.\")"
   ]
  },
  {
   "cell_type": "code",
   "execution_count": 275,
   "metadata": {},
   "outputs": [],
   "source": [
    "## 2) Pets"
   ]
  },
  {
   "cell_type": "code",
   "execution_count": 289,
   "metadata": {},
   "outputs": [
    {
     "name": "stdout",
     "output_type": "stream",
     "text": [
      "\n",
      " The name of dog is Don. It's origin is  eastern serbia and it's breed is  Husky.\n",
      "\n",
      " The name of dog is Diesel. It's origin is  france and it's breed is  French Mastiff.\n"
     ]
    }
   ],
   "source": [
    "pets = {\n",
    "    'don': {\n",
    "        'breed': 'husky',\n",
    "        'origin': 'eastern serbia',\n",
    "    },\n",
    "    \n",
    "    'diesel': {\n",
    "        'breed': 'french mastiff',\n",
    "        'origin':'france',\n",
    "    }\n",
    "}\n",
    "\n",
    "for dogs,origins in pets.items():\n",
    "    breed = f\" {origins['breed']}\"\n",
    "    origin = f\" {origins['origin']}\"\n",
    "    \n",
    "    print(f\"\\n The name of dog is {dogs.title()}. It's origin is {origin} and it's breed is {breed.title()}.\")\n",
    "          \n",
    "\n",
    "                \n",
    "          "
   ]
  },
  {
   "cell_type": "code",
   "execution_count": 293,
   "metadata": {},
   "outputs": [
    {
     "name": "stdout",
     "output_type": "stream",
     "text": [
      " The favorite_place of bugu is Seattle.\n",
      " The favorite_place of Dix is Zadeshwar.\n",
      " The favorite_place of manan is bypass.\n"
     ]
    }
   ],
   "source": [
    "## 3) Favorite Places\n",
    "\n",
    "favorite_places = {'bugu':'Seattle','Dix':'Zadeshwar','manan':'bypass'}\n",
    "\n",
    "for name,places in favorite_places.items():\n",
    "    print(f\" The favorite_place of {name} is {places}.\")"
   ]
  },
  {
   "cell_type": "code",
   "execution_count": 298,
   "metadata": {},
   "outputs": [
    {
     "name": "stdout",
     "output_type": "stream",
     "text": [
      " \n",
      "The favorite places of Bugu is:\n",
      "\n",
      "\t Seattle.\n",
      "\n",
      "\t Bear Mountain.\n",
      "\n",
      "\t Death Valley.\n",
      " \n",
      "The favorite places of Eric is:\n",
      "\n",
      "\t Hawaii.\n",
      "\n",
      "\t Iceland.\n",
      " \n",
      "The favorite places of Willie is:\n",
      "\n",
      "\t Mt. Verstovia.\n",
      "\n",
      "\t The Playground.\n",
      "\n",
      "\t New Hampshire.\n"
     ]
    }
   ],
   "source": [
    "favorite_places = {\n",
    "    'bugu': ['seattle','bear mountain', 'death valley'],\n",
    "    'eric': ['hawaii', 'iceland'],\n",
    "    'willie': ['mt. verstovia', 'the playground', 'new hampshire']\n",
    "}\n",
    "\n",
    "for name,places in favorite_places.items():\n",
    "    print(f\" \\nThe favorite places of {name.title()} is:\" )\n",
    "    for place in places:\n",
    "        print(f\"\\n\\t {place.title()}.\")"
   ]
  },
  {
   "cell_type": "code",
   "execution_count": 307,
   "metadata": {},
   "outputs": [
    {
     "name": "stdout",
     "output_type": "stream",
     "text": [
      "\n",
      " The favortie numbers of John are:\n",
      "\t 2\n",
      "\t 4\n",
      "\t 6\n",
      "\t 8\n",
      "\t 10\n",
      "\n",
      " The favortie numbers of Casey are:\n",
      "\t 4\n",
      "\t 6\n",
      "\t 8\n",
      "\t 10\n",
      "\t 12\n",
      "\n",
      " The favortie numbers of Chuck are:\n",
      "\t 6\n",
      "\t 8\n",
      "\t 10\n",
      "\t 15\n",
      "\t 20\n",
      "\n",
      " The favortie numbers of Bartowsky are:\n",
      "\t 8\n",
      "\t 12\n",
      "\t 18\n",
      "\t 90\n",
      "\t 99\n",
      "\t 1005\n",
      "\n",
      " The favortie numbers of Sarah are:\n",
      "\t 11\n",
      "\t 12000\n",
      "\t 99765\n",
      "\t 89\n",
      "\t 4319\n",
      "\n",
      " The favortie numbers of Walker are:\n",
      "\t 15\n",
      "\t 16\n",
      "\t 17\n",
      "\t 18\n",
      "\t 19\n",
      "\t 20\n"
     ]
    }
   ],
   "source": [
    "## 4) Favorite numbers\n",
    "\n",
    "favorite_numbers = {\n",
    "    'john':[2,4,6,8,10],\n",
    "    'casey':[4,6,8,10,12],\n",
    "    'chuck':[6,8,10,15,20],\n",
    "    'bartowsky':[8,12,18,90,99,1005],\n",
    "    'sarah':[11,12000,99765,89,4319],\n",
    "    'walker':[15,16,17,18,19,20],\n",
    "}\n",
    "\n",
    "\n",
    "for name,numbers in favorite_numbers.items():\n",
    "    print(f\"\\n The favortie numbers of {name.title()} are:\")\n",
    "    for num in numbers:\n",
    "        print(f\"\\t {num}\")"
   ]
  },
  {
   "cell_type": "code",
   "execution_count": 331,
   "metadata": {},
   "outputs": [
    {
     "name": "stdout",
     "output_type": "stream",
     "text": [
      "\n",
      " City: SANTIAGO\n",
      "\tThe None is in Nepal.\n",
      "\tNone has population of 975453\n",
      "\tNearby mountains to the city are Himalaya.\n",
      "\n",
      " City: TALKEETNA\n",
      "\tThe None is in Nepal.\n",
      "\tNone has population of 975453\n",
      "\tNearby mountains to the city are Himalaya.\n",
      "\n",
      " City: KATHMANDU\n",
      "\tThe None is in Nepal.\n",
      "\tNone has population of 975453\n",
      "\tNearby mountains to the city are Himalaya.\n",
      "\n",
      "Santiago is in Chile.\n",
      "  It has a population of about 6310000.\n",
      "  The Andes mounats are nearby.\n",
      "\n",
      "Talkeetna is in United States.\n",
      "  It has a population of about 876.\n",
      "  The Alaska Range mounats are nearby.\n",
      "\n",
      "Kathmandu is in Nepal.\n",
      "  It has a population of about 975453.\n",
      "  The Himalaya mounats are nearby.\n"
     ]
    }
   ],
   "source": [
    "## 5) Cities\n",
    "\n",
    "cities = {\n",
    "    'santiago': {\n",
    "        'country': 'chile',\n",
    "        'population': 6_310_000,\n",
    "        'nearby mountains': 'andes',\n",
    "        },\n",
    "    'talkeetna': {\n",
    "        'country': 'united states',\n",
    "        'population': 876,\n",
    "        'nearby mountains': 'alaska range',\n",
    "        },\n",
    "    'kathmandu': {\n",
    "        'country': 'nepal',\n",
    "        'population': 975_453,\n",
    "        'nearby mountains': 'himalaya',\n",
    "        }\n",
    "    }\n",
    "\n",
    "\n",
    "\n",
    "for city, city_info in cities.items():\n",
    "    country = information['country'].title()\n",
    "    population = information['population']\n",
    "    mountains = information['nearby mountains'].title()\n",
    "    city = print(f\"\\n City: {city.upper()}\")\n",
    "    \n",
    "    print(f\"\\tThe {city} is in {country}.\")\n",
    "    print(f\"\\t{city} has population of {population}\")\n",
    "    print(f\"\\tNearby mountains to the city are {mountains}.\")\n",
    "\n",
    "\n",
    "for city, city_info in cities.items():\n",
    "    country = city_info['country'].title()\n",
    "    population = city_info['population']\n",
    "    mountains = city_info['nearby mountains'].title()\n",
    "\n",
    "    print(f\"\\n{city.title()} is in {country}.\")\n",
    "    print(f\"  It has a population of about {population}.\")\n",
    "    print(f\"  The {mountains} mounats are nearby.\")\n",
    "          \n",
    "                 "
   ]
  }
 ],
 "metadata": {
  "kernelspec": {
   "display_name": "Python 3",
   "language": "python",
   "name": "python3"
  },
  "language_info": {
   "codemirror_mode": {
    "name": "ipython",
    "version": 3
   },
   "file_extension": ".py",
   "mimetype": "text/x-python",
   "name": "python",
   "nbconvert_exporter": "python",
   "pygments_lexer": "ipython3",
   "version": "3.7.6"
  }
 },
 "nbformat": 4,
 "nbformat_minor": 4
}
