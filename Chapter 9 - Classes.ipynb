{
 "cells": [
  {
   "cell_type": "markdown",
   "metadata": {},
   "source": [
    "# <font color = 'red'> OBJECT ORIENTED PROGRAMMING </font>"
   ]
  },
  {
   "cell_type": "code",
   "execution_count": 1,
   "metadata": {},
   "outputs": [],
   "source": [
    "## Creating and Using a CLASS"
   ]
  },
  {
   "cell_type": "code",
   "execution_count": 2,
   "metadata": {},
   "outputs": [],
   "source": [
    "# Creating the DOG Class."
   ]
  },
  {
   "cell_type": "code",
   "execution_count": 22,
   "metadata": {},
   "outputs": [],
   "source": [
    "## Making an object from a class is called instantiation"
   ]
  },
  {
   "cell_type": "code",
   "execution_count": 2,
   "metadata": {},
   "outputs": [],
   "source": [
    "import time\n",
    "start_time = time.time()\n"
   ]
  },
  {
   "cell_type": "code",
   "execution_count": 26,
   "metadata": {},
   "outputs": [],
   "source": [
    "class Dog:\n",
    "    \n",
    "    \"\"\"An attempt to create a simple dog\"\"\"\n",
    "    \n",
    "    def __init__(self,name,age):\n",
    "        \"\"\"Initializaing the name and age attributes\"\"\"\n",
    "        self.name = name,\n",
    "        self.age = age\n",
    "        \n",
    "    def sit(self):\n",
    "        \"\"\"Simulate a dog sitting in response to a command.\"\"\"\n",
    "        print(f\"{self.name} is now sitting.\")\n",
    "        \n",
    "    def roll_over(self):\n",
    "        \"\"\"Simulate rolling over in response to a command\"\"\"\n",
    "        print(f\"{self.name} rolled over.\")"
   ]
  },
  {
   "cell_type": "code",
   "execution_count": 27,
   "metadata": {},
   "outputs": [
    {
     "name": "stdout",
     "output_type": "stream",
     "text": [
      "('Willie',) is my dogs name.\n",
      "My dog is 6 years old.\n"
     ]
    }
   ],
   "source": [
    "## Making an instance from a Class\n",
    "\n",
    "my_dog = Dog(\"Willie\",6)\n",
    "\n",
    "print(f\"{my_dog.name} is my dogs name.\")\n",
    "print(f\"My dog is {my_dog.age} years old.\")"
   ]
  },
  {
   "cell_type": "code",
   "execution_count": 28,
   "metadata": {},
   "outputs": [],
   "source": [
    "## Acessing Attributes"
   ]
  },
  {
   "cell_type": "code",
   "execution_count": 29,
   "metadata": {},
   "outputs": [
    {
     "data": {
      "text/plain": [
       "('Willie',)"
      ]
     },
     "execution_count": 29,
     "metadata": {},
     "output_type": "execute_result"
    }
   ],
   "source": [
    "my_dog.name"
   ]
  },
  {
   "cell_type": "code",
   "execution_count": 30,
   "metadata": {},
   "outputs": [],
   "source": [
    "## Calling Methods"
   ]
  },
  {
   "cell_type": "code",
   "execution_count": 31,
   "metadata": {},
   "outputs": [
    {
     "name": "stdout",
     "output_type": "stream",
     "text": [
      "('Willie',) is now sitting.\n"
     ]
    }
   ],
   "source": [
    "my_dog = Dog('Willie',6)\n",
    "\n",
    "my_dog.sit()"
   ]
  },
  {
   "cell_type": "code",
   "execution_count": 32,
   "metadata": {},
   "outputs": [
    {
     "name": "stdout",
     "output_type": "stream",
     "text": [
      "('Willie',) rolled over.\n"
     ]
    }
   ],
   "source": [
    "my_dog.roll_over()"
   ]
  },
  {
   "cell_type": "code",
   "execution_count": 33,
   "metadata": {},
   "outputs": [],
   "source": [
    "## Creating multiple instances"
   ]
  },
  {
   "cell_type": "code",
   "execution_count": 34,
   "metadata": {},
   "outputs": [
    {
     "name": "stdout",
     "output_type": "stream",
     "text": [
      "My dog's name is('Willie',).\n",
      "My dog's age is 6.\n",
      "('Willie',) is now sitting.\n",
      "\n",
      "\tYour dog's name is ('Husky',).\n",
      "\tYour dog's age is 2.\n",
      "('Husky',) is now sitting.\n"
     ]
    }
   ],
   "source": [
    "class Dog:\n",
    "    \n",
    "    def __init__(self,name,age):\n",
    "        self.name = name,\n",
    "        self.age = age\n",
    "    \n",
    "    def sit(self):\n",
    "        print(f\"{self.name} is now sitting.\")\n",
    "        \n",
    "    def roll_over(self):\n",
    "        print(f\"{self.age} just rolled over.\")\n",
    "\n",
    "\n",
    "\n",
    "my_dog = Dog('Willie', 6)\n",
    "your_dog = Dog('Husky', 2)\n",
    "\n",
    "print(f\"My dog's name is{my_dog.name}.\")\n",
    "print(f\"My dog's age is {my_dog.age}.\")\n",
    "my_dog.sit()\n",
    "\n",
    "print(f\"\\n\\tYour dog's name is {your_dog.name}.\")\n",
    "print(f\"\\tYour dog's age is {your_dog.age}.\")\n",
    "your_dog.sit()"
   ]
  },
  {
   "cell_type": "code",
   "execution_count": 35,
   "metadata": {},
   "outputs": [],
   "source": [
    "## Try it yourself exrercises from the book"
   ]
  },
  {
   "cell_type": "code",
   "execution_count": 36,
   "metadata": {},
   "outputs": [],
   "source": [
    "## 9-1 - RESTAURANT"
   ]
  },
  {
   "cell_type": "code",
   "execution_count": 37,
   "metadata": {},
   "outputs": [],
   "source": [
    "class Cafe:\n",
    "    \n",
    "    def __init__(self, cafe_name, coffee_type):\n",
    "        self.cafe_name = cafe_name\n",
    "        self.coffee_type = coffee_type\n",
    "        \n",
    "    def describe_cafe(self):\n",
    "        print(f\"{self.cafe_name} is the name of the cafe.\")\n",
    "        print(f\"{self.coffee_type} made at {self.cafe_name} tastes awesome.\")\n",
    "        \n",
    "    def open_cafe(self):\n",
    "        print(f\"{self.cafe_name} at Union Street is the first starbucks of San Francisco.\")\n",
    "        print(\"It is open till 8pm everyday.\")"
   ]
  },
  {
   "cell_type": "code",
   "execution_count": 38,
   "metadata": {},
   "outputs": [],
   "source": [
    "my_cafe = Cafe('Starbucks','Mocha')"
   ]
  },
  {
   "cell_type": "code",
   "execution_count": 39,
   "metadata": {},
   "outputs": [
    {
     "name": "stdout",
     "output_type": "stream",
     "text": [
      "Starbucks at Union Street is the first starbucks of San Francisco.\n",
      "It is open till 8pm everyday.\n"
     ]
    }
   ],
   "source": [
    "my_cafe.open_cafe()"
   ]
  },
  {
   "cell_type": "code",
   "execution_count": 40,
   "metadata": {},
   "outputs": [
    {
     "name": "stdout",
     "output_type": "stream",
     "text": [
      "Starbucks is the name of the cafe.\n",
      "Mocha made at Starbucks tastes awesome.\n"
     ]
    }
   ],
   "source": [
    "my_cafe.describe_cafe()"
   ]
  },
  {
   "cell_type": "code",
   "execution_count": 41,
   "metadata": {},
   "outputs": [],
   "source": [
    "## 9-3 Users"
   ]
  },
  {
   "cell_type": "code",
   "execution_count": 42,
   "metadata": {},
   "outputs": [],
   "source": [
    "class User:\n",
    "    \n",
    "    def __init__(self,first_name,last_name,location,email):\n",
    "        self.first_name = first_name.title()\n",
    "        self.last_name = last_name.title()\n",
    "        self.location = location.title()\n",
    "        self.email = email.lower()\n",
    "    \n",
    "    def describe_user(self):\n",
    "        print(f\" Full Name: {self.first_name} {self.last_name}\")\n",
    "        print(f\" Location: {self.location}\")\n",
    "        print(f\" Email: {self.email}\")\n",
    "              \n",
    "    def greet_user(self):\n",
    "        print(f\" User {self.first_name}, I know everything about you. you have no chance of escapiong fromm me.\")\n",
    "              "
   ]
  },
  {
   "cell_type": "code",
   "execution_count": 43,
   "metadata": {},
   "outputs": [],
   "source": [
    "person = User('jim', 'morrison', 'USA', 'jim.morrison@gmail.com')"
   ]
  },
  {
   "cell_type": "code",
   "execution_count": 44,
   "metadata": {},
   "outputs": [
    {
     "name": "stdout",
     "output_type": "stream",
     "text": [
      " Full Name: Jim Morrison\n",
      " Location: Usa\n",
      " Email: jim.morrison@gmail.com\n"
     ]
    }
   ],
   "source": [
    "person.describe_user()"
   ]
  },
  {
   "cell_type": "code",
   "execution_count": 45,
   "metadata": {},
   "outputs": [
    {
     "name": "stdout",
     "output_type": "stream",
     "text": [
      " User Jim, I know everything about you. you have no chance of escapiong fromm me.\n"
     ]
    }
   ],
   "source": [
    "person.greet_user()"
   ]
  },
  {
   "cell_type": "code",
   "execution_count": 46,
   "metadata": {},
   "outputs": [],
   "source": [
    "## Working with classes and instances"
   ]
  },
  {
   "cell_type": "code",
   "execution_count": 47,
   "metadata": {},
   "outputs": [
    {
     "name": "stdout",
     "output_type": "stream",
     "text": [
      " 2022 Bmw 540I Xdrive \n"
     ]
    }
   ],
   "source": [
    "class Car:\n",
    "    \n",
    "    \"\"\"A simple attempt to represent a car\"\"\"\n",
    "    \n",
    "    def __init__(self, make, model, year):\n",
    "        self.make = make\n",
    "        self.model = model\n",
    "        self.year = year\n",
    "    \n",
    "    def get_description(self):\n",
    "        \"\"\"Return a formatted descriptive name\"\"\"\n",
    "        full_name = f\" {self.year} {self.make} {self.model} \"\n",
    "        return full_name.title()\n",
    "    \n",
    "my_car  = Car('BMW', '540i Xdrive', 2022)\n",
    "print(my_car.get_description())"
   ]
  },
  {
   "cell_type": "code",
   "execution_count": 48,
   "metadata": {},
   "outputs": [],
   "source": [
    "## Setting a default value for an Attribute"
   ]
  },
  {
   "cell_type": "code",
   "execution_count": 49,
   "metadata": {},
   "outputs": [
    {
     "name": "stdout",
     "output_type": "stream",
     "text": [
      "2022 Bmw 540I Xdrive\n",
      " The odometer reading of this car is 10 miles.\n"
     ]
    }
   ],
   "source": [
    "class Car:\n",
    "    \n",
    "    \"\"\"An attempt to represent a car\"\"\"\n",
    "    \n",
    "    def __init__(self,make, model, year):\n",
    "        self.make =  make\n",
    "        self.model = model\n",
    "        self.year = year\n",
    "        self.odometer_reading = 10\n",
    "        \n",
    "    def description(self):\n",
    "        \"\"\"Return a formatted descriptive name\"\"\"\n",
    "        full_name = f\"{self.year} {self.make} {self.model}\"\n",
    "        return full_name.title()\n",
    "\n",
    "    def read_odometer(self):\n",
    "        print(f\" The odometer reading of this car is {self.odometer_reading} miles.\")\n",
    "        \n",
    "my_car = Car('BMW', '540i Xdrive', 2022)\n",
    "print(my_car.description())\n",
    "my_car.read_odometer()"
   ]
  },
  {
   "cell_type": "code",
   "execution_count": 50,
   "metadata": {},
   "outputs": [],
   "source": [
    "## Modifying attribute values"
   ]
  },
  {
   "cell_type": "code",
   "execution_count": 51,
   "metadata": {},
   "outputs": [],
   "source": [
    "## Atrributes can be modified in 3 ways\n",
    "\n",
    "# (1) Directly through the instance.\n",
    "# (2) Set value through a method.\n",
    "# (3) Increment value through a method."
   ]
  },
  {
   "cell_type": "code",
   "execution_count": 52,
   "metadata": {},
   "outputs": [],
   "source": [
    "## 1) Modifying an attributes value directly through an instance."
   ]
  },
  {
   "cell_type": "code",
   "execution_count": 53,
   "metadata": {},
   "outputs": [
    {
     "name": "stdout",
     "output_type": "stream",
     "text": [
      "2022 Mercedes S-Class\n",
      " The odometer reading of this car is 25 miles.\n"
     ]
    }
   ],
   "source": [
    "my_car  =  Car('Mercedes','S-class',2022)\n",
    "print(my_car.description())\n",
    "\n",
    "my_car.odometer_reading = 25\n",
    "my_car.read_odometer()"
   ]
  },
  {
   "cell_type": "code",
   "execution_count": 54,
   "metadata": {},
   "outputs": [],
   "source": [
    "## 2) Modifying an attribute value through a Method"
   ]
  },
  {
   "cell_type": "code",
   "execution_count": 55,
   "metadata": {},
   "outputs": [
    {
     "name": "stdout",
     "output_type": "stream",
     "text": [
      "2022 Bmw M5\n",
      " The odometer reading of this car is 25 miles.\n",
      "None\n"
     ]
    }
   ],
   "source": [
    "class Car:\n",
    "    \n",
    "    \"\"\"An attempt to represent a car\"\"\"\n",
    "    \n",
    "    def __init__(self,make, model, year):\n",
    "        self.make =  make\n",
    "        self.model = model\n",
    "        self.year = year\n",
    "        self.odometer_reading = 10\n",
    "        \n",
    "    def description(self):\n",
    "        \"\"\"Return a formatted descriptive name\"\"\"\n",
    "        full_name = f\"{self.year} {self.make} {self.model}\"\n",
    "        return full_name.title()\n",
    "\n",
    "    def read_odometer(self):\n",
    "        print(f\" The odometer reading of this car is {self.odometer_reading} miles.\")\n",
    "        \n",
    "    def update_odometer(self,mileage):\n",
    "        \"\"\"Set the odometer to the given value\"\"\"\n",
    "        self.odometer_reading = mileage\n",
    "        \n",
    "my_car = Car('BMW', 'M5', 2022)\n",
    "print(my_car.description())\n",
    "\n",
    "my_car.update_odometer(25)\n",
    "print(my_car.read_odometer())"
   ]
  },
  {
   "cell_type": "code",
   "execution_count": 56,
   "metadata": {},
   "outputs": [
    {
     "name": "stdout",
     "output_type": "stream",
     "text": [
      "2022 Bmw M5\n",
      "You cannot rollback the odometer\n",
      " The odometer reading of this car is 10 miles.\n",
      "None\n"
     ]
    }
   ],
   "source": [
    "class Car:\n",
    "    \n",
    "    \"\"\"An attempt to represent a car\"\"\"\n",
    "    \n",
    "    def __init__(self,make, model, year):\n",
    "        self.make =  make\n",
    "        self.model = model\n",
    "        self.year = year\n",
    "        self.odometer_reading = 10\n",
    "        \n",
    "    def description(self):\n",
    "        \"\"\"Return a formatted descriptive name\"\"\"\n",
    "        full_name = f\"{self.year} {self.make} {self.model}\"\n",
    "        return full_name.title()\n",
    "\n",
    "    def read_odometer(self):\n",
    "        print(f\" The odometer reading of this car is {self.odometer_reading} miles.\")\n",
    "        \n",
    "    def update_odometer(self,mileage):\n",
    "        \"\"\"Setting the odometer value to the given value\"\"\"\n",
    "        \n",
    "        if self.odometer_reading >= mileage:\n",
    "            self.odometer_reading = mileage\n",
    "        else:\n",
    "            print(\"You cannot rollback the odometer\")\n",
    "        \n",
    "my_car = Car('BMW', 'M5', 2022)\n",
    "print(my_car.description())\n",
    "\n",
    "my_car.update_odometer(25)\n",
    "print(my_car.read_odometer())"
   ]
  },
  {
   "cell_type": "code",
   "execution_count": 57,
   "metadata": {},
   "outputs": [],
   "source": [
    "## Modifying an attributes value through a method"
   ]
  },
  {
   "cell_type": "code",
   "execution_count": 58,
   "metadata": {},
   "outputs": [
    {
     "name": "stdout",
     "output_type": "stream",
     "text": [
      "2022 Bmw M5\n",
      " The odometer reading of this car is 10 miles.\n",
      "None\n",
      " The odometer reading of this car is 125 miles.\n",
      "None\n"
     ]
    }
   ],
   "source": [
    "class Car:\n",
    "    \n",
    "    \"\"\"An attempt to represent a car\"\"\"\n",
    "    \n",
    "    def __init__(self,make, model, year):\n",
    "        self.make =  make\n",
    "        self.model = model\n",
    "        self.year = year\n",
    "        self.odometer_reading = 10\n",
    "        \n",
    "    def description(self):\n",
    "        \"\"\"Return a formatted descriptive name\"\"\"\n",
    "        full_name = f\"{self.year} {self.make} {self.model}\"\n",
    "        return full_name.title()\n",
    "\n",
    "    def read_odometer(self):\n",
    "        print(f\" The odometer reading of this car is {self.odometer_reading} miles.\")\n",
    "        \n",
    "    def update_odometer(self,mileage):\n",
    "        \"\"\"Set the odometer to the given value\"\"\"\n",
    "        self.odometer_reading = mileage\n",
    "        \n",
    "    def increment_odometer(self,miles):\n",
    "        self.odometer_reading += miles\n",
    "        \n",
    "my_used_car = Car('BMW', 'M5', 2018)\n",
    "print(my_car.description())\n",
    "\n",
    "my_used_car.update_odometer(25)\n",
    "print(my_car.read_odometer())\n",
    "\n",
    "my_used_car.increment_odometer(100)\n",
    "print(my_used_car.read_odometer())\n"
   ]
  },
  {
   "cell_type": "code",
   "execution_count": 59,
   "metadata": {},
   "outputs": [],
   "source": [
    "## Try it yourself Exercises from the Book"
   ]
  },
  {
   "cell_type": "code",
   "execution_count": 60,
   "metadata": {},
   "outputs": [],
   "source": [
    "## 9-4 Number Served"
   ]
  },
  {
   "cell_type": "code",
   "execution_count": 61,
   "metadata": {},
   "outputs": [],
   "source": [
    "class Cafe:\n",
    "    \n",
    "    \"\"\"An attempt to describe a cafe using a Class\"\"\"\n",
    "    def __init__(self, name, coffee, location):\n",
    "        self.name = name\n",
    "        self.coffee = coffee\n",
    "        self.location  = location\n",
    "        self.served = 0\n",
    "        \n",
    "        \n",
    "    def describe_cafe(self):\n",
    "        \"\"\"Describing the cafe\"\"\"\n",
    "        print(f\"\\n\\t The cafe {self.name} is located at {self.location}.\")\n",
    "        \n",
    "    def open_timings(self):\n",
    "        \"\"\"Timings of the cafe\"\"\"\n",
    "        print(f\"The cafe is open 24/7. You are welcome anytime.\")\n",
    "        \n",
    "    def set_number_served(self, served):\n",
    "        \"\"\"Setting a value to the customers served\"\"\"\n",
    "        self.served = served\n",
    "        print(\"\\nWe have served 10 customers since morning\")\n",
    "        \n",
    "    def increment_number_served(self, served):\n",
    "        \"\"\"Incrementing the value as required\"\"\"\n",
    "        self.served += served\n",
    "        print(\"\\n\\t Oops Sorry, We have served 25 customers since morning.\")\n",
    "        \n"
   ]
  },
  {
   "cell_type": "code",
   "execution_count": 62,
   "metadata": {},
   "outputs": [
    {
     "name": "stdout",
     "output_type": "stream",
     "text": [
      "The cafe is open 24/7. You are welcome anytime.\n",
      "\n",
      "\t The cafe Starbucks is located at U Village - Seattle, 98105.\n",
      "\n",
      "We have served 10 customers since morning\n",
      "\n",
      "\t Oops Sorry, We have served 25 customers since morning.\n"
     ]
    }
   ],
   "source": [
    "se = Cafe('Starbucks', 'Mocha', 'U Village - Seattle, 98105')\n",
    "se.open_timings()\n",
    "se.describe_cafe()\n",
    "\n",
    "se.set_number_served(10)\n",
    "se.increment_number_served(25)"
   ]
  },
  {
   "cell_type": "code",
   "execution_count": 63,
   "metadata": {},
   "outputs": [],
   "source": [
    "## 9-5 Login Attempts"
   ]
  },
  {
   "cell_type": "code",
   "execution_count": 64,
   "metadata": {},
   "outputs": [],
   "source": [
    "class User:\n",
    "    \n",
    "    def __init__(self,first_name,last_name,location,email):\n",
    "        self.first_name = first_name.title()\n",
    "        self.last_name = last_name.title()\n",
    "        self.location = location.title()\n",
    "        self.email = email.lower()\n",
    "    \n",
    "    def describe_user(self):\n",
    "        print(f\" Full Name: {self.first_name} {self.last_name}\")\n",
    "        print(f\" Location: {self.location}\")\n",
    "        print(f\" Email: {self.email}\")\n",
    "              \n",
    "    def greet_user(self):\n",
    "        print(f\" User {self.first_name}, I know everything about you. you have no chance of escapiong fromm me.\")\n",
    "        \n",
    "              "
   ]
  },
  {
   "cell_type": "code",
   "execution_count": 65,
   "metadata": {},
   "outputs": [],
   "source": [
    "person = User('k','lal','seattle','abc@y.com')"
   ]
  },
  {
   "cell_type": "code",
   "execution_count": 66,
   "metadata": {},
   "outputs": [
    {
     "name": "stdout",
     "output_type": "stream",
     "text": [
      " User K, I know everything about you. you have no chance of escapiong fromm me.\n"
     ]
    }
   ],
   "source": [
    "person.greet_user()"
   ]
  },
  {
   "cell_type": "code",
   "execution_count": 67,
   "metadata": {},
   "outputs": [
    {
     "name": "stdout",
     "output_type": "stream",
     "text": [
      " Full Name: K Lal\n",
      " Location: Seattle\n",
      " Email: abc@y.com\n"
     ]
    }
   ],
   "source": [
    "person.describe_user()"
   ]
  },
  {
   "cell_type": "code",
   "execution_count": 68,
   "metadata": {},
   "outputs": [],
   "source": [
    "class User:\n",
    "    \n",
    "    def __init__(self,first_name,last_name,location,email):\n",
    "        self.first_name = first_name.title()\n",
    "        self.last_name = last_name.title()\n",
    "        self.location = location.title()\n",
    "        self.email = email.lower()\n",
    "        self.login_attempts = 0\n",
    "    \n",
    "    def describe_user(self):\n",
    "        print(f\" Full Name: {self.first_name} {self.last_name}\")\n",
    "        print(f\" Location: {self.location}\")\n",
    "        print(f\" Email: {self.email}\")\n",
    "              \n",
    "    def greet_user(self):\n",
    "        print(f\" User {self.first_name}, I know everything about you. you have no chance of escapiong fromm me.\")\n",
    "        \n",
    "    def increment_login_attempts(self):\n",
    "        self.login_attempts += 1\n",
    "        \n",
    "    def reset_login_attempts(self):\n",
    "        self.login_attempts = 0\n"
   ]
  },
  {
   "cell_type": "code",
   "execution_count": 69,
   "metadata": {},
   "outputs": [
    {
     "name": "stdout",
     "output_type": "stream",
     "text": [
      " Full Name: Eric Matthes\n",
      " Location: E_Matthes@Example.Com\n",
      " Email: alaska\n",
      " User Eric, I know everything about you. you have no chance of escapiong fromm me.\n"
     ]
    }
   ],
   "source": [
    "eric = User('eric', 'matthes', 'e_matthes@example.com', 'alaska')\n",
    "eric.describe_user()\n",
    "eric.greet_user()"
   ]
  },
  {
   "cell_type": "code",
   "execution_count": 70,
   "metadata": {},
   "outputs": [
    {
     "name": "stdout",
     "output_type": "stream",
     "text": [
      "\n",
      "Making 3 login attempts...\n",
      "  Login attempts: 3\n",
      "Resetting login attempts...\n",
      "  Login attempts: 0\n"
     ]
    }
   ],
   "source": [
    "print(\"\\nMaking 3 login attempts...\")\n",
    "eric.increment_login_attempts()\n",
    "eric.increment_login_attempts()\n",
    "eric.increment_login_attempts()\n",
    "print(f\"  Login attempts: {eric.login_attempts}\")\n",
    "\n",
    "print(\"Resetting login attempts...\")\n",
    "eric.reset_login_attempts()\n",
    "print(f\"  Login attempts: {eric.login_attempts}\")"
   ]
  },
  {
   "cell_type": "code",
   "execution_count": 71,
   "metadata": {},
   "outputs": [],
   "source": [
    "## Inheritance"
   ]
  },
  {
   "cell_type": "code",
   "execution_count": 72,
   "metadata": {},
   "outputs": [],
   "source": [
    "## Inheritance allows to take attributes and methods of the first class. \n",
    "## Original class is called Parent Class and the new class is called Child Class.\n",
    "## Child class can inherit any or all attributes of parent class."
   ]
  },
  {
   "cell_type": "code",
   "execution_count": 73,
   "metadata": {},
   "outputs": [],
   "source": [
    "## The __init__() Method for a Child Class"
   ]
  },
  {
   "cell_type": "code",
   "execution_count": 74,
   "metadata": {},
   "outputs": [
    {
     "name": "stdout",
     "output_type": "stream",
     "text": [
      "Model S 2022 Tesla\n"
     ]
    }
   ],
   "source": [
    "class Car:\n",
    "    \n",
    "    \"\"\"Making a descriptive car class\"\"\"\n",
    "    \n",
    "    def __init__(self, make, model, year):\n",
    "        self.make = make\n",
    "        self.model = model\n",
    "        self.year = year\n",
    "        self.odometer_reading = 0\n",
    "        \n",
    "    \n",
    "    def get_descriptive_name(self):\n",
    "        \n",
    "        \"\"\"Getting the description of the cars odometer\"\"\"\n",
    "        \n",
    "        full_name = f\"{self.year} {self.make} {self.model}\"\n",
    "        return full_name\n",
    "    \n",
    "    \n",
    "    def read_odometer(self):        \n",
    "        print(f\" The odometer reading of the car is {self.odometer_reading}.\")\n",
    "        \n",
    "    \n",
    "    def update_odometer(self, mileage):\n",
    "        if mileage >= self.odometer_reading:\n",
    "            self.odometer_reading = mileage\n",
    "        else:\n",
    "            print(\"You cannot rollback the odometer\")\n",
    "            \n",
    "    \n",
    "    def increment_odometer(self,miles):\n",
    "        self.odometer_reading += miles\n",
    "        \n",
    "        \n",
    "\n",
    "class ElectricCar(Car):\n",
    "    \"\"\"Inheritance concept. Lets take the attributes of parent class (Car).\"\"\"\n",
    "    def __init__(self, make, model, year):\n",
    "        super().__init__(make,model,year)\n",
    "        \n",
    "my_tesla = ElectricCar('2022', 'Tesla', 'Model S')\n",
    "print(my_tesla.get_descriptive_name())"
   ]
  },
  {
   "cell_type": "code",
   "execution_count": 75,
   "metadata": {},
   "outputs": [
    {
     "name": "stdout",
     "output_type": "stream",
     "text": [
      " The odometer reading of the car is 0.\n"
     ]
    }
   ],
   "source": [
    "my_tesla.read_odometer()"
   ]
  },
  {
   "cell_type": "code",
   "execution_count": 76,
   "metadata": {},
   "outputs": [
    {
     "name": "stdout",
     "output_type": "stream",
     "text": [
      "You cannot rollback the odometer\n"
     ]
    }
   ],
   "source": [
    "my_tesla.update_odometer(-1)"
   ]
  },
  {
   "cell_type": "code",
   "execution_count": 77,
   "metadata": {},
   "outputs": [],
   "source": [
    "my_tesla.increment_odometer(25)"
   ]
  },
  {
   "cell_type": "code",
   "execution_count": 78,
   "metadata": {},
   "outputs": [
    {
     "name": "stdout",
     "output_type": "stream",
     "text": [
      " The odometer reading of the car is 25.\n"
     ]
    }
   ],
   "source": [
    "my_tesla.read_odometer()"
   ]
  },
  {
   "cell_type": "code",
   "execution_count": 79,
   "metadata": {},
   "outputs": [],
   "source": [
    "## Defining attributes and Methods for the Child Class"
   ]
  },
  {
   "cell_type": "code",
   "execution_count": 86,
   "metadata": {},
   "outputs": [
    {
     "name": "stdout",
     "output_type": "stream",
     "text": [
      "2019 tesla model S\n",
      "This car has a battery size of 85.\n",
      "None\n"
     ]
    }
   ],
   "source": [
    "class Car:\n",
    "    \n",
    "    \"\"\"Making a descriptive car class\"\"\"\n",
    "    \n",
    "    def __init__(self, make, model, year):\n",
    "        self.make = make\n",
    "        self.model = model\n",
    "        self.year = year\n",
    "        self.odometer_reading = 0\n",
    "        \n",
    "    \n",
    "    def get_descriptive_name(self):\n",
    "        \n",
    "        \"\"\"Getting the description of the cars odometer\"\"\"\n",
    "        \n",
    "        full_name = f\"{self.year} {self.make} {self.model}\"\n",
    "        return full_name\n",
    "    \n",
    "    \n",
    "    def read_odometer(self):        \n",
    "        print(f\" The odometer reading of the car is {self.odometer_reading}.\")\n",
    "        \n",
    "    \n",
    "    def update_odometer(self, mileage):\n",
    "        if mileage >= self.odometer_reading:\n",
    "            self.odometer_reading = mileage\n",
    "        else:\n",
    "            print(\"You cannot rollback the odometer\")\n",
    "            \n",
    "    \n",
    "    def increment_odometer(self,miles):\n",
    "        self.odometer_reading += miles\n",
    "        \n",
    "        \n",
    "\n",
    "class ElectricCar(Car):\n",
    "    \"\"\"Represents aspects of a car, specific to the electric vehicles\"\"\"\n",
    "    \n",
    "    def __init__(self, make, model, year):\n",
    "        super().__init__(make, model, year)\n",
    "        self.battery_size = 85\n",
    "        \n",
    "    def describe_battery(self):\n",
    "        print(f\"This car has a battery size of {self.battery_size}.\")\n",
    "        \n",
    "    def fill_gas_tank(self):\n",
    "        print(\"This car does not run on gas you idiot\")\n",
    "\n",
    "        \n",
    "my_tesla = ElectricCar('tesla','model S',2019)\n",
    "print(my_tesla.get_descriptive_name())\n",
    "print(my_tesla.describe_battery())"
   ]
  },
  {
   "cell_type": "code",
   "execution_count": 87,
   "metadata": {},
   "outputs": [],
   "source": [
    "## Overriding methods from the Parent Class"
   ]
  },
  {
   "cell_type": "code",
   "execution_count": 88,
   "metadata": {},
   "outputs": [],
   "source": [
    "class Car:\n",
    "    \n",
    "    \"\"\"Making a descriptive car class\"\"\"\n",
    "    \n",
    "    def __init__(self, make, model, year):\n",
    "        self.make = make\n",
    "        self.model = model\n",
    "        self.year = year\n",
    "        self.odometer_reading = 0\n",
    "        \n",
    "    \n",
    "    def get_descriptive_name(self):\n",
    "        \n",
    "        \"\"\"Getting the description of the cars odometer\"\"\"\n",
    "        \n",
    "        full_name = f\"{self.year} {self.make} {self.model}\"\n",
    "        return full_name\n",
    "    \n",
    "    \n",
    "    def read_odometer(self):        \n",
    "        print(f\" The odometer reading of the car is {self.odometer_reading}.\")\n",
    "        \n",
    "    \n",
    "    def update_odometer(self, mileage):\n",
    "        if mileage >= self.odometer_reading:\n",
    "            self.odometer_reading = mileage\n",
    "        else:\n",
    "            print(\"You cannot rollback the odometer\")\n",
    "            \n",
    "    \n",
    "    def increment_odometer(self,miles):\n",
    "        self.odometer_reading += miles\n",
    "        \n",
    "        \n",
    "\n",
    "class ElectricCar(Car):\n",
    "    \"\"\"Represents aspects of a car, specific to the electric vehicles\"\"\"\n",
    "    \n",
    "    def __init__(self, make, model, year):\n",
    "        super().__init__(make, model, year)\n",
    "        self.battery_size = 85\n",
    "        \n",
    "    def describe_battery(self):\n",
    "        print(f\"This car has a battery size of {self.battery_size}.\")\n",
    "        \n",
    "    def fill_gas_tank(self):\n",
    "        print(\"This car does not need a gas tank you idiot\")"
   ]
  },
  {
   "cell_type": "code",
   "execution_count": 89,
   "metadata": {},
   "outputs": [
    {
     "name": "stdout",
     "output_type": "stream",
     "text": [
      "This car does not run on gas you idiot\n"
     ]
    }
   ],
   "source": [
    "my_tesla.fill_gas_tank()"
   ]
  },
  {
   "cell_type": "code",
   "execution_count": 90,
   "metadata": {},
   "outputs": [],
   "source": [
    "## Instances as Attributes\n",
    "\n",
    "## Divide the attrbutes in different class to reduce the length"
   ]
  },
  {
   "cell_type": "code",
   "execution_count": 99,
   "metadata": {},
   "outputs": [
    {
     "name": "stdout",
     "output_type": "stream",
     "text": [
      "2019 Tesla model S\n",
      "The size of the battery is 75 -kWh.\n"
     ]
    }
   ],
   "source": [
    "class Car:\n",
    "    \n",
    "    \"\"\"Making a describable car\"\"\"\n",
    "    \n",
    "    def __init__(self, make, model, year):\n",
    "        self.make = make\n",
    "        self.model = model\n",
    "        self.year = year\n",
    "        self.odometer_reading = 0\n",
    "        \n",
    "    \n",
    "    def get_descriptive_name(self):\n",
    "        full_name = f\"{self.year} {self.make} {self.model}\"\n",
    "        return full_name\n",
    "    \n",
    "    \n",
    "    def odometer_reading(self):\n",
    "        print(f\"The odometer reading of this car is {self.odometer_reading}.\")\n",
    "        \n",
    "    \n",
    "    def update_odometer(self,mileage):\n",
    "        if mileage >= self.odometer_reading:\n",
    "            self.odometer_reading = mileage\n",
    "        else:\n",
    "            print(\"You cannot rollback the odometer\")\n",
    "            \n",
    "    \n",
    "    def increment_odometer(self, miles):\n",
    "        self.odometer_reading += miles\n",
    "        \n",
    "\n",
    "class Battery:\n",
    "    \n",
    "    def __init__(self, battery_size = 75):\n",
    "        self.battery_size = battery_size\n",
    "        \n",
    "    def describe_battery(self):\n",
    "        print(f\"The size of the battery is {self.battery_size} -kWh.\")\n",
    "        \n",
    "class ElectricCar(Car):\n",
    "    \n",
    "    def __init__(self, make, model, year):\n",
    "        super().__init__(make,model,year)\n",
    "        self.battery = Battery()\n",
    "        \n",
    "my_tesla = ElectricCar('Tesla','model S',2019)\n",
    "print(my_tesla.get_descriptive_name())\n",
    "my_tesla.battery.describe_battery()"
   ]
  },
  {
   "cell_type": "code",
   "execution_count": 9,
   "metadata": {},
   "outputs": [
    {
     "name": "stdout",
     "output_type": "stream",
     "text": [
      "2019 Tesla model S\n",
      "The size of the battery is 75 -kWh.\n",
      "This car can go about the 260 miles on a full charge.\n"
     ]
    }
   ],
   "source": [
    "class Car:\n",
    "    \n",
    "    \"\"\"Making a describable car\"\"\"\n",
    "    \n",
    "    def __init__(self, make, model, year):\n",
    "        self.make = make\n",
    "        self.model = model\n",
    "        self.year = year\n",
    "        self.odometer_reading = 0\n",
    "        \n",
    "    \n",
    "    def get_descriptive_name(self):\n",
    "        full_name = f\"{self.year} {self.make} {self.model}\"\n",
    "        return full_name\n",
    "    \n",
    "    \n",
    "    def odometer_reading(self):\n",
    "        print(f\"The odometer reading of this car is {self.odometer_reading}.\")\n",
    "        \n",
    "    \n",
    "    def update_odometer(self,mileage):\n",
    "        if mileage >= self.odometer_reading:\n",
    "            self.odometer_reading = mileage\n",
    "        else:\n",
    "            print(\"You cannot rollback the odometer\")\n",
    "            \n",
    "    \n",
    "    def increment_odometer(self, miles):\n",
    "        self.odometer_reading += miles\n",
    "        \n",
    "\n",
    "class Battery:\n",
    "    \n",
    "    def __init__(self, battery_size = 75):\n",
    "        self.battery_size = battery_size\n",
    "        \n",
    "    def describe_battery(self):\n",
    "        print(f\"The size of the battery is {self.battery_size} -kWh.\")\n",
    "        \n",
    "        \n",
    "    def get_range(self):\n",
    "        if self.battery_size == 75:\n",
    "            range = 260\n",
    "        elif self.battery_size == 100:\n",
    "            range = 300\n",
    "            \n",
    "        print(f\"This car can go about the {range} miles on a full charge.\")\n",
    "    \n",
    "    \n",
    "    \n",
    "class ElectricCar(Car):\n",
    "    \n",
    "    def __init__(self, make, model, year):\n",
    "        super().__init__(make,model,year)\n",
    "        self.battery = Battery()\n",
    "        \n",
    "my_tesla = ElectricCar('Tesla','model S',2019)\n",
    "print(my_tesla.get_descriptive_name())\n",
    "my_tesla.battery.describe_battery()\n",
    "\n",
    "my_tesla.battery.get_range()"
   ]
  },
  {
   "cell_type": "code",
   "execution_count": 10,
   "metadata": {},
   "outputs": [],
   "source": [
    "## MOdeling real world objects"
   ]
  },
  {
   "cell_type": "code",
   "execution_count": 11,
   "metadata": {},
   "outputs": [],
   "source": [
    "## Try it yourself Exercises"
   ]
  },
  {
   "cell_type": "code",
   "execution_count": 12,
   "metadata": {},
   "outputs": [],
   "source": [
    "### 9-6 ICE CREAM STAND"
   ]
  },
  {
   "cell_type": "code",
   "execution_count": 14,
   "metadata": {},
   "outputs": [],
   "source": [
    "## Inherit from the above restaurant cafe exercise"
   ]
  },
  {
   "cell_type": "code",
   "execution_count": null,
   "metadata": {},
   "outputs": [],
   "source": [
    "class Cafe:\n",
    "    \n",
    "    \"\"\"An attempt to describe a cafe using a Class\"\"\"\n",
    "    def __init__(self, name, coffee, location):\n",
    "        self.name = name\n",
    "        self.coffee = coffee\n",
    "        self.location  = location\n",
    "        self.served = 0\n",
    "        \n",
    "        \n",
    "    def describe_cafe(self):\n",
    "        \"\"\"Describing the cafe\"\"\"\n",
    "        print(f\"\\n\\t The cafe {self.name} is located at {self.location}.\")\n",
    "        \n",
    "    def open_timings(self):\n",
    "        \"\"\"Timings of the cafe\"\"\"\n",
    "        print(f\"The cafe is open 24/7. You are welcome anytime.\")\n",
    "        \n",
    "    def set_number_served(self, served):\n",
    "        \"\"\"Setting a value to the customers served\"\"\"\n",
    "        self.served = served\n",
    "        print(\"\\nWe have served 10 customers since morning\")\n",
    "        \n",
    "    def increment_number_served(self, served):\n",
    "        \"\"\"Incrementing the value as required\"\"\"\n",
    "        self.served += served\n",
    "        print(\"\\n\\t Oops Sorry, We have served 25 customers since morning.\")\n",
    "        \n"
   ]
  },
  {
   "cell_type": "code",
   "execution_count": 41,
   "metadata": {},
   "outputs": [],
   "source": [
    "class Cafe:\n",
    "    \n",
    "    \"\"\"An attempt to describe the cafe using the class\"\"\"\n",
    "    \n",
    "    def __init__(self, name, coffee_type):\n",
    "        self.name = name\n",
    "        self.coffee_type = coffee_type\n",
    "        self.served = 0\n",
    "        \n",
    "    def describe_cafe(self):\n",
    "        \"\"\"Describing the cafe\"\"\"\n",
    "        print(f\"\\n\\t The name of the cafe is {self.name} \")\n",
    "        \n",
    "    def open_timings(self):\n",
    "        \"\"\"Timings of the cafe\"\"\"\n",
    "        print(\"We are open 24/7. You are welcome anytime.\")\n",
    "        \n",
    "    def set_number_served(self, served):\n",
    "        self.served = served\n",
    "        print(\"We have served 10 customers since morning\")\n",
    "        \n",
    "    def increment_number_served(self,served):\n",
    "        self.served += served\n",
    "        print(\"\\n\\t Oops Sorry, We have served 25 customers since morning.\")\n",
    "        \n",
    "    \n",
    "class icecream(Cafe):\n",
    "    \n",
    "    def __init__(self, name, coffee_type):\n",
    "        super().__init__(name, coffee_type)\n",
    "        self.coffee_type = []\n",
    "        \n",
    "    def show_type(self):\n",
    "        \"\"\"Trying to describe the types of coffee available\"\"\"\n",
    "        for types in self.coffee_type:\n",
    "            print(f\"- {coffee_type.title()}\")\n",
    "        \n",
    "        "
   ]
  },
  {
   "cell_type": "code",
   "execution_count": 44,
   "metadata": {
    "scrolled": true
   },
   "outputs": [
    {
     "name": "stdout",
     "output_type": "stream",
     "text": [
      "\n",
      "\t The name of the cafe is Starbucks \n",
      "\n",
      "\t Oops Sorry, We have served 25 customers since morning.\n"
     ]
    }
   ],
   "source": [
    "starbucks = icecream('Starbucks','union street')\n",
    "starbucks.coffee_type = ['cafe mocha', 'white chochlate mocha','freshly brewed coffeee','cafe lattee','americano','flat white']\n",
    "\n",
    "starbucks.describe_cafe()\n",
    "starbucks.increment_number_served(25)\n"
   ]
  },
  {
   "cell_type": "code",
   "execution_count": 36,
   "metadata": {},
   "outputs": [],
   "source": [
    "## 9-7 Admin"
   ]
  },
  {
   "cell_type": "code",
   "execution_count": 83,
   "metadata": {},
   "outputs": [],
   "source": [
    "class User:\n",
    "    \n",
    "    def __init__(self,first_name, last_name, location, email):\n",
    "        self.first_name = first_name.title()\n",
    "        self.last_name =  last_name.title()\n",
    "        self.location = location.title()\n",
    "        self.email = email.lower()\n",
    "        self.logion_attempts = 0\n",
    "        \n",
    "    def describe_user(self):\n",
    "        print(f\" Full Name: {self.first_name} {self.last_name}\")\n",
    "        print(f\" Location: {self.location}\")\n",
    "        print(f\" Email: {self.email}\")\n",
    "        \n",
    "    def greet_user(self):\n",
    "        print(f\" Hello {self.first_name}. How are you?\")\n",
    "        \n",
    "    def increment_login_attempts(self):\n",
    "        self.login_attempts += 1\n",
    "        \n",
    "    def reset_login_attempts(self):\n",
    "        self.login_attempts = 0\n",
    "        \n",
    "\n",
    "class Admin(User):\n",
    "    \n",
    "    def __init__(self, first_name, last_name, email, location):\n",
    "        super().__init__(first_name, last_name, email, location)\n",
    "        self.privileges = []\n",
    "        \n",
    "    def show_priveleges(self):\n",
    "        for privilege in privileges:\n",
    "            print(f\" - {privilege}.\")"
   ]
  },
  {
   "cell_type": "code",
   "execution_count": 95,
   "metadata": {},
   "outputs": [],
   "source": [
    "## 9-9 Battery Upgrade"
   ]
  },
  {
   "cell_type": "code",
   "execution_count": 107,
   "metadata": {},
   "outputs": [
    {
     "name": "stdout",
     "output_type": "stream",
     "text": [
      "2019 Tesla model S\n",
      "The size of the battery is 75 -kWh.\n",
      "This car can go about the 260 miles on a full charge.\n"
     ]
    }
   ],
   "source": [
    "class Car:\n",
    "    \n",
    "    \"\"\"Making a describable car\"\"\"\n",
    "    \n",
    "    def __init__(self, make, model, year):\n",
    "        self.make = make\n",
    "        self.model = model\n",
    "        self.year = year\n",
    "        self.odometer_reading = 0\n",
    "        \n",
    "    \n",
    "    def get_descriptive_name(self):\n",
    "        full_name = f\"{self.year} {self.make} {self.model}\"\n",
    "        return full_name\n",
    "    \n",
    "    \n",
    "    def odometer_reading(self):\n",
    "        print(f\"The odometer reading of this car is {self.odometer_reading}.\")\n",
    "        \n",
    "    \n",
    "    def update_odometer(self,mileage):\n",
    "        if mileage >= self.odometer_reading:\n",
    "            self.odometer_reading = mileage\n",
    "        else:\n",
    "            print(\"You cannot rollback the odometer\")\n",
    "            \n",
    "    \n",
    "    def increment_odometer(self, miles):\n",
    "        self.odometer_reading += miles\n",
    "        \n",
    "\n",
    "class Battery:\n",
    "    \n",
    "    def __init__(self, battery_size = 75):\n",
    "        self.battery_size = battery_size\n",
    "        \n",
    "    def describe_battery(self):\n",
    "        print(f\"The size of the battery is {self.battery_size} -kWh.\")\n",
    "        \n",
    "        \n",
    "    def get_range(self):\n",
    "        if self.battery_size == 75:\n",
    "            range = 260\n",
    "        elif self.battery_size == 100:\n",
    "            range = 300\n",
    "            \n",
    "        print(f\"This car can go about the {range} miles on a full charge.\")\n",
    "        \n",
    "    def upgrade_battery(self):\n",
    "        if self.battery_size == 75:\n",
    "            self.battery_size == 100\n",
    "            print(\"UPgraded the battery size to 100 \")\n",
    "        else:\n",
    "            print(\"The battery size is already upgraded.\")\n",
    "    \n",
    "    \n",
    "    \n",
    "class ElectricCar(Car):\n",
    "    \n",
    "    def __init__(self, make, model, year):\n",
    "        super().__init__(make,model,year)\n",
    "        self.battery = Battery()\n",
    "        \n",
    "my_tesla = ElectricCar('Tesla','model S',2019)\n",
    "print(my_tesla.get_descriptive_name())\n",
    "my_tesla.battery.describe_battery()\n",
    "\n",
    "my_tesla.battery.get_range()"
   ]
  },
  {
   "cell_type": "code",
   "execution_count": 108,
   "metadata": {},
   "outputs": [
    {
     "name": "stdout",
     "output_type": "stream",
     "text": [
      "2019 Tesla model S\n",
      "The size of the battery is 75 -kWh.\n",
      "This car can go about the 260 miles on a full charge.\n"
     ]
    }
   ],
   "source": [
    "my_tesla = ElectricCar('Tesla','model S',2019)\n",
    "print(my_tesla.get_descriptive_name())\n",
    "my_tesla.battery.describe_battery()\n",
    "\n",
    "my_tesla.battery.get_range()"
   ]
  },
  {
   "cell_type": "code",
   "execution_count": null,
   "metadata": {},
   "outputs": [],
   "source": [
    "my_tesla.battery.upgrade_battery()\n",
    "my_tesla.battery.get_range()"
   ]
  },
  {
   "cell_type": "code",
   "execution_count": 113,
   "metadata": {},
   "outputs": [],
   "source": [
    "## 9-13 ||||                  D I C E "
   ]
  },
  {
   "cell_type": "code",
   "execution_count": 3,
   "metadata": {},
   "outputs": [
    {
     "name": "stdout",
     "output_type": "stream",
     "text": [
      "10 rolls of a 6-sided die:\n",
      "[5, 1, 4, 1, 4, 3, 6, 1, 3, 6]\n",
      "\n",
      "10 rolls of a 10-sided die:\n",
      "[2, 10, 2, 9, 9, 9, 3, 6, 4, 6]\n",
      "\n",
      "10 rolls of a 20-sided die:\n",
      "[4, 14, 19, 14, 7, 13, 20, 4, 10, 20]\n"
     ]
    }
   ],
   "source": [
    "from random import randint\n",
    "\n",
    "class Dice():\n",
    "    \n",
    "    def __init__(self, sides = 6):\n",
    "        self.sides = sides\n",
    "        \n",
    "    def roll_die(self):\n",
    "        return randint(1,self.sides)\n",
    "    \n",
    "\n",
    "d6 = Dice()   \n",
    "\n",
    "results = []\n",
    "for roll_num in range(10):\n",
    "    result = d6.roll_die()\n",
    "    results.append(result)\n",
    "print(\"10 rolls of a 6-sided die:\")\n",
    "print(results)\n",
    "\n",
    "d10 = Dice(sides = 10)\n",
    "\n",
    "results = []\n",
    "for roll_num in range(10):\n",
    "    result = d10.roll_die()\n",
    "    results.append(result)\n",
    "print(\"\\n10 rolls of a 10-sided die:\")\n",
    "print(results)\n",
    "\n",
    "# Make a 20-sided die, and show the results of 10 rolls.\n",
    "d20 = Dice(sides=20)\n",
    "\n",
    "results = []\n",
    "for roll_num in range(10):\n",
    "    result = d20.roll_die()\n",
    "    results.append(result)\n",
    "print(\"\\n10 rolls of a 20-sided die:\")\n",
    "print(results)"
   ]
  },
  {
   "cell_type": "code",
   "execution_count": 16,
   "metadata": {},
   "outputs": [
    {
     "name": "stdout",
     "output_type": "stream",
     "text": [
      "10 rolls of a 6 sided die:\n",
      "[4, 4, 6, 6, 2, 4]\n",
      "\n",
      "10 rolls of a 10 sided die\n",
      "[1, 4, 1, 8, 7, 2, 6, 5, 3, 5]\n",
      "\n",
      " 20 rolls of a 20 sided die\n",
      "[7, 18, 4, 17, 20, 15, 1, 10, 15, 16, 6, 17, 19, 11, 4, 1, 18, 1, 17, 14]\n"
     ]
    }
   ],
   "source": [
    "from random import randint \n",
    "\n",
    "class Die():\n",
    "    \n",
    "    def __init__(self, sides = 6):\n",
    "        self.sides = sides\n",
    "        \n",
    "    def roll_die(self):\n",
    "        return randint(1,self.sides)\n",
    "    \n",
    "d6 = Die()\n",
    "\n",
    "results = []\n",
    "\n",
    "for roll_num in range(6):\n",
    "    result = d6.roll_die()\n",
    "    results.append(result)\n",
    "print(\"10 rolls of a 6 sided die:\") \n",
    "print(results)\n",
    "\n",
    "d10 = Die(sides = 10)\n",
    "results = []\n",
    "\n",
    "for roll_num in range(10):\n",
    "    result = d10.roll_die()\n",
    "    results.append(result)\n",
    "print(\"\\n10 rolls of a 10 sided die\")\n",
    "print(results)\n",
    "\n",
    "d20 = Die(sides = 20)\n",
    "results = []\n",
    "\n",
    "for roll_num in range(20):\n",
    "    result = d20.roll_die()\n",
    "    results.append(result)\n",
    "print(\"\\n 20 rolls of a 20 sided die\")\n",
    "print(results)"
   ]
  },
  {
   "cell_type": "code",
   "execution_count": 36,
   "metadata": {},
   "outputs": [
    {
     "name": "stdout",
     "output_type": "stream",
     "text": [
      "Let's check the winning ticket\n",
      " We pulled a 9\n",
      " We pulled a e\n",
      " We pulled a 6\n",
      " We pulled a 3\n"
     ]
    }
   ],
   "source": [
    "lottery = [1,2,3,4,5,6,7,8,9,'a','b','c','d','e']\n",
    "\n",
    "from random import choice\n",
    "\n",
    "winning_ticket = []\n",
    "print(\"Let's check the winning ticket\")\n",
    "\n",
    "while len(winning_ticket) < 4:\n",
    "    pulled_item = choice(lottery)\n",
    "    \n",
    "    if pulled_item not in winning_ticket:\n",
    "        print(f\" We pulled a {pulled_item}\")\n",
    "        winning_ticket.append(pulled_item)"
   ]
  },
  {
   "cell_type": "code",
   "execution_count": 35,
   "metadata": {},
   "outputs": [
    {
     "name": "stdout",
     "output_type": "stream",
     "text": [
      "Let's check the winnning ticket\n",
      "We pulled a 7\n",
      "We pulled a 4\n",
      "We pulled a 2\n",
      "We pulled a c\n"
     ]
    }
   ],
   "source": [
    "lottery = [1,2,3,4,5,6,7,8,9,'a','b','c','d','e']\n",
    "\n",
    "winning_tickets = []\n",
    "print(\"Let's check the winnning ticket\")\n",
    "\n",
    "while len(winning_tickets) < 4:\n",
    "    pulled_item = choice(lottery)\n",
    "    \n",
    "    if pulled_item not in winning_ticket:\n",
    "        print(f\"We pulled a {pulled_item}\")\n",
    "        winning_tickets.append(pulled_item)\n"
   ]
  },
  {
   "cell_type": "code",
   "execution_count": null,
   "metadata": {},
   "outputs": [],
   "source": []
  }
 ],
 "metadata": {
  "kernelspec": {
   "display_name": "Python 3",
   "language": "python",
   "name": "python3"
  },
  "language_info": {
   "codemirror_mode": {
    "name": "ipython",
    "version": 3
   },
   "file_extension": ".py",
   "mimetype": "text/x-python",
   "name": "python",
   "nbconvert_exporter": "python",
   "pygments_lexer": "ipython3",
   "version": "3.7.6"
  }
 },
 "nbformat": 4,
 "nbformat_minor": 4
}
